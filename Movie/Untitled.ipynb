{
 "cells": [
  {
   "cell_type": "markdown",
   "id": "23816d39",
   "metadata": {},
   "source": [
    "### EDA for Movie data set"
   ]
  },
  {
   "cell_type": "code",
   "execution_count": 63,
   "id": "4cca012e",
   "metadata": {},
   "outputs": [],
   "source": [
    "import plotly.express as px\n",
    "import pandas as pd\n",
    "import numpy as np\n",
    "import seaborn as sns\n",
    "import matplotlib.pyplot as plt\n",
    "import os,sys\n",
    "from datetime import datetime"
   ]
  },
  {
   "cell_type": "code",
   "execution_count": 4,
   "id": "28af60de",
   "metadata": {},
   "outputs": [
    {
     "data": {
      "text/html": [
       "<div>\n",
       "<style scoped>\n",
       "    .dataframe tbody tr th:only-of-type {\n",
       "        vertical-align: middle;\n",
       "    }\n",
       "\n",
       "    .dataframe tbody tr th {\n",
       "        vertical-align: top;\n",
       "    }\n",
       "\n",
       "    .dataframe thead th {\n",
       "        text-align: right;\n",
       "    }\n",
       "</style>\n",
       "<table border=\"1\" class=\"dataframe\">\n",
       "  <thead>\n",
       "    <tr style=\"text-align: right;\">\n",
       "      <th></th>\n",
       "      <th>Genre</th>\n",
       "      <th>Production Company</th>\n",
       "      <th>Director</th>\n",
       "      <th>Movie Title</th>\n",
       "      <th>Top Actor</th>\n",
       "      <th>Release year</th>\n",
       "      <th>MPAA Rating</th>\n",
       "      <th>Creative Type</th>\n",
       "      <th>Source</th>\n",
       "      <th>Video Release</th>\n",
       "      <th>Production Method</th>\n",
       "      <th>MovieLens Rating</th>\n",
       "      <th>Movie Length (min)</th>\n",
       "      <th>Opening Weekend Theaters</th>\n",
       "      <th>Maximum Theaters</th>\n",
       "      <th>Release Date</th>\n",
       "      <th>Global Box Office ($)</th>\n",
       "      <th>U.S. Box Office ($)</th>\n",
       "      <th>Int'l Box Office ($)</th>\n",
       "      <th>Budget ($)</th>\n",
       "      <th>Profit ($)</th>\n",
       "      <th>Opening Weekend ($)</th>\n",
       "      <th>U.S. DVD + BluRay Sales ($)</th>\n",
       "    </tr>\n",
       "  </thead>\n",
       "  <tbody>\n",
       "    <tr>\n",
       "      <th>0</th>\n",
       "      <td>Adventure</td>\n",
       "      <td>Centropolis Entertainment</td>\n",
       "      <td>Roland Emmerich</td>\n",
       "      <td>10,000 B.C.</td>\n",
       "      <td>Steven Strait</td>\n",
       "      <td>2008</td>\n",
       "      <td>PG-13</td>\n",
       "      <td>Historical Fiction</td>\n",
       "      <td>Original Screenplay</td>\n",
       "      <td>2008-06-24</td>\n",
       "      <td>Live Action</td>\n",
       "      <td>2.53</td>\n",
       "      <td>109</td>\n",
       "      <td>3410</td>\n",
       "      <td>3454</td>\n",
       "      <td>2008-03-07</td>\n",
       "      <td>295853382</td>\n",
       "      <td>110493559</td>\n",
       "      <td>191632633</td>\n",
       "      <td>115453615</td>\n",
       "      <td>180399768</td>\n",
       "      <td>35867488</td>\n",
       "      <td>0</td>\n",
       "    </tr>\n",
       "    <tr>\n",
       "      <th>1</th>\n",
       "      <td>Comedy</td>\n",
       "      <td>Walt Disney Pictures</td>\n",
       "      <td>Kevin Lima</td>\n",
       "      <td>102 Dalmatians</td>\n",
       "      <td>Glenn Close</td>\n",
       "      <td>2000</td>\n",
       "      <td>G</td>\n",
       "      <td>Kids Fiction</td>\n",
       "      <td>Fiction Book/Short Story</td>\n",
       "      <td>NaT</td>\n",
       "      <td>Live Action</td>\n",
       "      <td>2.42</td>\n",
       "      <td>100</td>\n",
       "      <td>2704</td>\n",
       "      <td>2704</td>\n",
       "      <td>2000-11-22</td>\n",
       "      <td>91968195</td>\n",
       "      <td>103314442</td>\n",
       "      <td>0</td>\n",
       "      <td>116777928</td>\n",
       "      <td>-24809733</td>\n",
       "      <td>19883351</td>\n",
       "      <td>0</td>\n",
       "    </tr>\n",
       "    <tr>\n",
       "      <th>2</th>\n",
       "      <td>Action</td>\n",
       "      <td>Wwe Studios</td>\n",
       "      <td>Renny Harlin</td>\n",
       "      <td>12 Rounds</td>\n",
       "      <td>John Cena</td>\n",
       "      <td>2009</td>\n",
       "      <td>PG-13</td>\n",
       "      <td>Contemporary Fiction</td>\n",
       "      <td>Original Screenplay</td>\n",
       "      <td>2009-06-30</td>\n",
       "      <td>Live Action</td>\n",
       "      <td>2.78</td>\n",
       "      <td>0</td>\n",
       "      <td>2331</td>\n",
       "      <td>2331</td>\n",
       "      <td>2009-03-27</td>\n",
       "      <td>19106092</td>\n",
       "      <td>13653922</td>\n",
       "      <td>5599306</td>\n",
       "      <td>22079483</td>\n",
       "      <td>-2973391</td>\n",
       "      <td>5329240</td>\n",
       "      <td>0</td>\n",
       "    </tr>\n",
       "    <tr>\n",
       "      <th>3</th>\n",
       "      <td>Drama</td>\n",
       "      <td>Regency Enterprises</td>\n",
       "      <td>Steve Rodney Mcqueen</td>\n",
       "      <td>12 Years A Slave</td>\n",
       "      <td>Chiwetel Ejiofor</td>\n",
       "      <td>2013</td>\n",
       "      <td>R</td>\n",
       "      <td>Historical Fiction</td>\n",
       "      <td>Factual Book/Article</td>\n",
       "      <td>2014-03-04</td>\n",
       "      <td>Live Action</td>\n",
       "      <td>3.90</td>\n",
       "      <td>133</td>\n",
       "      <td>19</td>\n",
       "      <td>1474</td>\n",
       "      <td>2013-10-18</td>\n",
       "      <td>183921748</td>\n",
       "      <td>58253216</td>\n",
       "      <td>126343004</td>\n",
       "      <td>20320000</td>\n",
       "      <td>163601748</td>\n",
       "      <td>923715</td>\n",
       "      <td>23731139</td>\n",
       "    </tr>\n",
       "    <tr>\n",
       "      <th>4</th>\n",
       "      <td>Drama</td>\n",
       "      <td>Big Screen Prods</td>\n",
       "      <td>Danny Boyle</td>\n",
       "      <td>127 Hours</td>\n",
       "      <td>James Franco</td>\n",
       "      <td>2010</td>\n",
       "      <td>R</td>\n",
       "      <td>Dramatization</td>\n",
       "      <td>Real Life Events</td>\n",
       "      <td>2011-03-01</td>\n",
       "      <td>Live Action</td>\n",
       "      <td>3.72</td>\n",
       "      <td>93</td>\n",
       "      <td>4</td>\n",
       "      <td>916</td>\n",
       "      <td>2010-11-05</td>\n",
       "      <td>65431298</td>\n",
       "      <td>19408398</td>\n",
       "      <td>45508444</td>\n",
       "      <td>19558597</td>\n",
       "      <td>45872702</td>\n",
       "      <td>264851</td>\n",
       "      <td>13305991</td>\n",
       "    </tr>\n",
       "  </tbody>\n",
       "</table>\n",
       "</div>"
      ],
      "text/plain": [
       "       Genre  ... U.S. DVD + BluRay Sales ($)\n",
       "0  Adventure  ...                           0\n",
       "1     Comedy  ...                           0\n",
       "2     Action  ...                           0\n",
       "3      Drama  ...                    23731139\n",
       "4      Drama  ...                    13305991\n",
       "\n",
       "[5 rows x 23 columns]"
      ]
     },
     "execution_count": 4,
     "metadata": {},
     "output_type": "execute_result"
    }
   ],
   "source": [
    "dataset = pd.read_excel(\"Movie Data cleaned and ready.xlsx\")\n",
    "dataset.head()"
   ]
  },
  {
   "cell_type": "code",
   "execution_count": 5,
   "id": "4b8b4fec",
   "metadata": {},
   "outputs": [
    {
     "data": {
      "text/plain": [
       "(1759, 23)"
      ]
     },
     "execution_count": 5,
     "metadata": {},
     "output_type": "execute_result"
    }
   ],
   "source": [
    "dataset.shape"
   ]
  },
  {
   "cell_type": "code",
   "execution_count": 7,
   "id": "02ed3f92",
   "metadata": {},
   "outputs": [
    {
     "data": {
      "text/plain": [
       "0"
      ]
     },
     "execution_count": 7,
     "metadata": {},
     "output_type": "execute_result"
    }
   ],
   "source": [
    "# to check duplicacy\n",
    "dataset.duplicated().sum()"
   ]
  },
  {
   "cell_type": "code",
   "execution_count": 8,
   "id": "754059f5",
   "metadata": {},
   "outputs": [
    {
     "data": {
      "text/plain": [
       "Genre                            0\n",
       "Production Company               0\n",
       "Director                         0\n",
       "Movie Title                      0\n",
       "Top Actor                        0\n",
       "Release year                     0\n",
       "MPAA Rating                      0\n",
       "Creative Type                    2\n",
       "Source                           0\n",
       "Video Release                  122\n",
       "Production Method                0\n",
       "MovieLens Rating                 0\n",
       "Movie Length (min)               0\n",
       "Opening Weekend Theaters         0\n",
       "Maximum Theaters                 0\n",
       "Release Date                     0\n",
       "Global Box Office ($)            0\n",
       "U.S. Box Office ($)              0\n",
       "Int'l Box Office ($)             0\n",
       "Budget ($)                       0\n",
       "Profit ($)                       0\n",
       "Opening Weekend ($)              0\n",
       "U.S. DVD + BluRay Sales ($)      0\n",
       "dtype: int64"
      ]
     },
     "execution_count": 8,
     "metadata": {},
     "output_type": "execute_result"
    }
   ],
   "source": [
    "# check null values\n",
    "dataset.isnull().sum()"
   ]
  },
  {
   "cell_type": "code",
   "execution_count": 9,
   "id": "005e020d",
   "metadata": {},
   "outputs": [
    {
     "data": {
      "text/html": [
       "<div>\n",
       "<style scoped>\n",
       "    .dataframe tbody tr th:only-of-type {\n",
       "        vertical-align: middle;\n",
       "    }\n",
       "\n",
       "    .dataframe tbody tr th {\n",
       "        vertical-align: top;\n",
       "    }\n",
       "\n",
       "    .dataframe thead th {\n",
       "        text-align: right;\n",
       "    }\n",
       "</style>\n",
       "<table border=\"1\" class=\"dataframe\">\n",
       "  <thead>\n",
       "    <tr style=\"text-align: right;\">\n",
       "      <th></th>\n",
       "      <th>Release year</th>\n",
       "      <th>MovieLens Rating</th>\n",
       "      <th>Movie Length (min)</th>\n",
       "      <th>Opening Weekend Theaters</th>\n",
       "      <th>Maximum Theaters</th>\n",
       "      <th>Global Box Office ($)</th>\n",
       "      <th>U.S. Box Office ($)</th>\n",
       "      <th>Int'l Box Office ($)</th>\n",
       "      <th>Budget ($)</th>\n",
       "      <th>Profit ($)</th>\n",
       "      <th>Opening Weekend ($)</th>\n",
       "      <th>U.S. DVD + BluRay Sales ($)</th>\n",
       "    </tr>\n",
       "  </thead>\n",
       "  <tbody>\n",
       "    <tr>\n",
       "      <th>count</th>\n",
       "      <td>1759.000000</td>\n",
       "      <td>1759.000000</td>\n",
       "      <td>1759.000000</td>\n",
       "      <td>1759.000000</td>\n",
       "      <td>1759.000000</td>\n",
       "      <td>1.759000e+03</td>\n",
       "      <td>1.759000e+03</td>\n",
       "      <td>1.759000e+03</td>\n",
       "      <td>1.759000e+03</td>\n",
       "      <td>1.759000e+03</td>\n",
       "      <td>1.759000e+03</td>\n",
       "      <td>1.759000e+03</td>\n",
       "    </tr>\n",
       "    <tr>\n",
       "      <th>mean</th>\n",
       "      <td>2007.976691</td>\n",
       "      <td>2.999744</td>\n",
       "      <td>102.649801</td>\n",
       "      <td>2142.812393</td>\n",
       "      <td>2357.527004</td>\n",
       "      <td>1.988734e+08</td>\n",
       "      <td>9.354503e+07</td>\n",
       "      <td>1.097534e+08</td>\n",
       "      <td>5.985111e+07</td>\n",
       "      <td>1.390223e+08</td>\n",
       "      <td>1.950491e+07</td>\n",
       "      <td>1.704992e+07</td>\n",
       "    </tr>\n",
       "    <tr>\n",
       "      <th>std</th>\n",
       "      <td>6.169766</td>\n",
       "      <td>0.940848</td>\n",
       "      <td>33.755666</td>\n",
       "      <td>1397.803360</td>\n",
       "      <td>1243.215080</td>\n",
       "      <td>3.206765e+08</td>\n",
       "      <td>1.281538e+08</td>\n",
       "      <td>1.930156e+08</td>\n",
       "      <td>5.714483e+07</td>\n",
       "      <td>2.909628e+08</td>\n",
       "      <td>2.488012e+07</td>\n",
       "      <td>4.234444e+07</td>\n",
       "    </tr>\n",
       "    <tr>\n",
       "      <th>min</th>\n",
       "      <td>1939.000000</td>\n",
       "      <td>0.000000</td>\n",
       "      <td>0.000000</td>\n",
       "      <td>0.000000</td>\n",
       "      <td>0.000000</td>\n",
       "      <td>5.870000e+02</td>\n",
       "      <td>5.870000e+02</td>\n",
       "      <td>0.000000e+00</td>\n",
       "      <td>5.870000e+02</td>\n",
       "      <td>-1.162926e+08</td>\n",
       "      <td>0.000000e+00</td>\n",
       "      <td>0.000000e+00</td>\n",
       "    </tr>\n",
       "    <tr>\n",
       "      <th>25%</th>\n",
       "      <td>2004.000000</td>\n",
       "      <td>2.850000</td>\n",
       "      <td>94.000000</td>\n",
       "      <td>381.500000</td>\n",
       "      <td>1533.500000</td>\n",
       "      <td>3.022680e+07</td>\n",
       "      <td>1.812954e+07</td>\n",
       "      <td>6.830084e+06</td>\n",
       "      <td>1.742186e+07</td>\n",
       "      <td>2.468105e+06</td>\n",
       "      <td>1.552238e+06</td>\n",
       "      <td>0.000000e+00</td>\n",
       "    </tr>\n",
       "    <tr>\n",
       "      <th>50%</th>\n",
       "      <td>2010.000000</td>\n",
       "      <td>3.210000</td>\n",
       "      <td>105.000000</td>\n",
       "      <td>2653.000000</td>\n",
       "      <td>2759.000000</td>\n",
       "      <td>1.006259e+08</td>\n",
       "      <td>5.574433e+07</td>\n",
       "      <td>4.437410e+07</td>\n",
       "      <td>4.106546e+07</td>\n",
       "      <td>5.135490e+07</td>\n",
       "      <td>1.269142e+07</td>\n",
       "      <td>0.000000e+00</td>\n",
       "    </tr>\n",
       "    <tr>\n",
       "      <th>75%</th>\n",
       "      <td>2012.000000</td>\n",
       "      <td>3.550000</td>\n",
       "      <td>120.000000</td>\n",
       "      <td>3183.000000</td>\n",
       "      <td>3238.000000</td>\n",
       "      <td>2.431852e+08</td>\n",
       "      <td>1.208165e+08</td>\n",
       "      <td>1.287283e+08</td>\n",
       "      <td>8.764093e+07</td>\n",
       "      <td>1.625146e+08</td>\n",
       "      <td>2.570203e+07</td>\n",
       "      <td>1.517612e+07</td>\n",
       "    </tr>\n",
       "    <tr>\n",
       "      <th>max</th>\n",
       "      <td>2015.000000</td>\n",
       "      <td>4.250000</td>\n",
       "      <td>220.000000</td>\n",
       "      <td>4468.000000</td>\n",
       "      <td>4468.000000</td>\n",
       "      <td>6.647237e+09</td>\n",
       "      <td>2.033988e+09</td>\n",
       "      <td>3.265442e+09</td>\n",
       "      <td>4.691890e+08</td>\n",
       "      <td>6.580854e+09</td>\n",
       "      <td>2.088063e+08</td>\n",
       "      <td>5.462207e+08</td>\n",
       "    </tr>\n",
       "  </tbody>\n",
       "</table>\n",
       "</div>"
      ],
      "text/plain": [
       "       Release year  ...  U.S. DVD + BluRay Sales ($)\n",
       "count   1759.000000  ...                 1.759000e+03\n",
       "mean    2007.976691  ...                 1.704992e+07\n",
       "std        6.169766  ...                 4.234444e+07\n",
       "min     1939.000000  ...                 0.000000e+00\n",
       "25%     2004.000000  ...                 0.000000e+00\n",
       "50%     2010.000000  ...                 0.000000e+00\n",
       "75%     2012.000000  ...                 1.517612e+07\n",
       "max     2015.000000  ...                 5.462207e+08\n",
       "\n",
       "[8 rows x 12 columns]"
      ]
     },
     "execution_count": 9,
     "metadata": {},
     "output_type": "execute_result"
    }
   ],
   "source": [
    "dataset.describe()"
   ]
  },
  {
   "cell_type": "code",
   "execution_count": 10,
   "id": "3342a16f",
   "metadata": {},
   "outputs": [
    {
     "data": {
      "text/plain": [
       "Drama                  441\n",
       "Comedy                 376\n",
       "Action                 234\n",
       "Adventure              232\n",
       "Thriller/Suspense      212\n",
       "Romantic Comedy         98\n",
       "Horror                  87\n",
       "Documentary             24\n",
       "Black Comedy            22\n",
       "Musical                 20\n",
       "Western                  8\n",
       "Concert/Performance      5\n",
       "Name: Genre, dtype: int64"
      ]
     },
     "execution_count": 10,
     "metadata": {},
     "output_type": "execute_result"
    }
   ],
   "source": [
    "# Univariate Analysis\n",
    "\n",
    "dataset.Genre.value_counts()"
   ]
  },
  {
   "cell_type": "code",
   "execution_count": 27,
   "id": "74828031",
   "metadata": {},
   "outputs": [
    {
     "data": {
      "application/vnd.plotly.v1+json": {
       "config": {
        "plotlyServerURL": "https://plot.ly"
       },
       "data": [
        {
         "alignmentgroup": "True",
         "bingroup": "x",
         "hovertemplate": "Genre=%{x}<br>count=%{y}<extra></extra>",
         "legendgroup": "Adventure",
         "marker": {
          "color": "rgb(76,114,176)",
          "pattern": {
           "shape": ""
          }
         },
         "name": "Adventure",
         "offsetgroup": "Adventure",
         "orientation": "v",
         "showlegend": true,
         "texttemplate": "%{value}",
         "type": "histogram",
         "x": [
          "Adventure",
          "Adventure",
          "Adventure",
          "Adventure",
          "Adventure",
          "Adventure",
          "Adventure",
          "Adventure",
          "Adventure",
          "Adventure",
          "Adventure",
          "Adventure",
          "Adventure",
          "Adventure",
          "Adventure",
          "Adventure",
          "Adventure",
          "Adventure",
          "Adventure",
          "Adventure",
          "Adventure",
          "Adventure",
          "Adventure",
          "Adventure",
          "Adventure",
          "Adventure",
          "Adventure",
          "Adventure",
          "Adventure",
          "Adventure",
          "Adventure",
          "Adventure",
          "Adventure",
          "Adventure",
          "Adventure",
          "Adventure",
          "Adventure",
          "Adventure",
          "Adventure",
          "Adventure",
          "Adventure",
          "Adventure",
          "Adventure",
          "Adventure",
          "Adventure",
          "Adventure",
          "Adventure",
          "Adventure",
          "Adventure",
          "Adventure",
          "Adventure",
          "Adventure",
          "Adventure",
          "Adventure",
          "Adventure",
          "Adventure",
          "Adventure",
          "Adventure",
          "Adventure",
          "Adventure",
          "Adventure",
          "Adventure",
          "Adventure",
          "Adventure",
          "Adventure",
          "Adventure",
          "Adventure",
          "Adventure",
          "Adventure",
          "Adventure",
          "Adventure",
          "Adventure",
          "Adventure",
          "Adventure",
          "Adventure",
          "Adventure",
          "Adventure",
          "Adventure",
          "Adventure",
          "Adventure",
          "Adventure",
          "Adventure",
          "Adventure",
          "Adventure",
          "Adventure",
          "Adventure",
          "Adventure",
          "Adventure",
          "Adventure",
          "Adventure",
          "Adventure",
          "Adventure",
          "Adventure",
          "Adventure",
          "Adventure",
          "Adventure",
          "Adventure",
          "Adventure",
          "Adventure",
          "Adventure",
          "Adventure",
          "Adventure",
          "Adventure",
          "Adventure",
          "Adventure",
          "Adventure",
          "Adventure",
          "Adventure",
          "Adventure",
          "Adventure",
          "Adventure",
          "Adventure",
          "Adventure",
          "Adventure",
          "Adventure",
          "Adventure",
          "Adventure",
          "Adventure",
          "Adventure",
          "Adventure",
          "Adventure",
          "Adventure",
          "Adventure",
          "Adventure",
          "Adventure",
          "Adventure",
          "Adventure",
          "Adventure",
          "Adventure",
          "Adventure",
          "Adventure",
          "Adventure",
          "Adventure",
          "Adventure",
          "Adventure",
          "Adventure",
          "Adventure",
          "Adventure",
          "Adventure",
          "Adventure",
          "Adventure",
          "Adventure",
          "Adventure",
          "Adventure",
          "Adventure",
          "Adventure",
          "Adventure",
          "Adventure",
          "Adventure",
          "Adventure",
          "Adventure",
          "Adventure",
          "Adventure",
          "Adventure",
          "Adventure",
          "Adventure",
          "Adventure",
          "Adventure",
          "Adventure",
          "Adventure",
          "Adventure",
          "Adventure",
          "Adventure",
          "Adventure",
          "Adventure",
          "Adventure",
          "Adventure",
          "Adventure",
          "Adventure",
          "Adventure",
          "Adventure",
          "Adventure",
          "Adventure",
          "Adventure",
          "Adventure",
          "Adventure",
          "Adventure",
          "Adventure",
          "Adventure",
          "Adventure",
          "Adventure",
          "Adventure",
          "Adventure",
          "Adventure",
          "Adventure",
          "Adventure",
          "Adventure",
          "Adventure",
          "Adventure",
          "Adventure",
          "Adventure",
          "Adventure",
          "Adventure",
          "Adventure",
          "Adventure",
          "Adventure",
          "Adventure",
          "Adventure",
          "Adventure",
          "Adventure",
          "Adventure",
          "Adventure",
          "Adventure",
          "Adventure",
          "Adventure",
          "Adventure",
          "Adventure",
          "Adventure",
          "Adventure",
          "Adventure",
          "Adventure",
          "Adventure",
          "Adventure",
          "Adventure",
          "Adventure",
          "Adventure",
          "Adventure",
          "Adventure",
          "Adventure",
          "Adventure",
          "Adventure",
          "Adventure",
          "Adventure",
          "Adventure",
          "Adventure",
          "Adventure",
          "Adventure",
          "Adventure",
          "Adventure",
          "Adventure",
          "Adventure",
          "Adventure"
         ],
         "xaxis": "x",
         "yaxis": "y"
        },
        {
         "alignmentgroup": "True",
         "bingroup": "x",
         "hovertemplate": "Genre=%{x}<br>count=%{y}<extra></extra>",
         "legendgroup": "Comedy",
         "marker": {
          "color": "rgb(221,132,82)",
          "pattern": {
           "shape": ""
          }
         },
         "name": "Comedy",
         "offsetgroup": "Comedy",
         "orientation": "v",
         "showlegend": true,
         "texttemplate": "%{value}",
         "type": "histogram",
         "x": [
          "Comedy",
          "Comedy",
          "Comedy",
          "Comedy",
          "Comedy",
          "Comedy",
          "Comedy",
          "Comedy",
          "Comedy",
          "Comedy",
          "Comedy",
          "Comedy",
          "Comedy",
          "Comedy",
          "Comedy",
          "Comedy",
          "Comedy",
          "Comedy",
          "Comedy",
          "Comedy",
          "Comedy",
          "Comedy",
          "Comedy",
          "Comedy",
          "Comedy",
          "Comedy",
          "Comedy",
          "Comedy",
          "Comedy",
          "Comedy",
          "Comedy",
          "Comedy",
          "Comedy",
          "Comedy",
          "Comedy",
          "Comedy",
          "Comedy",
          "Comedy",
          "Comedy",
          "Comedy",
          "Comedy",
          "Comedy",
          "Comedy",
          "Comedy",
          "Comedy",
          "Comedy",
          "Comedy",
          "Comedy",
          "Comedy",
          "Comedy",
          "Comedy",
          "Comedy",
          "Comedy",
          "Comedy",
          "Comedy",
          "Comedy",
          "Comedy",
          "Comedy",
          "Comedy",
          "Comedy",
          "Comedy",
          "Comedy",
          "Comedy",
          "Comedy",
          "Comedy",
          "Comedy",
          "Comedy",
          "Comedy",
          "Comedy",
          "Comedy",
          "Comedy",
          "Comedy",
          "Comedy",
          "Comedy",
          "Comedy",
          "Comedy",
          "Comedy",
          "Comedy",
          "Comedy",
          "Comedy",
          "Comedy",
          "Comedy",
          "Comedy",
          "Comedy",
          "Comedy",
          "Comedy",
          "Comedy",
          "Comedy",
          "Comedy",
          "Comedy",
          "Comedy",
          "Comedy",
          "Comedy",
          "Comedy",
          "Comedy",
          "Comedy",
          "Comedy",
          "Comedy",
          "Comedy",
          "Comedy",
          "Comedy",
          "Comedy",
          "Comedy",
          "Comedy",
          "Comedy",
          "Comedy",
          "Comedy",
          "Comedy",
          "Comedy",
          "Comedy",
          "Comedy",
          "Comedy",
          "Comedy",
          "Comedy",
          "Comedy",
          "Comedy",
          "Comedy",
          "Comedy",
          "Comedy",
          "Comedy",
          "Comedy",
          "Comedy",
          "Comedy",
          "Comedy",
          "Comedy",
          "Comedy",
          "Comedy",
          "Comedy",
          "Comedy",
          "Comedy",
          "Comedy",
          "Comedy",
          "Comedy",
          "Comedy",
          "Comedy",
          "Comedy",
          "Comedy",
          "Comedy",
          "Comedy",
          "Comedy",
          "Comedy",
          "Comedy",
          "Comedy",
          "Comedy",
          "Comedy",
          "Comedy",
          "Comedy",
          "Comedy",
          "Comedy",
          "Comedy",
          "Comedy",
          "Comedy",
          "Comedy",
          "Comedy",
          "Comedy",
          "Comedy",
          "Comedy",
          "Comedy",
          "Comedy",
          "Comedy",
          "Comedy",
          "Comedy",
          "Comedy",
          "Comedy",
          "Comedy",
          "Comedy",
          "Comedy",
          "Comedy",
          "Comedy",
          "Comedy",
          "Comedy",
          "Comedy",
          "Comedy",
          "Comedy",
          "Comedy",
          "Comedy",
          "Comedy",
          "Comedy",
          "Comedy",
          "Comedy",
          "Comedy",
          "Comedy",
          "Comedy",
          "Comedy",
          "Comedy",
          "Comedy",
          "Comedy",
          "Comedy",
          "Comedy",
          "Comedy",
          "Comedy",
          "Comedy",
          "Comedy",
          "Comedy",
          "Comedy",
          "Comedy",
          "Comedy",
          "Comedy",
          "Comedy",
          "Comedy",
          "Comedy",
          "Comedy",
          "Comedy",
          "Comedy",
          "Comedy",
          "Comedy",
          "Comedy",
          "Comedy",
          "Comedy",
          "Comedy",
          "Comedy",
          "Comedy",
          "Comedy",
          "Comedy",
          "Comedy",
          "Comedy",
          "Comedy",
          "Comedy",
          "Comedy",
          "Comedy",
          "Comedy",
          "Comedy",
          "Comedy",
          "Comedy",
          "Comedy",
          "Comedy",
          "Comedy",
          "Comedy",
          "Comedy",
          "Comedy",
          "Comedy",
          "Comedy",
          "Comedy",
          "Comedy",
          "Comedy",
          "Comedy",
          "Comedy",
          "Comedy",
          "Comedy",
          "Comedy",
          "Comedy",
          "Comedy",
          "Comedy",
          "Comedy",
          "Comedy",
          "Comedy",
          "Comedy",
          "Comedy",
          "Comedy",
          "Comedy",
          "Comedy",
          "Comedy",
          "Comedy",
          "Comedy",
          "Comedy",
          "Comedy",
          "Comedy",
          "Comedy",
          "Comedy",
          "Comedy",
          "Comedy",
          "Comedy",
          "Comedy",
          "Comedy",
          "Comedy",
          "Comedy",
          "Comedy",
          "Comedy",
          "Comedy",
          "Comedy",
          "Comedy",
          "Comedy",
          "Comedy",
          "Comedy",
          "Comedy",
          "Comedy",
          "Comedy",
          "Comedy",
          "Comedy",
          "Comedy",
          "Comedy",
          "Comedy",
          "Comedy",
          "Comedy",
          "Comedy",
          "Comedy",
          "Comedy",
          "Comedy",
          "Comedy",
          "Comedy",
          "Comedy",
          "Comedy",
          "Comedy",
          "Comedy",
          "Comedy",
          "Comedy",
          "Comedy",
          "Comedy",
          "Comedy",
          "Comedy",
          "Comedy",
          "Comedy",
          "Comedy",
          "Comedy",
          "Comedy",
          "Comedy",
          "Comedy",
          "Comedy",
          "Comedy",
          "Comedy",
          "Comedy",
          "Comedy",
          "Comedy",
          "Comedy",
          "Comedy",
          "Comedy",
          "Comedy",
          "Comedy",
          "Comedy",
          "Comedy",
          "Comedy",
          "Comedy",
          "Comedy",
          "Comedy",
          "Comedy",
          "Comedy",
          "Comedy",
          "Comedy",
          "Comedy",
          "Comedy",
          "Comedy",
          "Comedy",
          "Comedy",
          "Comedy",
          "Comedy",
          "Comedy",
          "Comedy",
          "Comedy",
          "Comedy",
          "Comedy",
          "Comedy",
          "Comedy",
          "Comedy",
          "Comedy",
          "Comedy",
          "Comedy",
          "Comedy",
          "Comedy",
          "Comedy",
          "Comedy",
          "Comedy",
          "Comedy",
          "Comedy",
          "Comedy",
          "Comedy",
          "Comedy",
          "Comedy",
          "Comedy",
          "Comedy",
          "Comedy",
          "Comedy",
          "Comedy",
          "Comedy",
          "Comedy",
          "Comedy",
          "Comedy",
          "Comedy",
          "Comedy",
          "Comedy",
          "Comedy",
          "Comedy",
          "Comedy",
          "Comedy",
          "Comedy",
          "Comedy",
          "Comedy"
         ],
         "xaxis": "x",
         "yaxis": "y"
        },
        {
         "alignmentgroup": "True",
         "bingroup": "x",
         "hovertemplate": "Genre=%{x}<br>count=%{y}<extra></extra>",
         "legendgroup": "Action",
         "marker": {
          "color": "rgb(85,168,104)",
          "pattern": {
           "shape": ""
          }
         },
         "name": "Action",
         "offsetgroup": "Action",
         "orientation": "v",
         "showlegend": true,
         "texttemplate": "%{value}",
         "type": "histogram",
         "x": [
          "Action",
          "Action",
          "Action",
          "Action",
          "Action",
          "Action",
          "Action",
          "Action",
          "Action",
          "Action",
          "Action",
          "Action",
          "Action",
          "Action",
          "Action",
          "Action",
          "Action",
          "Action",
          "Action",
          "Action",
          "Action",
          "Action",
          "Action",
          "Action",
          "Action",
          "Action",
          "Action",
          "Action",
          "Action",
          "Action",
          "Action",
          "Action",
          "Action",
          "Action",
          "Action",
          "Action",
          "Action",
          "Action",
          "Action",
          "Action",
          "Action",
          "Action",
          "Action",
          "Action",
          "Action",
          "Action",
          "Action",
          "Action",
          "Action",
          "Action",
          "Action",
          "Action",
          "Action",
          "Action",
          "Action",
          "Action",
          "Action",
          "Action",
          "Action",
          "Action",
          "Action",
          "Action",
          "Action",
          "Action",
          "Action",
          "Action",
          "Action",
          "Action",
          "Action",
          "Action",
          "Action",
          "Action",
          "Action",
          "Action",
          "Action",
          "Action",
          "Action",
          "Action",
          "Action",
          "Action",
          "Action",
          "Action",
          "Action",
          "Action",
          "Action",
          "Action",
          "Action",
          "Action",
          "Action",
          "Action",
          "Action",
          "Action",
          "Action",
          "Action",
          "Action",
          "Action",
          "Action",
          "Action",
          "Action",
          "Action",
          "Action",
          "Action",
          "Action",
          "Action",
          "Action",
          "Action",
          "Action",
          "Action",
          "Action",
          "Action",
          "Action",
          "Action",
          "Action",
          "Action",
          "Action",
          "Action",
          "Action",
          "Action",
          "Action",
          "Action",
          "Action",
          "Action",
          "Action",
          "Action",
          "Action",
          "Action",
          "Action",
          "Action",
          "Action",
          "Action",
          "Action",
          "Action",
          "Action",
          "Action",
          "Action",
          "Action",
          "Action",
          "Action",
          "Action",
          "Action",
          "Action",
          "Action",
          "Action",
          "Action",
          "Action",
          "Action",
          "Action",
          "Action",
          "Action",
          "Action",
          "Action",
          "Action",
          "Action",
          "Action",
          "Action",
          "Action",
          "Action",
          "Action",
          "Action",
          "Action",
          "Action",
          "Action",
          "Action",
          "Action",
          "Action",
          "Action",
          "Action",
          "Action",
          "Action",
          "Action",
          "Action",
          "Action",
          "Action",
          "Action",
          "Action",
          "Action",
          "Action",
          "Action",
          "Action",
          "Action",
          "Action",
          "Action",
          "Action",
          "Action",
          "Action",
          "Action",
          "Action",
          "Action",
          "Action",
          "Action",
          "Action",
          "Action",
          "Action",
          "Action",
          "Action",
          "Action",
          "Action",
          "Action",
          "Action",
          "Action",
          "Action",
          "Action",
          "Action",
          "Action",
          "Action",
          "Action",
          "Action",
          "Action",
          "Action",
          "Action",
          "Action",
          "Action",
          "Action",
          "Action",
          "Action",
          "Action",
          "Action",
          "Action",
          "Action",
          "Action",
          "Action",
          "Action",
          "Action",
          "Action",
          "Action",
          "Action",
          "Action",
          "Action",
          "Action",
          "Action",
          "Action",
          "Action",
          "Action",
          "Action"
         ],
         "xaxis": "x",
         "yaxis": "y"
        },
        {
         "alignmentgroup": "True",
         "bingroup": "x",
         "hovertemplate": "Genre=%{x}<br>count=%{y}<extra></extra>",
         "legendgroup": "Drama",
         "marker": {
          "color": "rgb(196,78,82)",
          "pattern": {
           "shape": ""
          }
         },
         "name": "Drama",
         "offsetgroup": "Drama",
         "orientation": "v",
         "showlegend": true,
         "texttemplate": "%{value}",
         "type": "histogram",
         "x": [
          "Drama",
          "Drama",
          "Drama",
          "Drama",
          "Drama",
          "Drama",
          "Drama",
          "Drama",
          "Drama",
          "Drama",
          "Drama",
          "Drama",
          "Drama",
          "Drama",
          "Drama",
          "Drama",
          "Drama",
          "Drama",
          "Drama",
          "Drama",
          "Drama",
          "Drama",
          "Drama",
          "Drama",
          "Drama",
          "Drama",
          "Drama",
          "Drama",
          "Drama",
          "Drama",
          "Drama",
          "Drama",
          "Drama",
          "Drama",
          "Drama",
          "Drama",
          "Drama",
          "Drama",
          "Drama",
          "Drama",
          "Drama",
          "Drama",
          "Drama",
          "Drama",
          "Drama",
          "Drama",
          "Drama",
          "Drama",
          "Drama",
          "Drama",
          "Drama",
          "Drama",
          "Drama",
          "Drama",
          "Drama",
          "Drama",
          "Drama",
          "Drama",
          "Drama",
          "Drama",
          "Drama",
          "Drama",
          "Drama",
          "Drama",
          "Drama",
          "Drama",
          "Drama",
          "Drama",
          "Drama",
          "Drama",
          "Drama",
          "Drama",
          "Drama",
          "Drama",
          "Drama",
          "Drama",
          "Drama",
          "Drama",
          "Drama",
          "Drama",
          "Drama",
          "Drama",
          "Drama",
          "Drama",
          "Drama",
          "Drama",
          "Drama",
          "Drama",
          "Drama",
          "Drama",
          "Drama",
          "Drama",
          "Drama",
          "Drama",
          "Drama",
          "Drama",
          "Drama",
          "Drama",
          "Drama",
          "Drama",
          "Drama",
          "Drama",
          "Drama",
          "Drama",
          "Drama",
          "Drama",
          "Drama",
          "Drama",
          "Drama",
          "Drama",
          "Drama",
          "Drama",
          "Drama",
          "Drama",
          "Drama",
          "Drama",
          "Drama",
          "Drama",
          "Drama",
          "Drama",
          "Drama",
          "Drama",
          "Drama",
          "Drama",
          "Drama",
          "Drama",
          "Drama",
          "Drama",
          "Drama",
          "Drama",
          "Drama",
          "Drama",
          "Drama",
          "Drama",
          "Drama",
          "Drama",
          "Drama",
          "Drama",
          "Drama",
          "Drama",
          "Drama",
          "Drama",
          "Drama",
          "Drama",
          "Drama",
          "Drama",
          "Drama",
          "Drama",
          "Drama",
          "Drama",
          "Drama",
          "Drama",
          "Drama",
          "Drama",
          "Drama",
          "Drama",
          "Drama",
          "Drama",
          "Drama",
          "Drama",
          "Drama",
          "Drama",
          "Drama",
          "Drama",
          "Drama",
          "Drama",
          "Drama",
          "Drama",
          "Drama",
          "Drama",
          "Drama",
          "Drama",
          "Drama",
          "Drama",
          "Drama",
          "Drama",
          "Drama",
          "Drama",
          "Drama",
          "Drama",
          "Drama",
          "Drama",
          "Drama",
          "Drama",
          "Drama",
          "Drama",
          "Drama",
          "Drama",
          "Drama",
          "Drama",
          "Drama",
          "Drama",
          "Drama",
          "Drama",
          "Drama",
          "Drama",
          "Drama",
          "Drama",
          "Drama",
          "Drama",
          "Drama",
          "Drama",
          "Drama",
          "Drama",
          "Drama",
          "Drama",
          "Drama",
          "Drama",
          "Drama",
          "Drama",
          "Drama",
          "Drama",
          "Drama",
          "Drama",
          "Drama",
          "Drama",
          "Drama",
          "Drama",
          "Drama",
          "Drama",
          "Drama",
          "Drama",
          "Drama",
          "Drama",
          "Drama",
          "Drama",
          "Drama",
          "Drama",
          "Drama",
          "Drama",
          "Drama",
          "Drama",
          "Drama",
          "Drama",
          "Drama",
          "Drama",
          "Drama",
          "Drama",
          "Drama",
          "Drama",
          "Drama",
          "Drama",
          "Drama",
          "Drama",
          "Drama",
          "Drama",
          "Drama",
          "Drama",
          "Drama",
          "Drama",
          "Drama",
          "Drama",
          "Drama",
          "Drama",
          "Drama",
          "Drama",
          "Drama",
          "Drama",
          "Drama",
          "Drama",
          "Drama",
          "Drama",
          "Drama",
          "Drama",
          "Drama",
          "Drama",
          "Drama",
          "Drama",
          "Drama",
          "Drama",
          "Drama",
          "Drama",
          "Drama",
          "Drama",
          "Drama",
          "Drama",
          "Drama",
          "Drama",
          "Drama",
          "Drama",
          "Drama",
          "Drama",
          "Drama",
          "Drama",
          "Drama",
          "Drama",
          "Drama",
          "Drama",
          "Drama",
          "Drama",
          "Drama",
          "Drama",
          "Drama",
          "Drama",
          "Drama",
          "Drama",
          "Drama",
          "Drama",
          "Drama",
          "Drama",
          "Drama",
          "Drama",
          "Drama",
          "Drama",
          "Drama",
          "Drama",
          "Drama",
          "Drama",
          "Drama",
          "Drama",
          "Drama",
          "Drama",
          "Drama",
          "Drama",
          "Drama",
          "Drama",
          "Drama",
          "Drama",
          "Drama",
          "Drama",
          "Drama",
          "Drama",
          "Drama",
          "Drama",
          "Drama",
          "Drama",
          "Drama",
          "Drama",
          "Drama",
          "Drama",
          "Drama",
          "Drama",
          "Drama",
          "Drama",
          "Drama",
          "Drama",
          "Drama",
          "Drama",
          "Drama",
          "Drama",
          "Drama",
          "Drama",
          "Drama",
          "Drama",
          "Drama",
          "Drama",
          "Drama",
          "Drama",
          "Drama",
          "Drama",
          "Drama",
          "Drama",
          "Drama",
          "Drama",
          "Drama",
          "Drama",
          "Drama",
          "Drama",
          "Drama",
          "Drama",
          "Drama",
          "Drama",
          "Drama",
          "Drama",
          "Drama",
          "Drama",
          "Drama",
          "Drama",
          "Drama",
          "Drama",
          "Drama",
          "Drama",
          "Drama",
          "Drama",
          "Drama",
          "Drama",
          "Drama",
          "Drama",
          "Drama",
          "Drama",
          "Drama",
          "Drama",
          "Drama",
          "Drama",
          "Drama",
          "Drama",
          "Drama",
          "Drama",
          "Drama",
          "Drama",
          "Drama",
          "Drama",
          "Drama",
          "Drama",
          "Drama",
          "Drama",
          "Drama",
          "Drama",
          "Drama",
          "Drama",
          "Drama",
          "Drama",
          "Drama",
          "Drama",
          "Drama",
          "Drama",
          "Drama",
          "Drama",
          "Drama",
          "Drama",
          "Drama",
          "Drama",
          "Drama",
          "Drama",
          "Drama",
          "Drama",
          "Drama",
          "Drama",
          "Drama",
          "Drama",
          "Drama",
          "Drama",
          "Drama",
          "Drama",
          "Drama",
          "Drama",
          "Drama",
          "Drama",
          "Drama",
          "Drama",
          "Drama",
          "Drama",
          "Drama",
          "Drama",
          "Drama",
          "Drama",
          "Drama",
          "Drama",
          "Drama",
          "Drama",
          "Drama"
         ],
         "xaxis": "x",
         "yaxis": "y"
        },
        {
         "alignmentgroup": "True",
         "bingroup": "x",
         "hovertemplate": "Genre=%{x}<br>count=%{y}<extra></extra>",
         "legendgroup": "Romantic Comedy",
         "marker": {
          "color": "rgb(129,114,179)",
          "pattern": {
           "shape": ""
          }
         },
         "name": "Romantic Comedy",
         "offsetgroup": "Romantic Comedy",
         "orientation": "v",
         "showlegend": true,
         "texttemplate": "%{value}",
         "type": "histogram",
         "x": [
          "Romantic Comedy",
          "Romantic Comedy",
          "Romantic Comedy",
          "Romantic Comedy",
          "Romantic Comedy",
          "Romantic Comedy",
          "Romantic Comedy",
          "Romantic Comedy",
          "Romantic Comedy",
          "Romantic Comedy",
          "Romantic Comedy",
          "Romantic Comedy",
          "Romantic Comedy",
          "Romantic Comedy",
          "Romantic Comedy",
          "Romantic Comedy",
          "Romantic Comedy",
          "Romantic Comedy",
          "Romantic Comedy",
          "Romantic Comedy",
          "Romantic Comedy",
          "Romantic Comedy",
          "Romantic Comedy",
          "Romantic Comedy",
          "Romantic Comedy",
          "Romantic Comedy",
          "Romantic Comedy",
          "Romantic Comedy",
          "Romantic Comedy",
          "Romantic Comedy",
          "Romantic Comedy",
          "Romantic Comedy",
          "Romantic Comedy",
          "Romantic Comedy",
          "Romantic Comedy",
          "Romantic Comedy",
          "Romantic Comedy",
          "Romantic Comedy",
          "Romantic Comedy",
          "Romantic Comedy",
          "Romantic Comedy",
          "Romantic Comedy",
          "Romantic Comedy",
          "Romantic Comedy",
          "Romantic Comedy",
          "Romantic Comedy",
          "Romantic Comedy",
          "Romantic Comedy",
          "Romantic Comedy",
          "Romantic Comedy",
          "Romantic Comedy",
          "Romantic Comedy",
          "Romantic Comedy",
          "Romantic Comedy",
          "Romantic Comedy",
          "Romantic Comedy",
          "Romantic Comedy",
          "Romantic Comedy",
          "Romantic Comedy",
          "Romantic Comedy",
          "Romantic Comedy",
          "Romantic Comedy",
          "Romantic Comedy",
          "Romantic Comedy",
          "Romantic Comedy",
          "Romantic Comedy",
          "Romantic Comedy",
          "Romantic Comedy",
          "Romantic Comedy",
          "Romantic Comedy",
          "Romantic Comedy",
          "Romantic Comedy",
          "Romantic Comedy",
          "Romantic Comedy",
          "Romantic Comedy",
          "Romantic Comedy",
          "Romantic Comedy",
          "Romantic Comedy",
          "Romantic Comedy",
          "Romantic Comedy",
          "Romantic Comedy",
          "Romantic Comedy",
          "Romantic Comedy",
          "Romantic Comedy",
          "Romantic Comedy",
          "Romantic Comedy",
          "Romantic Comedy",
          "Romantic Comedy",
          "Romantic Comedy",
          "Romantic Comedy",
          "Romantic Comedy",
          "Romantic Comedy",
          "Romantic Comedy",
          "Romantic Comedy",
          "Romantic Comedy",
          "Romantic Comedy",
          "Romantic Comedy",
          "Romantic Comedy"
         ],
         "xaxis": "x",
         "yaxis": "y"
        },
        {
         "alignmentgroup": "True",
         "bingroup": "x",
         "hovertemplate": "Genre=%{x}<br>count=%{y}<extra></extra>",
         "legendgroup": "Documentary",
         "marker": {
          "color": "rgb(147,120,96)",
          "pattern": {
           "shape": ""
          }
         },
         "name": "Documentary",
         "offsetgroup": "Documentary",
         "orientation": "v",
         "showlegend": true,
         "texttemplate": "%{value}",
         "type": "histogram",
         "x": [
          "Documentary",
          "Documentary",
          "Documentary",
          "Documentary",
          "Documentary",
          "Documentary",
          "Documentary",
          "Documentary",
          "Documentary",
          "Documentary",
          "Documentary",
          "Documentary",
          "Documentary",
          "Documentary",
          "Documentary",
          "Documentary",
          "Documentary",
          "Documentary",
          "Documentary",
          "Documentary",
          "Documentary",
          "Documentary",
          "Documentary",
          "Documentary"
         ],
         "xaxis": "x",
         "yaxis": "y"
        },
        {
         "alignmentgroup": "True",
         "bingroup": "x",
         "hovertemplate": "Genre=%{x}<br>count=%{y}<extra></extra>",
         "legendgroup": "Thriller/Suspense",
         "marker": {
          "color": "rgb(218,139,195)",
          "pattern": {
           "shape": ""
          }
         },
         "name": "Thriller/Suspense",
         "offsetgroup": "Thriller/Suspense",
         "orientation": "v",
         "showlegend": true,
         "texttemplate": "%{value}",
         "type": "histogram",
         "x": [
          "Thriller/Suspense",
          "Thriller/Suspense",
          "Thriller/Suspense",
          "Thriller/Suspense",
          "Thriller/Suspense",
          "Thriller/Suspense",
          "Thriller/Suspense",
          "Thriller/Suspense",
          "Thriller/Suspense",
          "Thriller/Suspense",
          "Thriller/Suspense",
          "Thriller/Suspense",
          "Thriller/Suspense",
          "Thriller/Suspense",
          "Thriller/Suspense",
          "Thriller/Suspense",
          "Thriller/Suspense",
          "Thriller/Suspense",
          "Thriller/Suspense",
          "Thriller/Suspense",
          "Thriller/Suspense",
          "Thriller/Suspense",
          "Thriller/Suspense",
          "Thriller/Suspense",
          "Thriller/Suspense",
          "Thriller/Suspense",
          "Thriller/Suspense",
          "Thriller/Suspense",
          "Thriller/Suspense",
          "Thriller/Suspense",
          "Thriller/Suspense",
          "Thriller/Suspense",
          "Thriller/Suspense",
          "Thriller/Suspense",
          "Thriller/Suspense",
          "Thriller/Suspense",
          "Thriller/Suspense",
          "Thriller/Suspense",
          "Thriller/Suspense",
          "Thriller/Suspense",
          "Thriller/Suspense",
          "Thriller/Suspense",
          "Thriller/Suspense",
          "Thriller/Suspense",
          "Thriller/Suspense",
          "Thriller/Suspense",
          "Thriller/Suspense",
          "Thriller/Suspense",
          "Thriller/Suspense",
          "Thriller/Suspense",
          "Thriller/Suspense",
          "Thriller/Suspense",
          "Thriller/Suspense",
          "Thriller/Suspense",
          "Thriller/Suspense",
          "Thriller/Suspense",
          "Thriller/Suspense",
          "Thriller/Suspense",
          "Thriller/Suspense",
          "Thriller/Suspense",
          "Thriller/Suspense",
          "Thriller/Suspense",
          "Thriller/Suspense",
          "Thriller/Suspense",
          "Thriller/Suspense",
          "Thriller/Suspense",
          "Thriller/Suspense",
          "Thriller/Suspense",
          "Thriller/Suspense",
          "Thriller/Suspense",
          "Thriller/Suspense",
          "Thriller/Suspense",
          "Thriller/Suspense",
          "Thriller/Suspense",
          "Thriller/Suspense",
          "Thriller/Suspense",
          "Thriller/Suspense",
          "Thriller/Suspense",
          "Thriller/Suspense",
          "Thriller/Suspense",
          "Thriller/Suspense",
          "Thriller/Suspense",
          "Thriller/Suspense",
          "Thriller/Suspense",
          "Thriller/Suspense",
          "Thriller/Suspense",
          "Thriller/Suspense",
          "Thriller/Suspense",
          "Thriller/Suspense",
          "Thriller/Suspense",
          "Thriller/Suspense",
          "Thriller/Suspense",
          "Thriller/Suspense",
          "Thriller/Suspense",
          "Thriller/Suspense",
          "Thriller/Suspense",
          "Thriller/Suspense",
          "Thriller/Suspense",
          "Thriller/Suspense",
          "Thriller/Suspense",
          "Thriller/Suspense",
          "Thriller/Suspense",
          "Thriller/Suspense",
          "Thriller/Suspense",
          "Thriller/Suspense",
          "Thriller/Suspense",
          "Thriller/Suspense",
          "Thriller/Suspense",
          "Thriller/Suspense",
          "Thriller/Suspense",
          "Thriller/Suspense",
          "Thriller/Suspense",
          "Thriller/Suspense",
          "Thriller/Suspense",
          "Thriller/Suspense",
          "Thriller/Suspense",
          "Thriller/Suspense",
          "Thriller/Suspense",
          "Thriller/Suspense",
          "Thriller/Suspense",
          "Thriller/Suspense",
          "Thriller/Suspense",
          "Thriller/Suspense",
          "Thriller/Suspense",
          "Thriller/Suspense",
          "Thriller/Suspense",
          "Thriller/Suspense",
          "Thriller/Suspense",
          "Thriller/Suspense",
          "Thriller/Suspense",
          "Thriller/Suspense",
          "Thriller/Suspense",
          "Thriller/Suspense",
          "Thriller/Suspense",
          "Thriller/Suspense",
          "Thriller/Suspense",
          "Thriller/Suspense",
          "Thriller/Suspense",
          "Thriller/Suspense",
          "Thriller/Suspense",
          "Thriller/Suspense",
          "Thriller/Suspense",
          "Thriller/Suspense",
          "Thriller/Suspense",
          "Thriller/Suspense",
          "Thriller/Suspense",
          "Thriller/Suspense",
          "Thriller/Suspense",
          "Thriller/Suspense",
          "Thriller/Suspense",
          "Thriller/Suspense",
          "Thriller/Suspense",
          "Thriller/Suspense",
          "Thriller/Suspense",
          "Thriller/Suspense",
          "Thriller/Suspense",
          "Thriller/Suspense",
          "Thriller/Suspense",
          "Thriller/Suspense",
          "Thriller/Suspense",
          "Thriller/Suspense",
          "Thriller/Suspense",
          "Thriller/Suspense",
          "Thriller/Suspense",
          "Thriller/Suspense",
          "Thriller/Suspense",
          "Thriller/Suspense",
          "Thriller/Suspense",
          "Thriller/Suspense",
          "Thriller/Suspense",
          "Thriller/Suspense",
          "Thriller/Suspense",
          "Thriller/Suspense",
          "Thriller/Suspense",
          "Thriller/Suspense",
          "Thriller/Suspense",
          "Thriller/Suspense",
          "Thriller/Suspense",
          "Thriller/Suspense",
          "Thriller/Suspense",
          "Thriller/Suspense",
          "Thriller/Suspense",
          "Thriller/Suspense",
          "Thriller/Suspense",
          "Thriller/Suspense",
          "Thriller/Suspense",
          "Thriller/Suspense",
          "Thriller/Suspense",
          "Thriller/Suspense",
          "Thriller/Suspense",
          "Thriller/Suspense",
          "Thriller/Suspense",
          "Thriller/Suspense",
          "Thriller/Suspense",
          "Thriller/Suspense",
          "Thriller/Suspense",
          "Thriller/Suspense",
          "Thriller/Suspense",
          "Thriller/Suspense",
          "Thriller/Suspense",
          "Thriller/Suspense",
          "Thriller/Suspense",
          "Thriller/Suspense",
          "Thriller/Suspense",
          "Thriller/Suspense",
          "Thriller/Suspense",
          "Thriller/Suspense",
          "Thriller/Suspense",
          "Thriller/Suspense",
          "Thriller/Suspense",
          "Thriller/Suspense",
          "Thriller/Suspense"
         ],
         "xaxis": "x",
         "yaxis": "y"
        },
        {
         "alignmentgroup": "True",
         "bingroup": "x",
         "hovertemplate": "Genre=%{x}<br>count=%{y}<extra></extra>",
         "legendgroup": "Western",
         "marker": {
          "color": "rgb(140,140,140)",
          "pattern": {
           "shape": ""
          }
         },
         "name": "Western",
         "offsetgroup": "Western",
         "orientation": "v",
         "showlegend": true,
         "texttemplate": "%{value}",
         "type": "histogram",
         "x": [
          "Western",
          "Western",
          "Western",
          "Western",
          "Western",
          "Western",
          "Western",
          "Western"
         ],
         "xaxis": "x",
         "yaxis": "y"
        },
        {
         "alignmentgroup": "True",
         "bingroup": "x",
         "hovertemplate": "Genre=%{x}<br>count=%{y}<extra></extra>",
         "legendgroup": "Black Comedy",
         "marker": {
          "color": "rgb(204,185,116)",
          "pattern": {
           "shape": ""
          }
         },
         "name": "Black Comedy",
         "offsetgroup": "Black Comedy",
         "orientation": "v",
         "showlegend": true,
         "texttemplate": "%{value}",
         "type": "histogram",
         "x": [
          "Black Comedy",
          "Black Comedy",
          "Black Comedy",
          "Black Comedy",
          "Black Comedy",
          "Black Comedy",
          "Black Comedy",
          "Black Comedy",
          "Black Comedy",
          "Black Comedy",
          "Black Comedy",
          "Black Comedy",
          "Black Comedy",
          "Black Comedy",
          "Black Comedy",
          "Black Comedy",
          "Black Comedy",
          "Black Comedy",
          "Black Comedy",
          "Black Comedy",
          "Black Comedy",
          "Black Comedy"
         ],
         "xaxis": "x",
         "yaxis": "y"
        },
        {
         "alignmentgroup": "True",
         "bingroup": "x",
         "hovertemplate": "Genre=%{x}<br>count=%{y}<extra></extra>",
         "legendgroup": "Musical",
         "marker": {
          "color": "rgb(100,181,205)",
          "pattern": {
           "shape": ""
          }
         },
         "name": "Musical",
         "offsetgroup": "Musical",
         "orientation": "v",
         "showlegend": true,
         "texttemplate": "%{value}",
         "type": "histogram",
         "x": [
          "Musical",
          "Musical",
          "Musical",
          "Musical",
          "Musical",
          "Musical",
          "Musical",
          "Musical",
          "Musical",
          "Musical",
          "Musical",
          "Musical",
          "Musical",
          "Musical",
          "Musical",
          "Musical",
          "Musical",
          "Musical",
          "Musical",
          "Musical"
         ],
         "xaxis": "x",
         "yaxis": "y"
        },
        {
         "alignmentgroup": "True",
         "bingroup": "x",
         "hovertemplate": "Genre=%{x}<br>count=%{y}<extra></extra>",
         "legendgroup": "Horror",
         "marker": {
          "color": "rgb(76,114,176)",
          "pattern": {
           "shape": ""
          }
         },
         "name": "Horror",
         "offsetgroup": "Horror",
         "orientation": "v",
         "showlegend": true,
         "texttemplate": "%{value}",
         "type": "histogram",
         "x": [
          "Horror",
          "Horror",
          "Horror",
          "Horror",
          "Horror",
          "Horror",
          "Horror",
          "Horror",
          "Horror",
          "Horror",
          "Horror",
          "Horror",
          "Horror",
          "Horror",
          "Horror",
          "Horror",
          "Horror",
          "Horror",
          "Horror",
          "Horror",
          "Horror",
          "Horror",
          "Horror",
          "Horror",
          "Horror",
          "Horror",
          "Horror",
          "Horror",
          "Horror",
          "Horror",
          "Horror",
          "Horror",
          "Horror",
          "Horror",
          "Horror",
          "Horror",
          "Horror",
          "Horror",
          "Horror",
          "Horror",
          "Horror",
          "Horror",
          "Horror",
          "Horror",
          "Horror",
          "Horror",
          "Horror",
          "Horror",
          "Horror",
          "Horror",
          "Horror",
          "Horror",
          "Horror",
          "Horror",
          "Horror",
          "Horror",
          "Horror",
          "Horror",
          "Horror",
          "Horror",
          "Horror",
          "Horror",
          "Horror",
          "Horror",
          "Horror",
          "Horror",
          "Horror",
          "Horror",
          "Horror",
          "Horror",
          "Horror",
          "Horror",
          "Horror",
          "Horror",
          "Horror",
          "Horror",
          "Horror",
          "Horror",
          "Horror",
          "Horror",
          "Horror",
          "Horror",
          "Horror",
          "Horror",
          "Horror",
          "Horror",
          "Horror"
         ],
         "xaxis": "x",
         "yaxis": "y"
        },
        {
         "alignmentgroup": "True",
         "bingroup": "x",
         "hovertemplate": "Genre=%{x}<br>count=%{y}<extra></extra>",
         "legendgroup": "Concert/Performance",
         "marker": {
          "color": "rgb(221,132,82)",
          "pattern": {
           "shape": ""
          }
         },
         "name": "Concert/Performance",
         "offsetgroup": "Concert/Performance",
         "orientation": "v",
         "showlegend": true,
         "texttemplate": "%{value}",
         "type": "histogram",
         "x": [
          "Concert/Performance",
          "Concert/Performance",
          "Concert/Performance",
          "Concert/Performance",
          "Concert/Performance"
         ],
         "xaxis": "x",
         "yaxis": "y"
        }
       ],
       "layout": {
        "barmode": "relative",
        "legend": {
         "title": {
          "text": "Genre"
         },
         "tracegroupgap": 0
        },
        "template": {
         "data": {
          "bar": [
           {
            "error_x": {
             "color": "rgb(36,36,36)"
            },
            "error_y": {
             "color": "rgb(36,36,36)"
            },
            "marker": {
             "line": {
              "color": "rgb(234,234,242)",
              "width": 0.5
             },
             "pattern": {
              "fillmode": "overlay",
              "size": 10,
              "solidity": 0.2
             }
            },
            "type": "bar"
           }
          ],
          "barpolar": [
           {
            "marker": {
             "line": {
              "color": "rgb(234,234,242)",
              "width": 0.5
             },
             "pattern": {
              "fillmode": "overlay",
              "size": 10,
              "solidity": 0.2
             }
            },
            "type": "barpolar"
           }
          ],
          "carpet": [
           {
            "aaxis": {
             "endlinecolor": "rgb(36,36,36)",
             "gridcolor": "white",
             "linecolor": "white",
             "minorgridcolor": "white",
             "startlinecolor": "rgb(36,36,36)"
            },
            "baxis": {
             "endlinecolor": "rgb(36,36,36)",
             "gridcolor": "white",
             "linecolor": "white",
             "minorgridcolor": "white",
             "startlinecolor": "rgb(36,36,36)"
            },
            "type": "carpet"
           }
          ],
          "choropleth": [
           {
            "colorbar": {
             "outlinewidth": 0,
             "tickcolor": "rgb(36,36,36)",
             "ticklen": 8,
             "ticks": "outside",
             "tickwidth": 2
            },
            "type": "choropleth"
           }
          ],
          "contour": [
           {
            "colorbar": {
             "outlinewidth": 0,
             "tickcolor": "rgb(36,36,36)",
             "ticklen": 8,
             "ticks": "outside",
             "tickwidth": 2
            },
            "colorscale": [
             [
              0,
              "rgb(2,4,25)"
             ],
             [
              0.06274509803921569,
              "rgb(24,15,41)"
             ],
             [
              0.12549019607843137,
              "rgb(47,23,57)"
             ],
             [
              0.18823529411764706,
              "rgb(71,28,72)"
             ],
             [
              0.25098039215686274,
              "rgb(97,30,82)"
             ],
             [
              0.3137254901960784,
              "rgb(123,30,89)"
             ],
             [
              0.3764705882352941,
              "rgb(150,27,91)"
             ],
             [
              0.4392156862745098,
              "rgb(177,22,88)"
             ],
             [
              0.5019607843137255,
              "rgb(203,26,79)"
             ],
             [
              0.5647058823529412,
              "rgb(223,47,67)"
             ],
             [
              0.6274509803921569,
              "rgb(236,76,61)"
             ],
             [
              0.6901960784313725,
              "rgb(242,107,73)"
             ],
             [
              0.7529411764705882,
              "rgb(244,135,95)"
             ],
             [
              0.8156862745098039,
              "rgb(245,162,122)"
             ],
             [
              0.8784313725490196,
              "rgb(246,188,153)"
             ],
             [
              0.9411764705882353,
              "rgb(247,212,187)"
             ],
             [
              1,
              "rgb(250,234,220)"
             ]
            ],
            "type": "contour"
           }
          ],
          "contourcarpet": [
           {
            "colorbar": {
             "outlinewidth": 0,
             "tickcolor": "rgb(36,36,36)",
             "ticklen": 8,
             "ticks": "outside",
             "tickwidth": 2
            },
            "type": "contourcarpet"
           }
          ],
          "heatmap": [
           {
            "colorbar": {
             "outlinewidth": 0,
             "tickcolor": "rgb(36,36,36)",
             "ticklen": 8,
             "ticks": "outside",
             "tickwidth": 2
            },
            "colorscale": [
             [
              0,
              "rgb(2,4,25)"
             ],
             [
              0.06274509803921569,
              "rgb(24,15,41)"
             ],
             [
              0.12549019607843137,
              "rgb(47,23,57)"
             ],
             [
              0.18823529411764706,
              "rgb(71,28,72)"
             ],
             [
              0.25098039215686274,
              "rgb(97,30,82)"
             ],
             [
              0.3137254901960784,
              "rgb(123,30,89)"
             ],
             [
              0.3764705882352941,
              "rgb(150,27,91)"
             ],
             [
              0.4392156862745098,
              "rgb(177,22,88)"
             ],
             [
              0.5019607843137255,
              "rgb(203,26,79)"
             ],
             [
              0.5647058823529412,
              "rgb(223,47,67)"
             ],
             [
              0.6274509803921569,
              "rgb(236,76,61)"
             ],
             [
              0.6901960784313725,
              "rgb(242,107,73)"
             ],
             [
              0.7529411764705882,
              "rgb(244,135,95)"
             ],
             [
              0.8156862745098039,
              "rgb(245,162,122)"
             ],
             [
              0.8784313725490196,
              "rgb(246,188,153)"
             ],
             [
              0.9411764705882353,
              "rgb(247,212,187)"
             ],
             [
              1,
              "rgb(250,234,220)"
             ]
            ],
            "type": "heatmap"
           }
          ],
          "heatmapgl": [
           {
            "colorbar": {
             "outlinewidth": 0,
             "tickcolor": "rgb(36,36,36)",
             "ticklen": 8,
             "ticks": "outside",
             "tickwidth": 2
            },
            "colorscale": [
             [
              0,
              "rgb(2,4,25)"
             ],
             [
              0.06274509803921569,
              "rgb(24,15,41)"
             ],
             [
              0.12549019607843137,
              "rgb(47,23,57)"
             ],
             [
              0.18823529411764706,
              "rgb(71,28,72)"
             ],
             [
              0.25098039215686274,
              "rgb(97,30,82)"
             ],
             [
              0.3137254901960784,
              "rgb(123,30,89)"
             ],
             [
              0.3764705882352941,
              "rgb(150,27,91)"
             ],
             [
              0.4392156862745098,
              "rgb(177,22,88)"
             ],
             [
              0.5019607843137255,
              "rgb(203,26,79)"
             ],
             [
              0.5647058823529412,
              "rgb(223,47,67)"
             ],
             [
              0.6274509803921569,
              "rgb(236,76,61)"
             ],
             [
              0.6901960784313725,
              "rgb(242,107,73)"
             ],
             [
              0.7529411764705882,
              "rgb(244,135,95)"
             ],
             [
              0.8156862745098039,
              "rgb(245,162,122)"
             ],
             [
              0.8784313725490196,
              "rgb(246,188,153)"
             ],
             [
              0.9411764705882353,
              "rgb(247,212,187)"
             ],
             [
              1,
              "rgb(250,234,220)"
             ]
            ],
            "type": "heatmapgl"
           }
          ],
          "histogram": [
           {
            "marker": {
             "pattern": {
              "fillmode": "overlay",
              "size": 10,
              "solidity": 0.2
             }
            },
            "type": "histogram"
           }
          ],
          "histogram2d": [
           {
            "colorbar": {
             "outlinewidth": 0,
             "tickcolor": "rgb(36,36,36)",
             "ticklen": 8,
             "ticks": "outside",
             "tickwidth": 2
            },
            "colorscale": [
             [
              0,
              "rgb(2,4,25)"
             ],
             [
              0.06274509803921569,
              "rgb(24,15,41)"
             ],
             [
              0.12549019607843137,
              "rgb(47,23,57)"
             ],
             [
              0.18823529411764706,
              "rgb(71,28,72)"
             ],
             [
              0.25098039215686274,
              "rgb(97,30,82)"
             ],
             [
              0.3137254901960784,
              "rgb(123,30,89)"
             ],
             [
              0.3764705882352941,
              "rgb(150,27,91)"
             ],
             [
              0.4392156862745098,
              "rgb(177,22,88)"
             ],
             [
              0.5019607843137255,
              "rgb(203,26,79)"
             ],
             [
              0.5647058823529412,
              "rgb(223,47,67)"
             ],
             [
              0.6274509803921569,
              "rgb(236,76,61)"
             ],
             [
              0.6901960784313725,
              "rgb(242,107,73)"
             ],
             [
              0.7529411764705882,
              "rgb(244,135,95)"
             ],
             [
              0.8156862745098039,
              "rgb(245,162,122)"
             ],
             [
              0.8784313725490196,
              "rgb(246,188,153)"
             ],
             [
              0.9411764705882353,
              "rgb(247,212,187)"
             ],
             [
              1,
              "rgb(250,234,220)"
             ]
            ],
            "type": "histogram2d"
           }
          ],
          "histogram2dcontour": [
           {
            "colorbar": {
             "outlinewidth": 0,
             "tickcolor": "rgb(36,36,36)",
             "ticklen": 8,
             "ticks": "outside",
             "tickwidth": 2
            },
            "colorscale": [
             [
              0,
              "rgb(2,4,25)"
             ],
             [
              0.06274509803921569,
              "rgb(24,15,41)"
             ],
             [
              0.12549019607843137,
              "rgb(47,23,57)"
             ],
             [
              0.18823529411764706,
              "rgb(71,28,72)"
             ],
             [
              0.25098039215686274,
              "rgb(97,30,82)"
             ],
             [
              0.3137254901960784,
              "rgb(123,30,89)"
             ],
             [
              0.3764705882352941,
              "rgb(150,27,91)"
             ],
             [
              0.4392156862745098,
              "rgb(177,22,88)"
             ],
             [
              0.5019607843137255,
              "rgb(203,26,79)"
             ],
             [
              0.5647058823529412,
              "rgb(223,47,67)"
             ],
             [
              0.6274509803921569,
              "rgb(236,76,61)"
             ],
             [
              0.6901960784313725,
              "rgb(242,107,73)"
             ],
             [
              0.7529411764705882,
              "rgb(244,135,95)"
             ],
             [
              0.8156862745098039,
              "rgb(245,162,122)"
             ],
             [
              0.8784313725490196,
              "rgb(246,188,153)"
             ],
             [
              0.9411764705882353,
              "rgb(247,212,187)"
             ],
             [
              1,
              "rgb(250,234,220)"
             ]
            ],
            "type": "histogram2dcontour"
           }
          ],
          "mesh3d": [
           {
            "colorbar": {
             "outlinewidth": 0,
             "tickcolor": "rgb(36,36,36)",
             "ticklen": 8,
             "ticks": "outside",
             "tickwidth": 2
            },
            "type": "mesh3d"
           }
          ],
          "parcoords": [
           {
            "line": {
             "colorbar": {
              "outlinewidth": 0,
              "tickcolor": "rgb(36,36,36)",
              "ticklen": 8,
              "ticks": "outside",
              "tickwidth": 2
             }
            },
            "type": "parcoords"
           }
          ],
          "pie": [
           {
            "automargin": true,
            "type": "pie"
           }
          ],
          "scatter": [
           {
            "marker": {
             "colorbar": {
              "outlinewidth": 0,
              "tickcolor": "rgb(36,36,36)",
              "ticklen": 8,
              "ticks": "outside",
              "tickwidth": 2
             }
            },
            "type": "scatter"
           }
          ],
          "scatter3d": [
           {
            "line": {
             "colorbar": {
              "outlinewidth": 0,
              "tickcolor": "rgb(36,36,36)",
              "ticklen": 8,
              "ticks": "outside",
              "tickwidth": 2
             }
            },
            "marker": {
             "colorbar": {
              "outlinewidth": 0,
              "tickcolor": "rgb(36,36,36)",
              "ticklen": 8,
              "ticks": "outside",
              "tickwidth": 2
             }
            },
            "type": "scatter3d"
           }
          ],
          "scattercarpet": [
           {
            "marker": {
             "colorbar": {
              "outlinewidth": 0,
              "tickcolor": "rgb(36,36,36)",
              "ticklen": 8,
              "ticks": "outside",
              "tickwidth": 2
             }
            },
            "type": "scattercarpet"
           }
          ],
          "scattergeo": [
           {
            "marker": {
             "colorbar": {
              "outlinewidth": 0,
              "tickcolor": "rgb(36,36,36)",
              "ticklen": 8,
              "ticks": "outside",
              "tickwidth": 2
             }
            },
            "type": "scattergeo"
           }
          ],
          "scattergl": [
           {
            "marker": {
             "colorbar": {
              "outlinewidth": 0,
              "tickcolor": "rgb(36,36,36)",
              "ticklen": 8,
              "ticks": "outside",
              "tickwidth": 2
             }
            },
            "type": "scattergl"
           }
          ],
          "scattermapbox": [
           {
            "marker": {
             "colorbar": {
              "outlinewidth": 0,
              "tickcolor": "rgb(36,36,36)",
              "ticklen": 8,
              "ticks": "outside",
              "tickwidth": 2
             }
            },
            "type": "scattermapbox"
           }
          ],
          "scatterpolar": [
           {
            "marker": {
             "colorbar": {
              "outlinewidth": 0,
              "tickcolor": "rgb(36,36,36)",
              "ticklen": 8,
              "ticks": "outside",
              "tickwidth": 2
             }
            },
            "type": "scatterpolar"
           }
          ],
          "scatterpolargl": [
           {
            "marker": {
             "colorbar": {
              "outlinewidth": 0,
              "tickcolor": "rgb(36,36,36)",
              "ticklen": 8,
              "ticks": "outside",
              "tickwidth": 2
             }
            },
            "type": "scatterpolargl"
           }
          ],
          "scatterternary": [
           {
            "marker": {
             "colorbar": {
              "outlinewidth": 0,
              "tickcolor": "rgb(36,36,36)",
              "ticklen": 8,
              "ticks": "outside",
              "tickwidth": 2
             }
            },
            "type": "scatterternary"
           }
          ],
          "surface": [
           {
            "colorbar": {
             "outlinewidth": 0,
             "tickcolor": "rgb(36,36,36)",
             "ticklen": 8,
             "ticks": "outside",
             "tickwidth": 2
            },
            "colorscale": [
             [
              0,
              "rgb(2,4,25)"
             ],
             [
              0.06274509803921569,
              "rgb(24,15,41)"
             ],
             [
              0.12549019607843137,
              "rgb(47,23,57)"
             ],
             [
              0.18823529411764706,
              "rgb(71,28,72)"
             ],
             [
              0.25098039215686274,
              "rgb(97,30,82)"
             ],
             [
              0.3137254901960784,
              "rgb(123,30,89)"
             ],
             [
              0.3764705882352941,
              "rgb(150,27,91)"
             ],
             [
              0.4392156862745098,
              "rgb(177,22,88)"
             ],
             [
              0.5019607843137255,
              "rgb(203,26,79)"
             ],
             [
              0.5647058823529412,
              "rgb(223,47,67)"
             ],
             [
              0.6274509803921569,
              "rgb(236,76,61)"
             ],
             [
              0.6901960784313725,
              "rgb(242,107,73)"
             ],
             [
              0.7529411764705882,
              "rgb(244,135,95)"
             ],
             [
              0.8156862745098039,
              "rgb(245,162,122)"
             ],
             [
              0.8784313725490196,
              "rgb(246,188,153)"
             ],
             [
              0.9411764705882353,
              "rgb(247,212,187)"
             ],
             [
              1,
              "rgb(250,234,220)"
             ]
            ],
            "type": "surface"
           }
          ],
          "table": [
           {
            "cells": {
             "fill": {
              "color": "rgb(231,231,240)"
             },
             "line": {
              "color": "white"
             }
            },
            "header": {
             "fill": {
              "color": "rgb(183,183,191)"
             },
             "line": {
              "color": "white"
             }
            },
            "type": "table"
           }
          ]
         },
         "layout": {
          "annotationdefaults": {
           "arrowcolor": "rgb(67,103,167)"
          },
          "autotypenumbers": "strict",
          "coloraxis": {
           "colorbar": {
            "outlinewidth": 0,
            "tickcolor": "rgb(36,36,36)",
            "ticklen": 8,
            "ticks": "outside",
            "tickwidth": 2
           }
          },
          "colorscale": {
           "sequential": [
            [
             0,
             "rgb(2,4,25)"
            ],
            [
             0.06274509803921569,
             "rgb(24,15,41)"
            ],
            [
             0.12549019607843137,
             "rgb(47,23,57)"
            ],
            [
             0.18823529411764706,
             "rgb(71,28,72)"
            ],
            [
             0.25098039215686274,
             "rgb(97,30,82)"
            ],
            [
             0.3137254901960784,
             "rgb(123,30,89)"
            ],
            [
             0.3764705882352941,
             "rgb(150,27,91)"
            ],
            [
             0.4392156862745098,
             "rgb(177,22,88)"
            ],
            [
             0.5019607843137255,
             "rgb(203,26,79)"
            ],
            [
             0.5647058823529412,
             "rgb(223,47,67)"
            ],
            [
             0.6274509803921569,
             "rgb(236,76,61)"
            ],
            [
             0.6901960784313725,
             "rgb(242,107,73)"
            ],
            [
             0.7529411764705882,
             "rgb(244,135,95)"
            ],
            [
             0.8156862745098039,
             "rgb(245,162,122)"
            ],
            [
             0.8784313725490196,
             "rgb(246,188,153)"
            ],
            [
             0.9411764705882353,
             "rgb(247,212,187)"
            ],
            [
             1,
             "rgb(250,234,220)"
            ]
           ],
           "sequentialminus": [
            [
             0,
             "rgb(2,4,25)"
            ],
            [
             0.06274509803921569,
             "rgb(24,15,41)"
            ],
            [
             0.12549019607843137,
             "rgb(47,23,57)"
            ],
            [
             0.18823529411764706,
             "rgb(71,28,72)"
            ],
            [
             0.25098039215686274,
             "rgb(97,30,82)"
            ],
            [
             0.3137254901960784,
             "rgb(123,30,89)"
            ],
            [
             0.3764705882352941,
             "rgb(150,27,91)"
            ],
            [
             0.4392156862745098,
             "rgb(177,22,88)"
            ],
            [
             0.5019607843137255,
             "rgb(203,26,79)"
            ],
            [
             0.5647058823529412,
             "rgb(223,47,67)"
            ],
            [
             0.6274509803921569,
             "rgb(236,76,61)"
            ],
            [
             0.6901960784313725,
             "rgb(242,107,73)"
            ],
            [
             0.7529411764705882,
             "rgb(244,135,95)"
            ],
            [
             0.8156862745098039,
             "rgb(245,162,122)"
            ],
            [
             0.8784313725490196,
             "rgb(246,188,153)"
            ],
            [
             0.9411764705882353,
             "rgb(247,212,187)"
            ],
            [
             1,
             "rgb(250,234,220)"
            ]
           ]
          },
          "colorway": [
           "rgb(76,114,176)",
           "rgb(221,132,82)",
           "rgb(85,168,104)",
           "rgb(196,78,82)",
           "rgb(129,114,179)",
           "rgb(147,120,96)",
           "rgb(218,139,195)",
           "rgb(140,140,140)",
           "rgb(204,185,116)",
           "rgb(100,181,205)"
          ],
          "font": {
           "color": "rgb(36,36,36)"
          },
          "geo": {
           "bgcolor": "white",
           "lakecolor": "white",
           "landcolor": "rgb(234,234,242)",
           "showlakes": true,
           "showland": true,
           "subunitcolor": "white"
          },
          "hoverlabel": {
           "align": "left"
          },
          "hovermode": "closest",
          "paper_bgcolor": "white",
          "plot_bgcolor": "rgb(234,234,242)",
          "polar": {
           "angularaxis": {
            "gridcolor": "white",
            "linecolor": "white",
            "showgrid": true,
            "ticks": ""
           },
           "bgcolor": "rgb(234,234,242)",
           "radialaxis": {
            "gridcolor": "white",
            "linecolor": "white",
            "showgrid": true,
            "ticks": ""
           }
          },
          "scene": {
           "xaxis": {
            "backgroundcolor": "rgb(234,234,242)",
            "gridcolor": "white",
            "gridwidth": 2,
            "linecolor": "white",
            "showbackground": true,
            "showgrid": true,
            "ticks": "",
            "zerolinecolor": "white"
           },
           "yaxis": {
            "backgroundcolor": "rgb(234,234,242)",
            "gridcolor": "white",
            "gridwidth": 2,
            "linecolor": "white",
            "showbackground": true,
            "showgrid": true,
            "ticks": "",
            "zerolinecolor": "white"
           },
           "zaxis": {
            "backgroundcolor": "rgb(234,234,242)",
            "gridcolor": "white",
            "gridwidth": 2,
            "linecolor": "white",
            "showbackground": true,
            "showgrid": true,
            "ticks": "",
            "zerolinecolor": "white"
           }
          },
          "shapedefaults": {
           "fillcolor": "rgb(67,103,167)",
           "line": {
            "width": 0
           },
           "opacity": 0.5
          },
          "ternary": {
           "aaxis": {
            "gridcolor": "white",
            "linecolor": "white",
            "showgrid": true,
            "ticks": ""
           },
           "baxis": {
            "gridcolor": "white",
            "linecolor": "white",
            "showgrid": true,
            "ticks": ""
           },
           "bgcolor": "rgb(234,234,242)",
           "caxis": {
            "gridcolor": "white",
            "linecolor": "white",
            "showgrid": true,
            "ticks": ""
           }
          },
          "xaxis": {
           "automargin": true,
           "gridcolor": "white",
           "linecolor": "white",
           "showgrid": true,
           "ticks": "",
           "title": {
            "standoff": 15
           },
           "zerolinecolor": "white"
          },
          "yaxis": {
           "automargin": true,
           "gridcolor": "white",
           "linecolor": "white",
           "showgrid": true,
           "ticks": "",
           "title": {
            "standoff": 15
           },
           "zerolinecolor": "white"
          }
         }
        },
        "title": {
         "text": "<b> Genre frquency in data"
        },
        "xaxis": {
         "anchor": "y",
         "categoryarray": [
          "Adventure",
          "Comedy",
          "Action",
          "Drama",
          "Romantic Comedy",
          "Documentary",
          "Thriller/Suspense",
          "Western",
          "Black Comedy",
          "Musical",
          "Horror",
          "Concert/Performance"
         ],
         "categoryorder": "total descending",
         "domain": [
          0,
          1
         ],
         "title": {
          "text": "Genre"
         }
        },
        "yaxis": {
         "anchor": "x",
         "domain": [
          0,
          1
         ],
         "title": {
          "text": "count"
         }
        }
       }
      },
      "text/html": [
       "<div>                            <div id=\"f6de827e-7c5d-4d0f-91f6-2a8ba0c4896b\" class=\"plotly-graph-div\" style=\"height:525px; width:100%;\"></div>            <script type=\"text/javascript\">                require([\"plotly\"], function(Plotly) {                    window.PLOTLYENV=window.PLOTLYENV || {};                                    if (document.getElementById(\"f6de827e-7c5d-4d0f-91f6-2a8ba0c4896b\")) {                    Plotly.newPlot(                        \"f6de827e-7c5d-4d0f-91f6-2a8ba0c4896b\",                        [{\"alignmentgroup\":\"True\",\"bingroup\":\"x\",\"hovertemplate\":\"Genre=%{x}<br>count=%{y}<extra></extra>\",\"legendgroup\":\"Adventure\",\"marker\":{\"color\":\"rgb(76,114,176)\",\"pattern\":{\"shape\":\"\"}},\"name\":\"Adventure\",\"offsetgroup\":\"Adventure\",\"orientation\":\"v\",\"showlegend\":true,\"texttemplate\":\"%{value}\",\"x\":[\"Adventure\",\"Adventure\",\"Adventure\",\"Adventure\",\"Adventure\",\"Adventure\",\"Adventure\",\"Adventure\",\"Adventure\",\"Adventure\",\"Adventure\",\"Adventure\",\"Adventure\",\"Adventure\",\"Adventure\",\"Adventure\",\"Adventure\",\"Adventure\",\"Adventure\",\"Adventure\",\"Adventure\",\"Adventure\",\"Adventure\",\"Adventure\",\"Adventure\",\"Adventure\",\"Adventure\",\"Adventure\",\"Adventure\",\"Adventure\",\"Adventure\",\"Adventure\",\"Adventure\",\"Adventure\",\"Adventure\",\"Adventure\",\"Adventure\",\"Adventure\",\"Adventure\",\"Adventure\",\"Adventure\",\"Adventure\",\"Adventure\",\"Adventure\",\"Adventure\",\"Adventure\",\"Adventure\",\"Adventure\",\"Adventure\",\"Adventure\",\"Adventure\",\"Adventure\",\"Adventure\",\"Adventure\",\"Adventure\",\"Adventure\",\"Adventure\",\"Adventure\",\"Adventure\",\"Adventure\",\"Adventure\",\"Adventure\",\"Adventure\",\"Adventure\",\"Adventure\",\"Adventure\",\"Adventure\",\"Adventure\",\"Adventure\",\"Adventure\",\"Adventure\",\"Adventure\",\"Adventure\",\"Adventure\",\"Adventure\",\"Adventure\",\"Adventure\",\"Adventure\",\"Adventure\",\"Adventure\",\"Adventure\",\"Adventure\",\"Adventure\",\"Adventure\",\"Adventure\",\"Adventure\",\"Adventure\",\"Adventure\",\"Adventure\",\"Adventure\",\"Adventure\",\"Adventure\",\"Adventure\",\"Adventure\",\"Adventure\",\"Adventure\",\"Adventure\",\"Adventure\",\"Adventure\",\"Adventure\",\"Adventure\",\"Adventure\",\"Adventure\",\"Adventure\",\"Adventure\",\"Adventure\",\"Adventure\",\"Adventure\",\"Adventure\",\"Adventure\",\"Adventure\",\"Adventure\",\"Adventure\",\"Adventure\",\"Adventure\",\"Adventure\",\"Adventure\",\"Adventure\",\"Adventure\",\"Adventure\",\"Adventure\",\"Adventure\",\"Adventure\",\"Adventure\",\"Adventure\",\"Adventure\",\"Adventure\",\"Adventure\",\"Adventure\",\"Adventure\",\"Adventure\",\"Adventure\",\"Adventure\",\"Adventure\",\"Adventure\",\"Adventure\",\"Adventure\",\"Adventure\",\"Adventure\",\"Adventure\",\"Adventure\",\"Adventure\",\"Adventure\",\"Adventure\",\"Adventure\",\"Adventure\",\"Adventure\",\"Adventure\",\"Adventure\",\"Adventure\",\"Adventure\",\"Adventure\",\"Adventure\",\"Adventure\",\"Adventure\",\"Adventure\",\"Adventure\",\"Adventure\",\"Adventure\",\"Adventure\",\"Adventure\",\"Adventure\",\"Adventure\",\"Adventure\",\"Adventure\",\"Adventure\",\"Adventure\",\"Adventure\",\"Adventure\",\"Adventure\",\"Adventure\",\"Adventure\",\"Adventure\",\"Adventure\",\"Adventure\",\"Adventure\",\"Adventure\",\"Adventure\",\"Adventure\",\"Adventure\",\"Adventure\",\"Adventure\",\"Adventure\",\"Adventure\",\"Adventure\",\"Adventure\",\"Adventure\",\"Adventure\",\"Adventure\",\"Adventure\",\"Adventure\",\"Adventure\",\"Adventure\",\"Adventure\",\"Adventure\",\"Adventure\",\"Adventure\",\"Adventure\",\"Adventure\",\"Adventure\",\"Adventure\",\"Adventure\",\"Adventure\",\"Adventure\",\"Adventure\",\"Adventure\",\"Adventure\",\"Adventure\",\"Adventure\",\"Adventure\",\"Adventure\",\"Adventure\",\"Adventure\",\"Adventure\",\"Adventure\",\"Adventure\",\"Adventure\",\"Adventure\",\"Adventure\",\"Adventure\",\"Adventure\",\"Adventure\",\"Adventure\",\"Adventure\",\"Adventure\",\"Adventure\",\"Adventure\",\"Adventure\",\"Adventure\",\"Adventure\",\"Adventure\",\"Adventure\"],\"xaxis\":\"x\",\"yaxis\":\"y\",\"type\":\"histogram\"},{\"alignmentgroup\":\"True\",\"bingroup\":\"x\",\"hovertemplate\":\"Genre=%{x}<br>count=%{y}<extra></extra>\",\"legendgroup\":\"Comedy\",\"marker\":{\"color\":\"rgb(221,132,82)\",\"pattern\":{\"shape\":\"\"}},\"name\":\"Comedy\",\"offsetgroup\":\"Comedy\",\"orientation\":\"v\",\"showlegend\":true,\"texttemplate\":\"%{value}\",\"x\":[\"Comedy\",\"Comedy\",\"Comedy\",\"Comedy\",\"Comedy\",\"Comedy\",\"Comedy\",\"Comedy\",\"Comedy\",\"Comedy\",\"Comedy\",\"Comedy\",\"Comedy\",\"Comedy\",\"Comedy\",\"Comedy\",\"Comedy\",\"Comedy\",\"Comedy\",\"Comedy\",\"Comedy\",\"Comedy\",\"Comedy\",\"Comedy\",\"Comedy\",\"Comedy\",\"Comedy\",\"Comedy\",\"Comedy\",\"Comedy\",\"Comedy\",\"Comedy\",\"Comedy\",\"Comedy\",\"Comedy\",\"Comedy\",\"Comedy\",\"Comedy\",\"Comedy\",\"Comedy\",\"Comedy\",\"Comedy\",\"Comedy\",\"Comedy\",\"Comedy\",\"Comedy\",\"Comedy\",\"Comedy\",\"Comedy\",\"Comedy\",\"Comedy\",\"Comedy\",\"Comedy\",\"Comedy\",\"Comedy\",\"Comedy\",\"Comedy\",\"Comedy\",\"Comedy\",\"Comedy\",\"Comedy\",\"Comedy\",\"Comedy\",\"Comedy\",\"Comedy\",\"Comedy\",\"Comedy\",\"Comedy\",\"Comedy\",\"Comedy\",\"Comedy\",\"Comedy\",\"Comedy\",\"Comedy\",\"Comedy\",\"Comedy\",\"Comedy\",\"Comedy\",\"Comedy\",\"Comedy\",\"Comedy\",\"Comedy\",\"Comedy\",\"Comedy\",\"Comedy\",\"Comedy\",\"Comedy\",\"Comedy\",\"Comedy\",\"Comedy\",\"Comedy\",\"Comedy\",\"Comedy\",\"Comedy\",\"Comedy\",\"Comedy\",\"Comedy\",\"Comedy\",\"Comedy\",\"Comedy\",\"Comedy\",\"Comedy\",\"Comedy\",\"Comedy\",\"Comedy\",\"Comedy\",\"Comedy\",\"Comedy\",\"Comedy\",\"Comedy\",\"Comedy\",\"Comedy\",\"Comedy\",\"Comedy\",\"Comedy\",\"Comedy\",\"Comedy\",\"Comedy\",\"Comedy\",\"Comedy\",\"Comedy\",\"Comedy\",\"Comedy\",\"Comedy\",\"Comedy\",\"Comedy\",\"Comedy\",\"Comedy\",\"Comedy\",\"Comedy\",\"Comedy\",\"Comedy\",\"Comedy\",\"Comedy\",\"Comedy\",\"Comedy\",\"Comedy\",\"Comedy\",\"Comedy\",\"Comedy\",\"Comedy\",\"Comedy\",\"Comedy\",\"Comedy\",\"Comedy\",\"Comedy\",\"Comedy\",\"Comedy\",\"Comedy\",\"Comedy\",\"Comedy\",\"Comedy\",\"Comedy\",\"Comedy\",\"Comedy\",\"Comedy\",\"Comedy\",\"Comedy\",\"Comedy\",\"Comedy\",\"Comedy\",\"Comedy\",\"Comedy\",\"Comedy\",\"Comedy\",\"Comedy\",\"Comedy\",\"Comedy\",\"Comedy\",\"Comedy\",\"Comedy\",\"Comedy\",\"Comedy\",\"Comedy\",\"Comedy\",\"Comedy\",\"Comedy\",\"Comedy\",\"Comedy\",\"Comedy\",\"Comedy\",\"Comedy\",\"Comedy\",\"Comedy\",\"Comedy\",\"Comedy\",\"Comedy\",\"Comedy\",\"Comedy\",\"Comedy\",\"Comedy\",\"Comedy\",\"Comedy\",\"Comedy\",\"Comedy\",\"Comedy\",\"Comedy\",\"Comedy\",\"Comedy\",\"Comedy\",\"Comedy\",\"Comedy\",\"Comedy\",\"Comedy\",\"Comedy\",\"Comedy\",\"Comedy\",\"Comedy\",\"Comedy\",\"Comedy\",\"Comedy\",\"Comedy\",\"Comedy\",\"Comedy\",\"Comedy\",\"Comedy\",\"Comedy\",\"Comedy\",\"Comedy\",\"Comedy\",\"Comedy\",\"Comedy\",\"Comedy\",\"Comedy\",\"Comedy\",\"Comedy\",\"Comedy\",\"Comedy\",\"Comedy\",\"Comedy\",\"Comedy\",\"Comedy\",\"Comedy\",\"Comedy\",\"Comedy\",\"Comedy\",\"Comedy\",\"Comedy\",\"Comedy\",\"Comedy\",\"Comedy\",\"Comedy\",\"Comedy\",\"Comedy\",\"Comedy\",\"Comedy\",\"Comedy\",\"Comedy\",\"Comedy\",\"Comedy\",\"Comedy\",\"Comedy\",\"Comedy\",\"Comedy\",\"Comedy\",\"Comedy\",\"Comedy\",\"Comedy\",\"Comedy\",\"Comedy\",\"Comedy\",\"Comedy\",\"Comedy\",\"Comedy\",\"Comedy\",\"Comedy\",\"Comedy\",\"Comedy\",\"Comedy\",\"Comedy\",\"Comedy\",\"Comedy\",\"Comedy\",\"Comedy\",\"Comedy\",\"Comedy\",\"Comedy\",\"Comedy\",\"Comedy\",\"Comedy\",\"Comedy\",\"Comedy\",\"Comedy\",\"Comedy\",\"Comedy\",\"Comedy\",\"Comedy\",\"Comedy\",\"Comedy\",\"Comedy\",\"Comedy\",\"Comedy\",\"Comedy\",\"Comedy\",\"Comedy\",\"Comedy\",\"Comedy\",\"Comedy\",\"Comedy\",\"Comedy\",\"Comedy\",\"Comedy\",\"Comedy\",\"Comedy\",\"Comedy\",\"Comedy\",\"Comedy\",\"Comedy\",\"Comedy\",\"Comedy\",\"Comedy\",\"Comedy\",\"Comedy\",\"Comedy\",\"Comedy\",\"Comedy\",\"Comedy\",\"Comedy\",\"Comedy\",\"Comedy\",\"Comedy\",\"Comedy\",\"Comedy\",\"Comedy\",\"Comedy\",\"Comedy\",\"Comedy\",\"Comedy\",\"Comedy\",\"Comedy\",\"Comedy\",\"Comedy\",\"Comedy\",\"Comedy\",\"Comedy\",\"Comedy\",\"Comedy\",\"Comedy\",\"Comedy\",\"Comedy\",\"Comedy\",\"Comedy\",\"Comedy\",\"Comedy\",\"Comedy\",\"Comedy\",\"Comedy\",\"Comedy\",\"Comedy\",\"Comedy\",\"Comedy\",\"Comedy\",\"Comedy\",\"Comedy\",\"Comedy\",\"Comedy\",\"Comedy\",\"Comedy\",\"Comedy\",\"Comedy\",\"Comedy\",\"Comedy\",\"Comedy\",\"Comedy\",\"Comedy\",\"Comedy\",\"Comedy\",\"Comedy\",\"Comedy\",\"Comedy\",\"Comedy\",\"Comedy\",\"Comedy\",\"Comedy\",\"Comedy\",\"Comedy\"],\"xaxis\":\"x\",\"yaxis\":\"y\",\"type\":\"histogram\"},{\"alignmentgroup\":\"True\",\"bingroup\":\"x\",\"hovertemplate\":\"Genre=%{x}<br>count=%{y}<extra></extra>\",\"legendgroup\":\"Action\",\"marker\":{\"color\":\"rgb(85,168,104)\",\"pattern\":{\"shape\":\"\"}},\"name\":\"Action\",\"offsetgroup\":\"Action\",\"orientation\":\"v\",\"showlegend\":true,\"texttemplate\":\"%{value}\",\"x\":[\"Action\",\"Action\",\"Action\",\"Action\",\"Action\",\"Action\",\"Action\",\"Action\",\"Action\",\"Action\",\"Action\",\"Action\",\"Action\",\"Action\",\"Action\",\"Action\",\"Action\",\"Action\",\"Action\",\"Action\",\"Action\",\"Action\",\"Action\",\"Action\",\"Action\",\"Action\",\"Action\",\"Action\",\"Action\",\"Action\",\"Action\",\"Action\",\"Action\",\"Action\",\"Action\",\"Action\",\"Action\",\"Action\",\"Action\",\"Action\",\"Action\",\"Action\",\"Action\",\"Action\",\"Action\",\"Action\",\"Action\",\"Action\",\"Action\",\"Action\",\"Action\",\"Action\",\"Action\",\"Action\",\"Action\",\"Action\",\"Action\",\"Action\",\"Action\",\"Action\",\"Action\",\"Action\",\"Action\",\"Action\",\"Action\",\"Action\",\"Action\",\"Action\",\"Action\",\"Action\",\"Action\",\"Action\",\"Action\",\"Action\",\"Action\",\"Action\",\"Action\",\"Action\",\"Action\",\"Action\",\"Action\",\"Action\",\"Action\",\"Action\",\"Action\",\"Action\",\"Action\",\"Action\",\"Action\",\"Action\",\"Action\",\"Action\",\"Action\",\"Action\",\"Action\",\"Action\",\"Action\",\"Action\",\"Action\",\"Action\",\"Action\",\"Action\",\"Action\",\"Action\",\"Action\",\"Action\",\"Action\",\"Action\",\"Action\",\"Action\",\"Action\",\"Action\",\"Action\",\"Action\",\"Action\",\"Action\",\"Action\",\"Action\",\"Action\",\"Action\",\"Action\",\"Action\",\"Action\",\"Action\",\"Action\",\"Action\",\"Action\",\"Action\",\"Action\",\"Action\",\"Action\",\"Action\",\"Action\",\"Action\",\"Action\",\"Action\",\"Action\",\"Action\",\"Action\",\"Action\",\"Action\",\"Action\",\"Action\",\"Action\",\"Action\",\"Action\",\"Action\",\"Action\",\"Action\",\"Action\",\"Action\",\"Action\",\"Action\",\"Action\",\"Action\",\"Action\",\"Action\",\"Action\",\"Action\",\"Action\",\"Action\",\"Action\",\"Action\",\"Action\",\"Action\",\"Action\",\"Action\",\"Action\",\"Action\",\"Action\",\"Action\",\"Action\",\"Action\",\"Action\",\"Action\",\"Action\",\"Action\",\"Action\",\"Action\",\"Action\",\"Action\",\"Action\",\"Action\",\"Action\",\"Action\",\"Action\",\"Action\",\"Action\",\"Action\",\"Action\",\"Action\",\"Action\",\"Action\",\"Action\",\"Action\",\"Action\",\"Action\",\"Action\",\"Action\",\"Action\",\"Action\",\"Action\",\"Action\",\"Action\",\"Action\",\"Action\",\"Action\",\"Action\",\"Action\",\"Action\",\"Action\",\"Action\",\"Action\",\"Action\",\"Action\",\"Action\",\"Action\",\"Action\",\"Action\",\"Action\",\"Action\",\"Action\",\"Action\",\"Action\",\"Action\",\"Action\",\"Action\",\"Action\",\"Action\",\"Action\",\"Action\",\"Action\",\"Action\",\"Action\"],\"xaxis\":\"x\",\"yaxis\":\"y\",\"type\":\"histogram\"},{\"alignmentgroup\":\"True\",\"bingroup\":\"x\",\"hovertemplate\":\"Genre=%{x}<br>count=%{y}<extra></extra>\",\"legendgroup\":\"Drama\",\"marker\":{\"color\":\"rgb(196,78,82)\",\"pattern\":{\"shape\":\"\"}},\"name\":\"Drama\",\"offsetgroup\":\"Drama\",\"orientation\":\"v\",\"showlegend\":true,\"texttemplate\":\"%{value}\",\"x\":[\"Drama\",\"Drama\",\"Drama\",\"Drama\",\"Drama\",\"Drama\",\"Drama\",\"Drama\",\"Drama\",\"Drama\",\"Drama\",\"Drama\",\"Drama\",\"Drama\",\"Drama\",\"Drama\",\"Drama\",\"Drama\",\"Drama\",\"Drama\",\"Drama\",\"Drama\",\"Drama\",\"Drama\",\"Drama\",\"Drama\",\"Drama\",\"Drama\",\"Drama\",\"Drama\",\"Drama\",\"Drama\",\"Drama\",\"Drama\",\"Drama\",\"Drama\",\"Drama\",\"Drama\",\"Drama\",\"Drama\",\"Drama\",\"Drama\",\"Drama\",\"Drama\",\"Drama\",\"Drama\",\"Drama\",\"Drama\",\"Drama\",\"Drama\",\"Drama\",\"Drama\",\"Drama\",\"Drama\",\"Drama\",\"Drama\",\"Drama\",\"Drama\",\"Drama\",\"Drama\",\"Drama\",\"Drama\",\"Drama\",\"Drama\",\"Drama\",\"Drama\",\"Drama\",\"Drama\",\"Drama\",\"Drama\",\"Drama\",\"Drama\",\"Drama\",\"Drama\",\"Drama\",\"Drama\",\"Drama\",\"Drama\",\"Drama\",\"Drama\",\"Drama\",\"Drama\",\"Drama\",\"Drama\",\"Drama\",\"Drama\",\"Drama\",\"Drama\",\"Drama\",\"Drama\",\"Drama\",\"Drama\",\"Drama\",\"Drama\",\"Drama\",\"Drama\",\"Drama\",\"Drama\",\"Drama\",\"Drama\",\"Drama\",\"Drama\",\"Drama\",\"Drama\",\"Drama\",\"Drama\",\"Drama\",\"Drama\",\"Drama\",\"Drama\",\"Drama\",\"Drama\",\"Drama\",\"Drama\",\"Drama\",\"Drama\",\"Drama\",\"Drama\",\"Drama\",\"Drama\",\"Drama\",\"Drama\",\"Drama\",\"Drama\",\"Drama\",\"Drama\",\"Drama\",\"Drama\",\"Drama\",\"Drama\",\"Drama\",\"Drama\",\"Drama\",\"Drama\",\"Drama\",\"Drama\",\"Drama\",\"Drama\",\"Drama\",\"Drama\",\"Drama\",\"Drama\",\"Drama\",\"Drama\",\"Drama\",\"Drama\",\"Drama\",\"Drama\",\"Drama\",\"Drama\",\"Drama\",\"Drama\",\"Drama\",\"Drama\",\"Drama\",\"Drama\",\"Drama\",\"Drama\",\"Drama\",\"Drama\",\"Drama\",\"Drama\",\"Drama\",\"Drama\",\"Drama\",\"Drama\",\"Drama\",\"Drama\",\"Drama\",\"Drama\",\"Drama\",\"Drama\",\"Drama\",\"Drama\",\"Drama\",\"Drama\",\"Drama\",\"Drama\",\"Drama\",\"Drama\",\"Drama\",\"Drama\",\"Drama\",\"Drama\",\"Drama\",\"Drama\",\"Drama\",\"Drama\",\"Drama\",\"Drama\",\"Drama\",\"Drama\",\"Drama\",\"Drama\",\"Drama\",\"Drama\",\"Drama\",\"Drama\",\"Drama\",\"Drama\",\"Drama\",\"Drama\",\"Drama\",\"Drama\",\"Drama\",\"Drama\",\"Drama\",\"Drama\",\"Drama\",\"Drama\",\"Drama\",\"Drama\",\"Drama\",\"Drama\",\"Drama\",\"Drama\",\"Drama\",\"Drama\",\"Drama\",\"Drama\",\"Drama\",\"Drama\",\"Drama\",\"Drama\",\"Drama\",\"Drama\",\"Drama\",\"Drama\",\"Drama\",\"Drama\",\"Drama\",\"Drama\",\"Drama\",\"Drama\",\"Drama\",\"Drama\",\"Drama\",\"Drama\",\"Drama\",\"Drama\",\"Drama\",\"Drama\",\"Drama\",\"Drama\",\"Drama\",\"Drama\",\"Drama\",\"Drama\",\"Drama\",\"Drama\",\"Drama\",\"Drama\",\"Drama\",\"Drama\",\"Drama\",\"Drama\",\"Drama\",\"Drama\",\"Drama\",\"Drama\",\"Drama\",\"Drama\",\"Drama\",\"Drama\",\"Drama\",\"Drama\",\"Drama\",\"Drama\",\"Drama\",\"Drama\",\"Drama\",\"Drama\",\"Drama\",\"Drama\",\"Drama\",\"Drama\",\"Drama\",\"Drama\",\"Drama\",\"Drama\",\"Drama\",\"Drama\",\"Drama\",\"Drama\",\"Drama\",\"Drama\",\"Drama\",\"Drama\",\"Drama\",\"Drama\",\"Drama\",\"Drama\",\"Drama\",\"Drama\",\"Drama\",\"Drama\",\"Drama\",\"Drama\",\"Drama\",\"Drama\",\"Drama\",\"Drama\",\"Drama\",\"Drama\",\"Drama\",\"Drama\",\"Drama\",\"Drama\",\"Drama\",\"Drama\",\"Drama\",\"Drama\",\"Drama\",\"Drama\",\"Drama\",\"Drama\",\"Drama\",\"Drama\",\"Drama\",\"Drama\",\"Drama\",\"Drama\",\"Drama\",\"Drama\",\"Drama\",\"Drama\",\"Drama\",\"Drama\",\"Drama\",\"Drama\",\"Drama\",\"Drama\",\"Drama\",\"Drama\",\"Drama\",\"Drama\",\"Drama\",\"Drama\",\"Drama\",\"Drama\",\"Drama\",\"Drama\",\"Drama\",\"Drama\",\"Drama\",\"Drama\",\"Drama\",\"Drama\",\"Drama\",\"Drama\",\"Drama\",\"Drama\",\"Drama\",\"Drama\",\"Drama\",\"Drama\",\"Drama\",\"Drama\",\"Drama\",\"Drama\",\"Drama\",\"Drama\",\"Drama\",\"Drama\",\"Drama\",\"Drama\",\"Drama\",\"Drama\",\"Drama\",\"Drama\",\"Drama\",\"Drama\",\"Drama\",\"Drama\",\"Drama\",\"Drama\",\"Drama\",\"Drama\",\"Drama\",\"Drama\",\"Drama\",\"Drama\",\"Drama\",\"Drama\",\"Drama\",\"Drama\",\"Drama\",\"Drama\",\"Drama\",\"Drama\",\"Drama\",\"Drama\",\"Drama\",\"Drama\",\"Drama\",\"Drama\",\"Drama\",\"Drama\",\"Drama\",\"Drama\",\"Drama\",\"Drama\",\"Drama\",\"Drama\",\"Drama\",\"Drama\",\"Drama\",\"Drama\",\"Drama\",\"Drama\",\"Drama\",\"Drama\",\"Drama\",\"Drama\",\"Drama\",\"Drama\",\"Drama\",\"Drama\",\"Drama\",\"Drama\",\"Drama\",\"Drama\",\"Drama\",\"Drama\",\"Drama\",\"Drama\",\"Drama\",\"Drama\",\"Drama\",\"Drama\",\"Drama\",\"Drama\",\"Drama\",\"Drama\",\"Drama\",\"Drama\",\"Drama\",\"Drama\",\"Drama\",\"Drama\",\"Drama\"],\"xaxis\":\"x\",\"yaxis\":\"y\",\"type\":\"histogram\"},{\"alignmentgroup\":\"True\",\"bingroup\":\"x\",\"hovertemplate\":\"Genre=%{x}<br>count=%{y}<extra></extra>\",\"legendgroup\":\"Romantic Comedy\",\"marker\":{\"color\":\"rgb(129,114,179)\",\"pattern\":{\"shape\":\"\"}},\"name\":\"Romantic Comedy\",\"offsetgroup\":\"Romantic Comedy\",\"orientation\":\"v\",\"showlegend\":true,\"texttemplate\":\"%{value}\",\"x\":[\"Romantic Comedy\",\"Romantic Comedy\",\"Romantic Comedy\",\"Romantic Comedy\",\"Romantic Comedy\",\"Romantic Comedy\",\"Romantic Comedy\",\"Romantic Comedy\",\"Romantic Comedy\",\"Romantic Comedy\",\"Romantic Comedy\",\"Romantic Comedy\",\"Romantic Comedy\",\"Romantic Comedy\",\"Romantic Comedy\",\"Romantic Comedy\",\"Romantic Comedy\",\"Romantic Comedy\",\"Romantic Comedy\",\"Romantic Comedy\",\"Romantic Comedy\",\"Romantic Comedy\",\"Romantic Comedy\",\"Romantic Comedy\",\"Romantic Comedy\",\"Romantic Comedy\",\"Romantic Comedy\",\"Romantic Comedy\",\"Romantic Comedy\",\"Romantic Comedy\",\"Romantic Comedy\",\"Romantic Comedy\",\"Romantic Comedy\",\"Romantic Comedy\",\"Romantic Comedy\",\"Romantic Comedy\",\"Romantic Comedy\",\"Romantic Comedy\",\"Romantic Comedy\",\"Romantic Comedy\",\"Romantic Comedy\",\"Romantic Comedy\",\"Romantic Comedy\",\"Romantic Comedy\",\"Romantic Comedy\",\"Romantic Comedy\",\"Romantic Comedy\",\"Romantic Comedy\",\"Romantic Comedy\",\"Romantic Comedy\",\"Romantic Comedy\",\"Romantic Comedy\",\"Romantic Comedy\",\"Romantic Comedy\",\"Romantic Comedy\",\"Romantic Comedy\",\"Romantic Comedy\",\"Romantic Comedy\",\"Romantic Comedy\",\"Romantic Comedy\",\"Romantic Comedy\",\"Romantic Comedy\",\"Romantic Comedy\",\"Romantic Comedy\",\"Romantic Comedy\",\"Romantic Comedy\",\"Romantic Comedy\",\"Romantic Comedy\",\"Romantic Comedy\",\"Romantic Comedy\",\"Romantic Comedy\",\"Romantic Comedy\",\"Romantic Comedy\",\"Romantic Comedy\",\"Romantic Comedy\",\"Romantic Comedy\",\"Romantic Comedy\",\"Romantic Comedy\",\"Romantic Comedy\",\"Romantic Comedy\",\"Romantic Comedy\",\"Romantic Comedy\",\"Romantic Comedy\",\"Romantic Comedy\",\"Romantic Comedy\",\"Romantic Comedy\",\"Romantic Comedy\",\"Romantic Comedy\",\"Romantic Comedy\",\"Romantic Comedy\",\"Romantic Comedy\",\"Romantic Comedy\",\"Romantic Comedy\",\"Romantic Comedy\",\"Romantic Comedy\",\"Romantic Comedy\",\"Romantic Comedy\",\"Romantic Comedy\"],\"xaxis\":\"x\",\"yaxis\":\"y\",\"type\":\"histogram\"},{\"alignmentgroup\":\"True\",\"bingroup\":\"x\",\"hovertemplate\":\"Genre=%{x}<br>count=%{y}<extra></extra>\",\"legendgroup\":\"Documentary\",\"marker\":{\"color\":\"rgb(147,120,96)\",\"pattern\":{\"shape\":\"\"}},\"name\":\"Documentary\",\"offsetgroup\":\"Documentary\",\"orientation\":\"v\",\"showlegend\":true,\"texttemplate\":\"%{value}\",\"x\":[\"Documentary\",\"Documentary\",\"Documentary\",\"Documentary\",\"Documentary\",\"Documentary\",\"Documentary\",\"Documentary\",\"Documentary\",\"Documentary\",\"Documentary\",\"Documentary\",\"Documentary\",\"Documentary\",\"Documentary\",\"Documentary\",\"Documentary\",\"Documentary\",\"Documentary\",\"Documentary\",\"Documentary\",\"Documentary\",\"Documentary\",\"Documentary\"],\"xaxis\":\"x\",\"yaxis\":\"y\",\"type\":\"histogram\"},{\"alignmentgroup\":\"True\",\"bingroup\":\"x\",\"hovertemplate\":\"Genre=%{x}<br>count=%{y}<extra></extra>\",\"legendgroup\":\"Thriller/Suspense\",\"marker\":{\"color\":\"rgb(218,139,195)\",\"pattern\":{\"shape\":\"\"}},\"name\":\"Thriller/Suspense\",\"offsetgroup\":\"Thriller/Suspense\",\"orientation\":\"v\",\"showlegend\":true,\"texttemplate\":\"%{value}\",\"x\":[\"Thriller/Suspense\",\"Thriller/Suspense\",\"Thriller/Suspense\",\"Thriller/Suspense\",\"Thriller/Suspense\",\"Thriller/Suspense\",\"Thriller/Suspense\",\"Thriller/Suspense\",\"Thriller/Suspense\",\"Thriller/Suspense\",\"Thriller/Suspense\",\"Thriller/Suspense\",\"Thriller/Suspense\",\"Thriller/Suspense\",\"Thriller/Suspense\",\"Thriller/Suspense\",\"Thriller/Suspense\",\"Thriller/Suspense\",\"Thriller/Suspense\",\"Thriller/Suspense\",\"Thriller/Suspense\",\"Thriller/Suspense\",\"Thriller/Suspense\",\"Thriller/Suspense\",\"Thriller/Suspense\",\"Thriller/Suspense\",\"Thriller/Suspense\",\"Thriller/Suspense\",\"Thriller/Suspense\",\"Thriller/Suspense\",\"Thriller/Suspense\",\"Thriller/Suspense\",\"Thriller/Suspense\",\"Thriller/Suspense\",\"Thriller/Suspense\",\"Thriller/Suspense\",\"Thriller/Suspense\",\"Thriller/Suspense\",\"Thriller/Suspense\",\"Thriller/Suspense\",\"Thriller/Suspense\",\"Thriller/Suspense\",\"Thriller/Suspense\",\"Thriller/Suspense\",\"Thriller/Suspense\",\"Thriller/Suspense\",\"Thriller/Suspense\",\"Thriller/Suspense\",\"Thriller/Suspense\",\"Thriller/Suspense\",\"Thriller/Suspense\",\"Thriller/Suspense\",\"Thriller/Suspense\",\"Thriller/Suspense\",\"Thriller/Suspense\",\"Thriller/Suspense\",\"Thriller/Suspense\",\"Thriller/Suspense\",\"Thriller/Suspense\",\"Thriller/Suspense\",\"Thriller/Suspense\",\"Thriller/Suspense\",\"Thriller/Suspense\",\"Thriller/Suspense\",\"Thriller/Suspense\",\"Thriller/Suspense\",\"Thriller/Suspense\",\"Thriller/Suspense\",\"Thriller/Suspense\",\"Thriller/Suspense\",\"Thriller/Suspense\",\"Thriller/Suspense\",\"Thriller/Suspense\",\"Thriller/Suspense\",\"Thriller/Suspense\",\"Thriller/Suspense\",\"Thriller/Suspense\",\"Thriller/Suspense\",\"Thriller/Suspense\",\"Thriller/Suspense\",\"Thriller/Suspense\",\"Thriller/Suspense\",\"Thriller/Suspense\",\"Thriller/Suspense\",\"Thriller/Suspense\",\"Thriller/Suspense\",\"Thriller/Suspense\",\"Thriller/Suspense\",\"Thriller/Suspense\",\"Thriller/Suspense\",\"Thriller/Suspense\",\"Thriller/Suspense\",\"Thriller/Suspense\",\"Thriller/Suspense\",\"Thriller/Suspense\",\"Thriller/Suspense\",\"Thriller/Suspense\",\"Thriller/Suspense\",\"Thriller/Suspense\",\"Thriller/Suspense\",\"Thriller/Suspense\",\"Thriller/Suspense\",\"Thriller/Suspense\",\"Thriller/Suspense\",\"Thriller/Suspense\",\"Thriller/Suspense\",\"Thriller/Suspense\",\"Thriller/Suspense\",\"Thriller/Suspense\",\"Thriller/Suspense\",\"Thriller/Suspense\",\"Thriller/Suspense\",\"Thriller/Suspense\",\"Thriller/Suspense\",\"Thriller/Suspense\",\"Thriller/Suspense\",\"Thriller/Suspense\",\"Thriller/Suspense\",\"Thriller/Suspense\",\"Thriller/Suspense\",\"Thriller/Suspense\",\"Thriller/Suspense\",\"Thriller/Suspense\",\"Thriller/Suspense\",\"Thriller/Suspense\",\"Thriller/Suspense\",\"Thriller/Suspense\",\"Thriller/Suspense\",\"Thriller/Suspense\",\"Thriller/Suspense\",\"Thriller/Suspense\",\"Thriller/Suspense\",\"Thriller/Suspense\",\"Thriller/Suspense\",\"Thriller/Suspense\",\"Thriller/Suspense\",\"Thriller/Suspense\",\"Thriller/Suspense\",\"Thriller/Suspense\",\"Thriller/Suspense\",\"Thriller/Suspense\",\"Thriller/Suspense\",\"Thriller/Suspense\",\"Thriller/Suspense\",\"Thriller/Suspense\",\"Thriller/Suspense\",\"Thriller/Suspense\",\"Thriller/Suspense\",\"Thriller/Suspense\",\"Thriller/Suspense\",\"Thriller/Suspense\",\"Thriller/Suspense\",\"Thriller/Suspense\",\"Thriller/Suspense\",\"Thriller/Suspense\",\"Thriller/Suspense\",\"Thriller/Suspense\",\"Thriller/Suspense\",\"Thriller/Suspense\",\"Thriller/Suspense\",\"Thriller/Suspense\",\"Thriller/Suspense\",\"Thriller/Suspense\",\"Thriller/Suspense\",\"Thriller/Suspense\",\"Thriller/Suspense\",\"Thriller/Suspense\",\"Thriller/Suspense\",\"Thriller/Suspense\",\"Thriller/Suspense\",\"Thriller/Suspense\",\"Thriller/Suspense\",\"Thriller/Suspense\",\"Thriller/Suspense\",\"Thriller/Suspense\",\"Thriller/Suspense\",\"Thriller/Suspense\",\"Thriller/Suspense\",\"Thriller/Suspense\",\"Thriller/Suspense\",\"Thriller/Suspense\",\"Thriller/Suspense\",\"Thriller/Suspense\",\"Thriller/Suspense\",\"Thriller/Suspense\",\"Thriller/Suspense\",\"Thriller/Suspense\",\"Thriller/Suspense\",\"Thriller/Suspense\",\"Thriller/Suspense\",\"Thriller/Suspense\",\"Thriller/Suspense\",\"Thriller/Suspense\",\"Thriller/Suspense\",\"Thriller/Suspense\",\"Thriller/Suspense\",\"Thriller/Suspense\",\"Thriller/Suspense\",\"Thriller/Suspense\",\"Thriller/Suspense\",\"Thriller/Suspense\",\"Thriller/Suspense\",\"Thriller/Suspense\",\"Thriller/Suspense\",\"Thriller/Suspense\",\"Thriller/Suspense\",\"Thriller/Suspense\",\"Thriller/Suspense\",\"Thriller/Suspense\",\"Thriller/Suspense\",\"Thriller/Suspense\",\"Thriller/Suspense\"],\"xaxis\":\"x\",\"yaxis\":\"y\",\"type\":\"histogram\"},{\"alignmentgroup\":\"True\",\"bingroup\":\"x\",\"hovertemplate\":\"Genre=%{x}<br>count=%{y}<extra></extra>\",\"legendgroup\":\"Western\",\"marker\":{\"color\":\"rgb(140,140,140)\",\"pattern\":{\"shape\":\"\"}},\"name\":\"Western\",\"offsetgroup\":\"Western\",\"orientation\":\"v\",\"showlegend\":true,\"texttemplate\":\"%{value}\",\"x\":[\"Western\",\"Western\",\"Western\",\"Western\",\"Western\",\"Western\",\"Western\",\"Western\"],\"xaxis\":\"x\",\"yaxis\":\"y\",\"type\":\"histogram\"},{\"alignmentgroup\":\"True\",\"bingroup\":\"x\",\"hovertemplate\":\"Genre=%{x}<br>count=%{y}<extra></extra>\",\"legendgroup\":\"Black Comedy\",\"marker\":{\"color\":\"rgb(204,185,116)\",\"pattern\":{\"shape\":\"\"}},\"name\":\"Black Comedy\",\"offsetgroup\":\"Black Comedy\",\"orientation\":\"v\",\"showlegend\":true,\"texttemplate\":\"%{value}\",\"x\":[\"Black Comedy\",\"Black Comedy\",\"Black Comedy\",\"Black Comedy\",\"Black Comedy\",\"Black Comedy\",\"Black Comedy\",\"Black Comedy\",\"Black Comedy\",\"Black Comedy\",\"Black Comedy\",\"Black Comedy\",\"Black Comedy\",\"Black Comedy\",\"Black Comedy\",\"Black Comedy\",\"Black Comedy\",\"Black Comedy\",\"Black Comedy\",\"Black Comedy\",\"Black Comedy\",\"Black Comedy\"],\"xaxis\":\"x\",\"yaxis\":\"y\",\"type\":\"histogram\"},{\"alignmentgroup\":\"True\",\"bingroup\":\"x\",\"hovertemplate\":\"Genre=%{x}<br>count=%{y}<extra></extra>\",\"legendgroup\":\"Musical\",\"marker\":{\"color\":\"rgb(100,181,205)\",\"pattern\":{\"shape\":\"\"}},\"name\":\"Musical\",\"offsetgroup\":\"Musical\",\"orientation\":\"v\",\"showlegend\":true,\"texttemplate\":\"%{value}\",\"x\":[\"Musical\",\"Musical\",\"Musical\",\"Musical\",\"Musical\",\"Musical\",\"Musical\",\"Musical\",\"Musical\",\"Musical\",\"Musical\",\"Musical\",\"Musical\",\"Musical\",\"Musical\",\"Musical\",\"Musical\",\"Musical\",\"Musical\",\"Musical\"],\"xaxis\":\"x\",\"yaxis\":\"y\",\"type\":\"histogram\"},{\"alignmentgroup\":\"True\",\"bingroup\":\"x\",\"hovertemplate\":\"Genre=%{x}<br>count=%{y}<extra></extra>\",\"legendgroup\":\"Horror\",\"marker\":{\"color\":\"rgb(76,114,176)\",\"pattern\":{\"shape\":\"\"}},\"name\":\"Horror\",\"offsetgroup\":\"Horror\",\"orientation\":\"v\",\"showlegend\":true,\"texttemplate\":\"%{value}\",\"x\":[\"Horror\",\"Horror\",\"Horror\",\"Horror\",\"Horror\",\"Horror\",\"Horror\",\"Horror\",\"Horror\",\"Horror\",\"Horror\",\"Horror\",\"Horror\",\"Horror\",\"Horror\",\"Horror\",\"Horror\",\"Horror\",\"Horror\",\"Horror\",\"Horror\",\"Horror\",\"Horror\",\"Horror\",\"Horror\",\"Horror\",\"Horror\",\"Horror\",\"Horror\",\"Horror\",\"Horror\",\"Horror\",\"Horror\",\"Horror\",\"Horror\",\"Horror\",\"Horror\",\"Horror\",\"Horror\",\"Horror\",\"Horror\",\"Horror\",\"Horror\",\"Horror\",\"Horror\",\"Horror\",\"Horror\",\"Horror\",\"Horror\",\"Horror\",\"Horror\",\"Horror\",\"Horror\",\"Horror\",\"Horror\",\"Horror\",\"Horror\",\"Horror\",\"Horror\",\"Horror\",\"Horror\",\"Horror\",\"Horror\",\"Horror\",\"Horror\",\"Horror\",\"Horror\",\"Horror\",\"Horror\",\"Horror\",\"Horror\",\"Horror\",\"Horror\",\"Horror\",\"Horror\",\"Horror\",\"Horror\",\"Horror\",\"Horror\",\"Horror\",\"Horror\",\"Horror\",\"Horror\",\"Horror\",\"Horror\",\"Horror\",\"Horror\"],\"xaxis\":\"x\",\"yaxis\":\"y\",\"type\":\"histogram\"},{\"alignmentgroup\":\"True\",\"bingroup\":\"x\",\"hovertemplate\":\"Genre=%{x}<br>count=%{y}<extra></extra>\",\"legendgroup\":\"Concert/Performance\",\"marker\":{\"color\":\"rgb(221,132,82)\",\"pattern\":{\"shape\":\"\"}},\"name\":\"Concert/Performance\",\"offsetgroup\":\"Concert/Performance\",\"orientation\":\"v\",\"showlegend\":true,\"texttemplate\":\"%{value}\",\"x\":[\"Concert/Performance\",\"Concert/Performance\",\"Concert/Performance\",\"Concert/Performance\",\"Concert/Performance\"],\"xaxis\":\"x\",\"yaxis\":\"y\",\"type\":\"histogram\"}],                        {\"template\":{\"data\":{\"barpolar\":[{\"marker\":{\"line\":{\"color\":\"rgb(234,234,242)\",\"width\":0.5},\"pattern\":{\"fillmode\":\"overlay\",\"size\":10,\"solidity\":0.2}},\"type\":\"barpolar\"}],\"bar\":[{\"error_x\":{\"color\":\"rgb(36,36,36)\"},\"error_y\":{\"color\":\"rgb(36,36,36)\"},\"marker\":{\"line\":{\"color\":\"rgb(234,234,242)\",\"width\":0.5},\"pattern\":{\"fillmode\":\"overlay\",\"size\":10,\"solidity\":0.2}},\"type\":\"bar\"}],\"carpet\":[{\"aaxis\":{\"endlinecolor\":\"rgb(36,36,36)\",\"gridcolor\":\"white\",\"linecolor\":\"white\",\"minorgridcolor\":\"white\",\"startlinecolor\":\"rgb(36,36,36)\"},\"baxis\":{\"endlinecolor\":\"rgb(36,36,36)\",\"gridcolor\":\"white\",\"linecolor\":\"white\",\"minorgridcolor\":\"white\",\"startlinecolor\":\"rgb(36,36,36)\"},\"type\":\"carpet\"}],\"choropleth\":[{\"colorbar\":{\"outlinewidth\":0,\"tickcolor\":\"rgb(36,36,36)\",\"ticklen\":8,\"ticks\":\"outside\",\"tickwidth\":2},\"type\":\"choropleth\"}],\"contourcarpet\":[{\"colorbar\":{\"outlinewidth\":0,\"tickcolor\":\"rgb(36,36,36)\",\"ticklen\":8,\"ticks\":\"outside\",\"tickwidth\":2},\"type\":\"contourcarpet\"}],\"contour\":[{\"colorbar\":{\"outlinewidth\":0,\"tickcolor\":\"rgb(36,36,36)\",\"ticklen\":8,\"ticks\":\"outside\",\"tickwidth\":2},\"colorscale\":[[0.0,\"rgb(2,4,25)\"],[0.06274509803921569,\"rgb(24,15,41)\"],[0.12549019607843137,\"rgb(47,23,57)\"],[0.18823529411764706,\"rgb(71,28,72)\"],[0.25098039215686274,\"rgb(97,30,82)\"],[0.3137254901960784,\"rgb(123,30,89)\"],[0.3764705882352941,\"rgb(150,27,91)\"],[0.4392156862745098,\"rgb(177,22,88)\"],[0.5019607843137255,\"rgb(203,26,79)\"],[0.5647058823529412,\"rgb(223,47,67)\"],[0.6274509803921569,\"rgb(236,76,61)\"],[0.6901960784313725,\"rgb(242,107,73)\"],[0.7529411764705882,\"rgb(244,135,95)\"],[0.8156862745098039,\"rgb(245,162,122)\"],[0.8784313725490196,\"rgb(246,188,153)\"],[0.9411764705882353,\"rgb(247,212,187)\"],[1.0,\"rgb(250,234,220)\"]],\"type\":\"contour\"}],\"heatmapgl\":[{\"colorbar\":{\"outlinewidth\":0,\"tickcolor\":\"rgb(36,36,36)\",\"ticklen\":8,\"ticks\":\"outside\",\"tickwidth\":2},\"colorscale\":[[0.0,\"rgb(2,4,25)\"],[0.06274509803921569,\"rgb(24,15,41)\"],[0.12549019607843137,\"rgb(47,23,57)\"],[0.18823529411764706,\"rgb(71,28,72)\"],[0.25098039215686274,\"rgb(97,30,82)\"],[0.3137254901960784,\"rgb(123,30,89)\"],[0.3764705882352941,\"rgb(150,27,91)\"],[0.4392156862745098,\"rgb(177,22,88)\"],[0.5019607843137255,\"rgb(203,26,79)\"],[0.5647058823529412,\"rgb(223,47,67)\"],[0.6274509803921569,\"rgb(236,76,61)\"],[0.6901960784313725,\"rgb(242,107,73)\"],[0.7529411764705882,\"rgb(244,135,95)\"],[0.8156862745098039,\"rgb(245,162,122)\"],[0.8784313725490196,\"rgb(246,188,153)\"],[0.9411764705882353,\"rgb(247,212,187)\"],[1.0,\"rgb(250,234,220)\"]],\"type\":\"heatmapgl\"}],\"heatmap\":[{\"colorbar\":{\"outlinewidth\":0,\"tickcolor\":\"rgb(36,36,36)\",\"ticklen\":8,\"ticks\":\"outside\",\"tickwidth\":2},\"colorscale\":[[0.0,\"rgb(2,4,25)\"],[0.06274509803921569,\"rgb(24,15,41)\"],[0.12549019607843137,\"rgb(47,23,57)\"],[0.18823529411764706,\"rgb(71,28,72)\"],[0.25098039215686274,\"rgb(97,30,82)\"],[0.3137254901960784,\"rgb(123,30,89)\"],[0.3764705882352941,\"rgb(150,27,91)\"],[0.4392156862745098,\"rgb(177,22,88)\"],[0.5019607843137255,\"rgb(203,26,79)\"],[0.5647058823529412,\"rgb(223,47,67)\"],[0.6274509803921569,\"rgb(236,76,61)\"],[0.6901960784313725,\"rgb(242,107,73)\"],[0.7529411764705882,\"rgb(244,135,95)\"],[0.8156862745098039,\"rgb(245,162,122)\"],[0.8784313725490196,\"rgb(246,188,153)\"],[0.9411764705882353,\"rgb(247,212,187)\"],[1.0,\"rgb(250,234,220)\"]],\"type\":\"heatmap\"}],\"histogram2dcontour\":[{\"colorbar\":{\"outlinewidth\":0,\"tickcolor\":\"rgb(36,36,36)\",\"ticklen\":8,\"ticks\":\"outside\",\"tickwidth\":2},\"colorscale\":[[0.0,\"rgb(2,4,25)\"],[0.06274509803921569,\"rgb(24,15,41)\"],[0.12549019607843137,\"rgb(47,23,57)\"],[0.18823529411764706,\"rgb(71,28,72)\"],[0.25098039215686274,\"rgb(97,30,82)\"],[0.3137254901960784,\"rgb(123,30,89)\"],[0.3764705882352941,\"rgb(150,27,91)\"],[0.4392156862745098,\"rgb(177,22,88)\"],[0.5019607843137255,\"rgb(203,26,79)\"],[0.5647058823529412,\"rgb(223,47,67)\"],[0.6274509803921569,\"rgb(236,76,61)\"],[0.6901960784313725,\"rgb(242,107,73)\"],[0.7529411764705882,\"rgb(244,135,95)\"],[0.8156862745098039,\"rgb(245,162,122)\"],[0.8784313725490196,\"rgb(246,188,153)\"],[0.9411764705882353,\"rgb(247,212,187)\"],[1.0,\"rgb(250,234,220)\"]],\"type\":\"histogram2dcontour\"}],\"histogram2d\":[{\"colorbar\":{\"outlinewidth\":0,\"tickcolor\":\"rgb(36,36,36)\",\"ticklen\":8,\"ticks\":\"outside\",\"tickwidth\":2},\"colorscale\":[[0.0,\"rgb(2,4,25)\"],[0.06274509803921569,\"rgb(24,15,41)\"],[0.12549019607843137,\"rgb(47,23,57)\"],[0.18823529411764706,\"rgb(71,28,72)\"],[0.25098039215686274,\"rgb(97,30,82)\"],[0.3137254901960784,\"rgb(123,30,89)\"],[0.3764705882352941,\"rgb(150,27,91)\"],[0.4392156862745098,\"rgb(177,22,88)\"],[0.5019607843137255,\"rgb(203,26,79)\"],[0.5647058823529412,\"rgb(223,47,67)\"],[0.6274509803921569,\"rgb(236,76,61)\"],[0.6901960784313725,\"rgb(242,107,73)\"],[0.7529411764705882,\"rgb(244,135,95)\"],[0.8156862745098039,\"rgb(245,162,122)\"],[0.8784313725490196,\"rgb(246,188,153)\"],[0.9411764705882353,\"rgb(247,212,187)\"],[1.0,\"rgb(250,234,220)\"]],\"type\":\"histogram2d\"}],\"histogram\":[{\"marker\":{\"pattern\":{\"fillmode\":\"overlay\",\"size\":10,\"solidity\":0.2}},\"type\":\"histogram\"}],\"mesh3d\":[{\"colorbar\":{\"outlinewidth\":0,\"tickcolor\":\"rgb(36,36,36)\",\"ticklen\":8,\"ticks\":\"outside\",\"tickwidth\":2},\"type\":\"mesh3d\"}],\"parcoords\":[{\"line\":{\"colorbar\":{\"outlinewidth\":0,\"tickcolor\":\"rgb(36,36,36)\",\"ticklen\":8,\"ticks\":\"outside\",\"tickwidth\":2}},\"type\":\"parcoords\"}],\"pie\":[{\"automargin\":true,\"type\":\"pie\"}],\"scatter3d\":[{\"line\":{\"colorbar\":{\"outlinewidth\":0,\"tickcolor\":\"rgb(36,36,36)\",\"ticklen\":8,\"ticks\":\"outside\",\"tickwidth\":2}},\"marker\":{\"colorbar\":{\"outlinewidth\":0,\"tickcolor\":\"rgb(36,36,36)\",\"ticklen\":8,\"ticks\":\"outside\",\"tickwidth\":2}},\"type\":\"scatter3d\"}],\"scattercarpet\":[{\"marker\":{\"colorbar\":{\"outlinewidth\":0,\"tickcolor\":\"rgb(36,36,36)\",\"ticklen\":8,\"ticks\":\"outside\",\"tickwidth\":2}},\"type\":\"scattercarpet\"}],\"scattergeo\":[{\"marker\":{\"colorbar\":{\"outlinewidth\":0,\"tickcolor\":\"rgb(36,36,36)\",\"ticklen\":8,\"ticks\":\"outside\",\"tickwidth\":2}},\"type\":\"scattergeo\"}],\"scattergl\":[{\"marker\":{\"colorbar\":{\"outlinewidth\":0,\"tickcolor\":\"rgb(36,36,36)\",\"ticklen\":8,\"ticks\":\"outside\",\"tickwidth\":2}},\"type\":\"scattergl\"}],\"scattermapbox\":[{\"marker\":{\"colorbar\":{\"outlinewidth\":0,\"tickcolor\":\"rgb(36,36,36)\",\"ticklen\":8,\"ticks\":\"outside\",\"tickwidth\":2}},\"type\":\"scattermapbox\"}],\"scatterpolargl\":[{\"marker\":{\"colorbar\":{\"outlinewidth\":0,\"tickcolor\":\"rgb(36,36,36)\",\"ticklen\":8,\"ticks\":\"outside\",\"tickwidth\":2}},\"type\":\"scatterpolargl\"}],\"scatterpolar\":[{\"marker\":{\"colorbar\":{\"outlinewidth\":0,\"tickcolor\":\"rgb(36,36,36)\",\"ticklen\":8,\"ticks\":\"outside\",\"tickwidth\":2}},\"type\":\"scatterpolar\"}],\"scatter\":[{\"marker\":{\"colorbar\":{\"outlinewidth\":0,\"tickcolor\":\"rgb(36,36,36)\",\"ticklen\":8,\"ticks\":\"outside\",\"tickwidth\":2}},\"type\":\"scatter\"}],\"scatterternary\":[{\"marker\":{\"colorbar\":{\"outlinewidth\":0,\"tickcolor\":\"rgb(36,36,36)\",\"ticklen\":8,\"ticks\":\"outside\",\"tickwidth\":2}},\"type\":\"scatterternary\"}],\"surface\":[{\"colorbar\":{\"outlinewidth\":0,\"tickcolor\":\"rgb(36,36,36)\",\"ticklen\":8,\"ticks\":\"outside\",\"tickwidth\":2},\"colorscale\":[[0.0,\"rgb(2,4,25)\"],[0.06274509803921569,\"rgb(24,15,41)\"],[0.12549019607843137,\"rgb(47,23,57)\"],[0.18823529411764706,\"rgb(71,28,72)\"],[0.25098039215686274,\"rgb(97,30,82)\"],[0.3137254901960784,\"rgb(123,30,89)\"],[0.3764705882352941,\"rgb(150,27,91)\"],[0.4392156862745098,\"rgb(177,22,88)\"],[0.5019607843137255,\"rgb(203,26,79)\"],[0.5647058823529412,\"rgb(223,47,67)\"],[0.6274509803921569,\"rgb(236,76,61)\"],[0.6901960784313725,\"rgb(242,107,73)\"],[0.7529411764705882,\"rgb(244,135,95)\"],[0.8156862745098039,\"rgb(245,162,122)\"],[0.8784313725490196,\"rgb(246,188,153)\"],[0.9411764705882353,\"rgb(247,212,187)\"],[1.0,\"rgb(250,234,220)\"]],\"type\":\"surface\"}],\"table\":[{\"cells\":{\"fill\":{\"color\":\"rgb(231,231,240)\"},\"line\":{\"color\":\"white\"}},\"header\":{\"fill\":{\"color\":\"rgb(183,183,191)\"},\"line\":{\"color\":\"white\"}},\"type\":\"table\"}]},\"layout\":{\"annotationdefaults\":{\"arrowcolor\":\"rgb(67,103,167)\"},\"autotypenumbers\":\"strict\",\"coloraxis\":{\"colorbar\":{\"outlinewidth\":0,\"tickcolor\":\"rgb(36,36,36)\",\"ticklen\":8,\"ticks\":\"outside\",\"tickwidth\":2}},\"colorscale\":{\"sequential\":[[0.0,\"rgb(2,4,25)\"],[0.06274509803921569,\"rgb(24,15,41)\"],[0.12549019607843137,\"rgb(47,23,57)\"],[0.18823529411764706,\"rgb(71,28,72)\"],[0.25098039215686274,\"rgb(97,30,82)\"],[0.3137254901960784,\"rgb(123,30,89)\"],[0.3764705882352941,\"rgb(150,27,91)\"],[0.4392156862745098,\"rgb(177,22,88)\"],[0.5019607843137255,\"rgb(203,26,79)\"],[0.5647058823529412,\"rgb(223,47,67)\"],[0.6274509803921569,\"rgb(236,76,61)\"],[0.6901960784313725,\"rgb(242,107,73)\"],[0.7529411764705882,\"rgb(244,135,95)\"],[0.8156862745098039,\"rgb(245,162,122)\"],[0.8784313725490196,\"rgb(246,188,153)\"],[0.9411764705882353,\"rgb(247,212,187)\"],[1.0,\"rgb(250,234,220)\"]],\"sequentialminus\":[[0.0,\"rgb(2,4,25)\"],[0.06274509803921569,\"rgb(24,15,41)\"],[0.12549019607843137,\"rgb(47,23,57)\"],[0.18823529411764706,\"rgb(71,28,72)\"],[0.25098039215686274,\"rgb(97,30,82)\"],[0.3137254901960784,\"rgb(123,30,89)\"],[0.3764705882352941,\"rgb(150,27,91)\"],[0.4392156862745098,\"rgb(177,22,88)\"],[0.5019607843137255,\"rgb(203,26,79)\"],[0.5647058823529412,\"rgb(223,47,67)\"],[0.6274509803921569,\"rgb(236,76,61)\"],[0.6901960784313725,\"rgb(242,107,73)\"],[0.7529411764705882,\"rgb(244,135,95)\"],[0.8156862745098039,\"rgb(245,162,122)\"],[0.8784313725490196,\"rgb(246,188,153)\"],[0.9411764705882353,\"rgb(247,212,187)\"],[1.0,\"rgb(250,234,220)\"]]},\"colorway\":[\"rgb(76,114,176)\",\"rgb(221,132,82)\",\"rgb(85,168,104)\",\"rgb(196,78,82)\",\"rgb(129,114,179)\",\"rgb(147,120,96)\",\"rgb(218,139,195)\",\"rgb(140,140,140)\",\"rgb(204,185,116)\",\"rgb(100,181,205)\"],\"font\":{\"color\":\"rgb(36,36,36)\"},\"geo\":{\"bgcolor\":\"white\",\"lakecolor\":\"white\",\"landcolor\":\"rgb(234,234,242)\",\"showlakes\":true,\"showland\":true,\"subunitcolor\":\"white\"},\"hoverlabel\":{\"align\":\"left\"},\"hovermode\":\"closest\",\"paper_bgcolor\":\"white\",\"plot_bgcolor\":\"rgb(234,234,242)\",\"polar\":{\"angularaxis\":{\"gridcolor\":\"white\",\"linecolor\":\"white\",\"showgrid\":true,\"ticks\":\"\"},\"bgcolor\":\"rgb(234,234,242)\",\"radialaxis\":{\"gridcolor\":\"white\",\"linecolor\":\"white\",\"showgrid\":true,\"ticks\":\"\"}},\"scene\":{\"xaxis\":{\"backgroundcolor\":\"rgb(234,234,242)\",\"gridcolor\":\"white\",\"gridwidth\":2,\"linecolor\":\"white\",\"showbackground\":true,\"showgrid\":true,\"ticks\":\"\",\"zerolinecolor\":\"white\"},\"yaxis\":{\"backgroundcolor\":\"rgb(234,234,242)\",\"gridcolor\":\"white\",\"gridwidth\":2,\"linecolor\":\"white\",\"showbackground\":true,\"showgrid\":true,\"ticks\":\"\",\"zerolinecolor\":\"white\"},\"zaxis\":{\"backgroundcolor\":\"rgb(234,234,242)\",\"gridcolor\":\"white\",\"gridwidth\":2,\"linecolor\":\"white\",\"showbackground\":true,\"showgrid\":true,\"ticks\":\"\",\"zerolinecolor\":\"white\"}},\"shapedefaults\":{\"fillcolor\":\"rgb(67,103,167)\",\"line\":{\"width\":0},\"opacity\":0.5},\"ternary\":{\"aaxis\":{\"gridcolor\":\"white\",\"linecolor\":\"white\",\"showgrid\":true,\"ticks\":\"\"},\"baxis\":{\"gridcolor\":\"white\",\"linecolor\":\"white\",\"showgrid\":true,\"ticks\":\"\"},\"bgcolor\":\"rgb(234,234,242)\",\"caxis\":{\"gridcolor\":\"white\",\"linecolor\":\"white\",\"showgrid\":true,\"ticks\":\"\"}},\"xaxis\":{\"automargin\":true,\"gridcolor\":\"white\",\"linecolor\":\"white\",\"showgrid\":true,\"ticks\":\"\",\"title\":{\"standoff\":15},\"zerolinecolor\":\"white\"},\"yaxis\":{\"automargin\":true,\"gridcolor\":\"white\",\"linecolor\":\"white\",\"showgrid\":true,\"ticks\":\"\",\"title\":{\"standoff\":15},\"zerolinecolor\":\"white\"}}},\"xaxis\":{\"anchor\":\"y\",\"domain\":[0.0,1.0],\"title\":{\"text\":\"Genre\"},\"categoryorder\":\"total descending\",\"categoryarray\":[\"Adventure\",\"Comedy\",\"Action\",\"Drama\",\"Romantic Comedy\",\"Documentary\",\"Thriller/Suspense\",\"Western\",\"Black Comedy\",\"Musical\",\"Horror\",\"Concert/Performance\"]},\"yaxis\":{\"anchor\":\"x\",\"domain\":[0.0,1.0],\"title\":{\"text\":\"count\"}},\"legend\":{\"title\":{\"text\":\"Genre\"},\"tracegroupgap\":0},\"title\":{\"text\":\"<b> Genre frquency in data\"},\"barmode\":\"relative\"},                        {\"responsive\": true}                    ).then(function(){\n",
       "                            \n",
       "var gd = document.getElementById('f6de827e-7c5d-4d0f-91f6-2a8ba0c4896b');\n",
       "var x = new MutationObserver(function (mutations, observer) {{\n",
       "        var display = window.getComputedStyle(gd).display;\n",
       "        if (!display || display === 'none') {{\n",
       "            console.log([gd, 'removed!']);\n",
       "            Plotly.purge(gd);\n",
       "            observer.disconnect();\n",
       "        }}\n",
       "}});\n",
       "\n",
       "// Listen for the removal of the full notebook cells\n",
       "var notebookContainer = gd.closest('#notebook-container');\n",
       "if (notebookContainer) {{\n",
       "    x.observe(notebookContainer, {childList: true});\n",
       "}}\n",
       "\n",
       "// Listen for the clearing of the current output cell\n",
       "var outputEl = gd.closest('.output');\n",
       "if (outputEl) {{\n",
       "    x.observe(outputEl, {childList: true});\n",
       "}}\n",
       "\n",
       "                        })                };                });            </script>        </div>"
      ]
     },
     "metadata": {},
     "output_type": "display_data"
    }
   ],
   "source": [
    "px.histogram(data_frame=dataset, x=\"Genre\", template=\"seaborn\",color=\"Genre\" , text_auto=True\n",
    "            , title=\"<b> Genre frquency in data\").update_layout(xaxis={'categoryorder':'total descending'})"
   ]
  },
  {
   "cell_type": "code",
   "execution_count": 52,
   "id": "523f39b9",
   "metadata": {},
   "outputs": [
    {
     "data": {
      "text/html": [
       "<div>\n",
       "<style scoped>\n",
       "    .dataframe tbody tr th:only-of-type {\n",
       "        vertical-align: middle;\n",
       "    }\n",
       "\n",
       "    .dataframe tbody tr th {\n",
       "        vertical-align: top;\n",
       "    }\n",
       "\n",
       "    .dataframe thead th {\n",
       "        text-align: right;\n",
       "    }\n",
       "</style>\n",
       "<table border=\"1\" class=\"dataframe\">\n",
       "  <thead>\n",
       "    <tr style=\"text-align: right;\">\n",
       "      <th></th>\n",
       "      <th>Genre</th>\n",
       "      <th>Profit ($)</th>\n",
       "    </tr>\n",
       "  </thead>\n",
       "  <tbody>\n",
       "    <tr>\n",
       "      <th>1</th>\n",
       "      <td>Adventure</td>\n",
       "      <td>78478296109</td>\n",
       "    </tr>\n",
       "    <tr>\n",
       "      <th>0</th>\n",
       "      <td>Action</td>\n",
       "      <td>50174516295</td>\n",
       "    </tr>\n",
       "    <tr>\n",
       "      <th>6</th>\n",
       "      <td>Drama</td>\n",
       "      <td>36531899775</td>\n",
       "    </tr>\n",
       "    <tr>\n",
       "      <th>3</th>\n",
       "      <td>Comedy</td>\n",
       "      <td>35093379103</td>\n",
       "    </tr>\n",
       "    <tr>\n",
       "      <th>10</th>\n",
       "      <td>Thriller/Suspense</td>\n",
       "      <td>20344836467</td>\n",
       "    </tr>\n",
       "    <tr>\n",
       "      <th>9</th>\n",
       "      <td>Romantic Comedy</td>\n",
       "      <td>10248912454</td>\n",
       "    </tr>\n",
       "    <tr>\n",
       "      <th>7</th>\n",
       "      <td>Horror</td>\n",
       "      <td>8833958599</td>\n",
       "    </tr>\n",
       "    <tr>\n",
       "      <th>8</th>\n",
       "      <td>Musical</td>\n",
       "      <td>2685547930</td>\n",
       "    </tr>\n",
       "    <tr>\n",
       "      <th>2</th>\n",
       "      <td>Black Comedy</td>\n",
       "      <td>1192156216</td>\n",
       "    </tr>\n",
       "    <tr>\n",
       "      <th>11</th>\n",
       "      <td>Western</td>\n",
       "      <td>481528611</td>\n",
       "    </tr>\n",
       "    <tr>\n",
       "      <th>5</th>\n",
       "      <td>Documentary</td>\n",
       "      <td>356143632</td>\n",
       "    </tr>\n",
       "    <tr>\n",
       "      <th>4</th>\n",
       "      <td>Concert/Performance</td>\n",
       "      <td>119113089</td>\n",
       "    </tr>\n",
       "  </tbody>\n",
       "</table>\n",
       "</div>"
      ],
      "text/plain": [
       "                  Genre   Profit ($)\n",
       "1             Adventure  78478296109\n",
       "0                Action  50174516295\n",
       "6                 Drama  36531899775\n",
       "3                Comedy  35093379103\n",
       "10    Thriller/Suspense  20344836467\n",
       "9       Romantic Comedy  10248912454\n",
       "7                Horror   8833958599\n",
       "8               Musical   2685547930\n",
       "2          Black Comedy   1192156216\n",
       "11              Western    481528611\n",
       "5           Documentary    356143632\n",
       "4   Concert/Performance    119113089"
      ]
     },
     "execution_count": 52,
     "metadata": {},
     "output_type": "execute_result"
    }
   ],
   "source": [
    "dataset.groupby(\"Genre\",as_index=False)[[\"Profit ($)\"]].sum().sort_values(by = \"Profit ($)\", ascending=False)\n"
   ]
  },
  {
   "cell_type": "code",
   "execution_count": 41,
   "id": "8ef9516a",
   "metadata": {},
   "outputs": [
    {
     "data": {
      "text/html": [
       "<div>\n",
       "<style scoped>\n",
       "    .dataframe tbody tr th:only-of-type {\n",
       "        vertical-align: middle;\n",
       "    }\n",
       "\n",
       "    .dataframe tbody tr th {\n",
       "        vertical-align: top;\n",
       "    }\n",
       "\n",
       "    .dataframe thead th {\n",
       "        text-align: right;\n",
       "    }\n",
       "</style>\n",
       "<table border=\"1\" class=\"dataframe\">\n",
       "  <thead>\n",
       "    <tr style=\"text-align: right;\">\n",
       "      <th></th>\n",
       "      <th>Genre</th>\n",
       "      <th>Profit ($)</th>\n",
       "    </tr>\n",
       "  </thead>\n",
       "  <tbody>\n",
       "    <tr>\n",
       "      <th>1</th>\n",
       "      <td>Adventure</td>\n",
       "      <td>78478296109</td>\n",
       "    </tr>\n",
       "    <tr>\n",
       "      <th>0</th>\n",
       "      <td>Action</td>\n",
       "      <td>50174516295</td>\n",
       "    </tr>\n",
       "    <tr>\n",
       "      <th>6</th>\n",
       "      <td>Drama</td>\n",
       "      <td>36531899775</td>\n",
       "    </tr>\n",
       "    <tr>\n",
       "      <th>3</th>\n",
       "      <td>Comedy</td>\n",
       "      <td>35093379103</td>\n",
       "    </tr>\n",
       "    <tr>\n",
       "      <th>10</th>\n",
       "      <td>Thriller/Suspense</td>\n",
       "      <td>20344836467</td>\n",
       "    </tr>\n",
       "  </tbody>\n",
       "</table>\n",
       "</div>"
      ],
      "text/plain": [
       "                Genre   Profit ($)\n",
       "1           Adventure  78478296109\n",
       "0              Action  50174516295\n",
       "6               Drama  36531899775\n",
       "3              Comedy  35093379103\n",
       "10  Thriller/Suspense  20344836467"
      ]
     },
     "execution_count": 41,
     "metadata": {},
     "output_type": "execute_result"
    }
   ],
   "source": [
    "Top_5 = dataset.groupby(\"Genre\",as_index=False)[[\"Profit ($)\"]].sum().sort_values(by = \"Profit ($)\", ascending=False)\n",
    "Top_5[:5]"
   ]
  },
  {
   "cell_type": "code",
   "execution_count": 44,
   "id": "bd647158",
   "metadata": {},
   "outputs": [
    {
     "data": {
      "application/vnd.plotly.v1+json": {
       "config": {
        "plotlyServerURL": "https://plot.ly"
       },
       "data": [
        {
         "alignmentgroup": "True",
         "bingroup": "x",
         "histfunc": "sum",
         "hovertemplate": "Genre=%{x}<br>sum of Profit ($)=%{y}<extra></extra>",
         "legendgroup": "Adventure",
         "marker": {
          "color": "rgb(76,114,176)",
          "pattern": {
           "shape": ""
          }
         },
         "name": "Adventure",
         "offsetgroup": "Adventure",
         "orientation": "v",
         "showlegend": true,
         "texttemplate": "%{value}",
         "type": "histogram",
         "x": [
          "Adventure"
         ],
         "xaxis": "x",
         "y": [
          78478296109
         ],
         "yaxis": "y"
        },
        {
         "alignmentgroup": "True",
         "bingroup": "x",
         "histfunc": "sum",
         "hovertemplate": "Genre=%{x}<br>sum of Profit ($)=%{y}<extra></extra>",
         "legendgroup": "Action",
         "marker": {
          "color": "rgb(221,132,82)",
          "pattern": {
           "shape": ""
          }
         },
         "name": "Action",
         "offsetgroup": "Action",
         "orientation": "v",
         "showlegend": true,
         "texttemplate": "%{value}",
         "type": "histogram",
         "x": [
          "Action"
         ],
         "xaxis": "x",
         "y": [
          50174516295
         ],
         "yaxis": "y"
        },
        {
         "alignmentgroup": "True",
         "bingroup": "x",
         "histfunc": "sum",
         "hovertemplate": "Genre=%{x}<br>sum of Profit ($)=%{y}<extra></extra>",
         "legendgroup": "Drama",
         "marker": {
          "color": "rgb(85,168,104)",
          "pattern": {
           "shape": ""
          }
         },
         "name": "Drama",
         "offsetgroup": "Drama",
         "orientation": "v",
         "showlegend": true,
         "texttemplate": "%{value}",
         "type": "histogram",
         "x": [
          "Drama"
         ],
         "xaxis": "x",
         "y": [
          36531899775
         ],
         "yaxis": "y"
        },
        {
         "alignmentgroup": "True",
         "bingroup": "x",
         "histfunc": "sum",
         "hovertemplate": "Genre=%{x}<br>sum of Profit ($)=%{y}<extra></extra>",
         "legendgroup": "Comedy",
         "marker": {
          "color": "rgb(196,78,82)",
          "pattern": {
           "shape": ""
          }
         },
         "name": "Comedy",
         "offsetgroup": "Comedy",
         "orientation": "v",
         "showlegend": true,
         "texttemplate": "%{value}",
         "type": "histogram",
         "x": [
          "Comedy"
         ],
         "xaxis": "x",
         "y": [
          35093379103
         ],
         "yaxis": "y"
        },
        {
         "alignmentgroup": "True",
         "bingroup": "x",
         "histfunc": "sum",
         "hovertemplate": "Genre=%{x}<br>sum of Profit ($)=%{y}<extra></extra>",
         "legendgroup": "Thriller/Suspense",
         "marker": {
          "color": "rgb(129,114,179)",
          "pattern": {
           "shape": ""
          }
         },
         "name": "Thriller/Suspense",
         "offsetgroup": "Thriller/Suspense",
         "orientation": "v",
         "showlegend": true,
         "texttemplate": "%{value}",
         "type": "histogram",
         "x": [
          "Thriller/Suspense"
         ],
         "xaxis": "x",
         "y": [
          20344836467
         ],
         "yaxis": "y"
        }
       ],
       "layout": {
        "barmode": "relative",
        "legend": {
         "title": {
          "text": "Genre"
         },
         "tracegroupgap": 0
        },
        "template": {
         "data": {
          "bar": [
           {
            "error_x": {
             "color": "rgb(36,36,36)"
            },
            "error_y": {
             "color": "rgb(36,36,36)"
            },
            "marker": {
             "line": {
              "color": "rgb(234,234,242)",
              "width": 0.5
             },
             "pattern": {
              "fillmode": "overlay",
              "size": 10,
              "solidity": 0.2
             }
            },
            "type": "bar"
           }
          ],
          "barpolar": [
           {
            "marker": {
             "line": {
              "color": "rgb(234,234,242)",
              "width": 0.5
             },
             "pattern": {
              "fillmode": "overlay",
              "size": 10,
              "solidity": 0.2
             }
            },
            "type": "barpolar"
           }
          ],
          "carpet": [
           {
            "aaxis": {
             "endlinecolor": "rgb(36,36,36)",
             "gridcolor": "white",
             "linecolor": "white",
             "minorgridcolor": "white",
             "startlinecolor": "rgb(36,36,36)"
            },
            "baxis": {
             "endlinecolor": "rgb(36,36,36)",
             "gridcolor": "white",
             "linecolor": "white",
             "minorgridcolor": "white",
             "startlinecolor": "rgb(36,36,36)"
            },
            "type": "carpet"
           }
          ],
          "choropleth": [
           {
            "colorbar": {
             "outlinewidth": 0,
             "tickcolor": "rgb(36,36,36)",
             "ticklen": 8,
             "ticks": "outside",
             "tickwidth": 2
            },
            "type": "choropleth"
           }
          ],
          "contour": [
           {
            "colorbar": {
             "outlinewidth": 0,
             "tickcolor": "rgb(36,36,36)",
             "ticklen": 8,
             "ticks": "outside",
             "tickwidth": 2
            },
            "colorscale": [
             [
              0,
              "rgb(2,4,25)"
             ],
             [
              0.06274509803921569,
              "rgb(24,15,41)"
             ],
             [
              0.12549019607843137,
              "rgb(47,23,57)"
             ],
             [
              0.18823529411764706,
              "rgb(71,28,72)"
             ],
             [
              0.25098039215686274,
              "rgb(97,30,82)"
             ],
             [
              0.3137254901960784,
              "rgb(123,30,89)"
             ],
             [
              0.3764705882352941,
              "rgb(150,27,91)"
             ],
             [
              0.4392156862745098,
              "rgb(177,22,88)"
             ],
             [
              0.5019607843137255,
              "rgb(203,26,79)"
             ],
             [
              0.5647058823529412,
              "rgb(223,47,67)"
             ],
             [
              0.6274509803921569,
              "rgb(236,76,61)"
             ],
             [
              0.6901960784313725,
              "rgb(242,107,73)"
             ],
             [
              0.7529411764705882,
              "rgb(244,135,95)"
             ],
             [
              0.8156862745098039,
              "rgb(245,162,122)"
             ],
             [
              0.8784313725490196,
              "rgb(246,188,153)"
             ],
             [
              0.9411764705882353,
              "rgb(247,212,187)"
             ],
             [
              1,
              "rgb(250,234,220)"
             ]
            ],
            "type": "contour"
           }
          ],
          "contourcarpet": [
           {
            "colorbar": {
             "outlinewidth": 0,
             "tickcolor": "rgb(36,36,36)",
             "ticklen": 8,
             "ticks": "outside",
             "tickwidth": 2
            },
            "type": "contourcarpet"
           }
          ],
          "heatmap": [
           {
            "colorbar": {
             "outlinewidth": 0,
             "tickcolor": "rgb(36,36,36)",
             "ticklen": 8,
             "ticks": "outside",
             "tickwidth": 2
            },
            "colorscale": [
             [
              0,
              "rgb(2,4,25)"
             ],
             [
              0.06274509803921569,
              "rgb(24,15,41)"
             ],
             [
              0.12549019607843137,
              "rgb(47,23,57)"
             ],
             [
              0.18823529411764706,
              "rgb(71,28,72)"
             ],
             [
              0.25098039215686274,
              "rgb(97,30,82)"
             ],
             [
              0.3137254901960784,
              "rgb(123,30,89)"
             ],
             [
              0.3764705882352941,
              "rgb(150,27,91)"
             ],
             [
              0.4392156862745098,
              "rgb(177,22,88)"
             ],
             [
              0.5019607843137255,
              "rgb(203,26,79)"
             ],
             [
              0.5647058823529412,
              "rgb(223,47,67)"
             ],
             [
              0.6274509803921569,
              "rgb(236,76,61)"
             ],
             [
              0.6901960784313725,
              "rgb(242,107,73)"
             ],
             [
              0.7529411764705882,
              "rgb(244,135,95)"
             ],
             [
              0.8156862745098039,
              "rgb(245,162,122)"
             ],
             [
              0.8784313725490196,
              "rgb(246,188,153)"
             ],
             [
              0.9411764705882353,
              "rgb(247,212,187)"
             ],
             [
              1,
              "rgb(250,234,220)"
             ]
            ],
            "type": "heatmap"
           }
          ],
          "heatmapgl": [
           {
            "colorbar": {
             "outlinewidth": 0,
             "tickcolor": "rgb(36,36,36)",
             "ticklen": 8,
             "ticks": "outside",
             "tickwidth": 2
            },
            "colorscale": [
             [
              0,
              "rgb(2,4,25)"
             ],
             [
              0.06274509803921569,
              "rgb(24,15,41)"
             ],
             [
              0.12549019607843137,
              "rgb(47,23,57)"
             ],
             [
              0.18823529411764706,
              "rgb(71,28,72)"
             ],
             [
              0.25098039215686274,
              "rgb(97,30,82)"
             ],
             [
              0.3137254901960784,
              "rgb(123,30,89)"
             ],
             [
              0.3764705882352941,
              "rgb(150,27,91)"
             ],
             [
              0.4392156862745098,
              "rgb(177,22,88)"
             ],
             [
              0.5019607843137255,
              "rgb(203,26,79)"
             ],
             [
              0.5647058823529412,
              "rgb(223,47,67)"
             ],
             [
              0.6274509803921569,
              "rgb(236,76,61)"
             ],
             [
              0.6901960784313725,
              "rgb(242,107,73)"
             ],
             [
              0.7529411764705882,
              "rgb(244,135,95)"
             ],
             [
              0.8156862745098039,
              "rgb(245,162,122)"
             ],
             [
              0.8784313725490196,
              "rgb(246,188,153)"
             ],
             [
              0.9411764705882353,
              "rgb(247,212,187)"
             ],
             [
              1,
              "rgb(250,234,220)"
             ]
            ],
            "type": "heatmapgl"
           }
          ],
          "histogram": [
           {
            "marker": {
             "pattern": {
              "fillmode": "overlay",
              "size": 10,
              "solidity": 0.2
             }
            },
            "type": "histogram"
           }
          ],
          "histogram2d": [
           {
            "colorbar": {
             "outlinewidth": 0,
             "tickcolor": "rgb(36,36,36)",
             "ticklen": 8,
             "ticks": "outside",
             "tickwidth": 2
            },
            "colorscale": [
             [
              0,
              "rgb(2,4,25)"
             ],
             [
              0.06274509803921569,
              "rgb(24,15,41)"
             ],
             [
              0.12549019607843137,
              "rgb(47,23,57)"
             ],
             [
              0.18823529411764706,
              "rgb(71,28,72)"
             ],
             [
              0.25098039215686274,
              "rgb(97,30,82)"
             ],
             [
              0.3137254901960784,
              "rgb(123,30,89)"
             ],
             [
              0.3764705882352941,
              "rgb(150,27,91)"
             ],
             [
              0.4392156862745098,
              "rgb(177,22,88)"
             ],
             [
              0.5019607843137255,
              "rgb(203,26,79)"
             ],
             [
              0.5647058823529412,
              "rgb(223,47,67)"
             ],
             [
              0.6274509803921569,
              "rgb(236,76,61)"
             ],
             [
              0.6901960784313725,
              "rgb(242,107,73)"
             ],
             [
              0.7529411764705882,
              "rgb(244,135,95)"
             ],
             [
              0.8156862745098039,
              "rgb(245,162,122)"
             ],
             [
              0.8784313725490196,
              "rgb(246,188,153)"
             ],
             [
              0.9411764705882353,
              "rgb(247,212,187)"
             ],
             [
              1,
              "rgb(250,234,220)"
             ]
            ],
            "type": "histogram2d"
           }
          ],
          "histogram2dcontour": [
           {
            "colorbar": {
             "outlinewidth": 0,
             "tickcolor": "rgb(36,36,36)",
             "ticklen": 8,
             "ticks": "outside",
             "tickwidth": 2
            },
            "colorscale": [
             [
              0,
              "rgb(2,4,25)"
             ],
             [
              0.06274509803921569,
              "rgb(24,15,41)"
             ],
             [
              0.12549019607843137,
              "rgb(47,23,57)"
             ],
             [
              0.18823529411764706,
              "rgb(71,28,72)"
             ],
             [
              0.25098039215686274,
              "rgb(97,30,82)"
             ],
             [
              0.3137254901960784,
              "rgb(123,30,89)"
             ],
             [
              0.3764705882352941,
              "rgb(150,27,91)"
             ],
             [
              0.4392156862745098,
              "rgb(177,22,88)"
             ],
             [
              0.5019607843137255,
              "rgb(203,26,79)"
             ],
             [
              0.5647058823529412,
              "rgb(223,47,67)"
             ],
             [
              0.6274509803921569,
              "rgb(236,76,61)"
             ],
             [
              0.6901960784313725,
              "rgb(242,107,73)"
             ],
             [
              0.7529411764705882,
              "rgb(244,135,95)"
             ],
             [
              0.8156862745098039,
              "rgb(245,162,122)"
             ],
             [
              0.8784313725490196,
              "rgb(246,188,153)"
             ],
             [
              0.9411764705882353,
              "rgb(247,212,187)"
             ],
             [
              1,
              "rgb(250,234,220)"
             ]
            ],
            "type": "histogram2dcontour"
           }
          ],
          "mesh3d": [
           {
            "colorbar": {
             "outlinewidth": 0,
             "tickcolor": "rgb(36,36,36)",
             "ticklen": 8,
             "ticks": "outside",
             "tickwidth": 2
            },
            "type": "mesh3d"
           }
          ],
          "parcoords": [
           {
            "line": {
             "colorbar": {
              "outlinewidth": 0,
              "tickcolor": "rgb(36,36,36)",
              "ticklen": 8,
              "ticks": "outside",
              "tickwidth": 2
             }
            },
            "type": "parcoords"
           }
          ],
          "pie": [
           {
            "automargin": true,
            "type": "pie"
           }
          ],
          "scatter": [
           {
            "marker": {
             "colorbar": {
              "outlinewidth": 0,
              "tickcolor": "rgb(36,36,36)",
              "ticklen": 8,
              "ticks": "outside",
              "tickwidth": 2
             }
            },
            "type": "scatter"
           }
          ],
          "scatter3d": [
           {
            "line": {
             "colorbar": {
              "outlinewidth": 0,
              "tickcolor": "rgb(36,36,36)",
              "ticklen": 8,
              "ticks": "outside",
              "tickwidth": 2
             }
            },
            "marker": {
             "colorbar": {
              "outlinewidth": 0,
              "tickcolor": "rgb(36,36,36)",
              "ticklen": 8,
              "ticks": "outside",
              "tickwidth": 2
             }
            },
            "type": "scatter3d"
           }
          ],
          "scattercarpet": [
           {
            "marker": {
             "colorbar": {
              "outlinewidth": 0,
              "tickcolor": "rgb(36,36,36)",
              "ticklen": 8,
              "ticks": "outside",
              "tickwidth": 2
             }
            },
            "type": "scattercarpet"
           }
          ],
          "scattergeo": [
           {
            "marker": {
             "colorbar": {
              "outlinewidth": 0,
              "tickcolor": "rgb(36,36,36)",
              "ticklen": 8,
              "ticks": "outside",
              "tickwidth": 2
             }
            },
            "type": "scattergeo"
           }
          ],
          "scattergl": [
           {
            "marker": {
             "colorbar": {
              "outlinewidth": 0,
              "tickcolor": "rgb(36,36,36)",
              "ticklen": 8,
              "ticks": "outside",
              "tickwidth": 2
             }
            },
            "type": "scattergl"
           }
          ],
          "scattermapbox": [
           {
            "marker": {
             "colorbar": {
              "outlinewidth": 0,
              "tickcolor": "rgb(36,36,36)",
              "ticklen": 8,
              "ticks": "outside",
              "tickwidth": 2
             }
            },
            "type": "scattermapbox"
           }
          ],
          "scatterpolar": [
           {
            "marker": {
             "colorbar": {
              "outlinewidth": 0,
              "tickcolor": "rgb(36,36,36)",
              "ticklen": 8,
              "ticks": "outside",
              "tickwidth": 2
             }
            },
            "type": "scatterpolar"
           }
          ],
          "scatterpolargl": [
           {
            "marker": {
             "colorbar": {
              "outlinewidth": 0,
              "tickcolor": "rgb(36,36,36)",
              "ticklen": 8,
              "ticks": "outside",
              "tickwidth": 2
             }
            },
            "type": "scatterpolargl"
           }
          ],
          "scatterternary": [
           {
            "marker": {
             "colorbar": {
              "outlinewidth": 0,
              "tickcolor": "rgb(36,36,36)",
              "ticklen": 8,
              "ticks": "outside",
              "tickwidth": 2
             }
            },
            "type": "scatterternary"
           }
          ],
          "surface": [
           {
            "colorbar": {
             "outlinewidth": 0,
             "tickcolor": "rgb(36,36,36)",
             "ticklen": 8,
             "ticks": "outside",
             "tickwidth": 2
            },
            "colorscale": [
             [
              0,
              "rgb(2,4,25)"
             ],
             [
              0.06274509803921569,
              "rgb(24,15,41)"
             ],
             [
              0.12549019607843137,
              "rgb(47,23,57)"
             ],
             [
              0.18823529411764706,
              "rgb(71,28,72)"
             ],
             [
              0.25098039215686274,
              "rgb(97,30,82)"
             ],
             [
              0.3137254901960784,
              "rgb(123,30,89)"
             ],
             [
              0.3764705882352941,
              "rgb(150,27,91)"
             ],
             [
              0.4392156862745098,
              "rgb(177,22,88)"
             ],
             [
              0.5019607843137255,
              "rgb(203,26,79)"
             ],
             [
              0.5647058823529412,
              "rgb(223,47,67)"
             ],
             [
              0.6274509803921569,
              "rgb(236,76,61)"
             ],
             [
              0.6901960784313725,
              "rgb(242,107,73)"
             ],
             [
              0.7529411764705882,
              "rgb(244,135,95)"
             ],
             [
              0.8156862745098039,
              "rgb(245,162,122)"
             ],
             [
              0.8784313725490196,
              "rgb(246,188,153)"
             ],
             [
              0.9411764705882353,
              "rgb(247,212,187)"
             ],
             [
              1,
              "rgb(250,234,220)"
             ]
            ],
            "type": "surface"
           }
          ],
          "table": [
           {
            "cells": {
             "fill": {
              "color": "rgb(231,231,240)"
             },
             "line": {
              "color": "white"
             }
            },
            "header": {
             "fill": {
              "color": "rgb(183,183,191)"
             },
             "line": {
              "color": "white"
             }
            },
            "type": "table"
           }
          ]
         },
         "layout": {
          "annotationdefaults": {
           "arrowcolor": "rgb(67,103,167)"
          },
          "autotypenumbers": "strict",
          "coloraxis": {
           "colorbar": {
            "outlinewidth": 0,
            "tickcolor": "rgb(36,36,36)",
            "ticklen": 8,
            "ticks": "outside",
            "tickwidth": 2
           }
          },
          "colorscale": {
           "sequential": [
            [
             0,
             "rgb(2,4,25)"
            ],
            [
             0.06274509803921569,
             "rgb(24,15,41)"
            ],
            [
             0.12549019607843137,
             "rgb(47,23,57)"
            ],
            [
             0.18823529411764706,
             "rgb(71,28,72)"
            ],
            [
             0.25098039215686274,
             "rgb(97,30,82)"
            ],
            [
             0.3137254901960784,
             "rgb(123,30,89)"
            ],
            [
             0.3764705882352941,
             "rgb(150,27,91)"
            ],
            [
             0.4392156862745098,
             "rgb(177,22,88)"
            ],
            [
             0.5019607843137255,
             "rgb(203,26,79)"
            ],
            [
             0.5647058823529412,
             "rgb(223,47,67)"
            ],
            [
             0.6274509803921569,
             "rgb(236,76,61)"
            ],
            [
             0.6901960784313725,
             "rgb(242,107,73)"
            ],
            [
             0.7529411764705882,
             "rgb(244,135,95)"
            ],
            [
             0.8156862745098039,
             "rgb(245,162,122)"
            ],
            [
             0.8784313725490196,
             "rgb(246,188,153)"
            ],
            [
             0.9411764705882353,
             "rgb(247,212,187)"
            ],
            [
             1,
             "rgb(250,234,220)"
            ]
           ],
           "sequentialminus": [
            [
             0,
             "rgb(2,4,25)"
            ],
            [
             0.06274509803921569,
             "rgb(24,15,41)"
            ],
            [
             0.12549019607843137,
             "rgb(47,23,57)"
            ],
            [
             0.18823529411764706,
             "rgb(71,28,72)"
            ],
            [
             0.25098039215686274,
             "rgb(97,30,82)"
            ],
            [
             0.3137254901960784,
             "rgb(123,30,89)"
            ],
            [
             0.3764705882352941,
             "rgb(150,27,91)"
            ],
            [
             0.4392156862745098,
             "rgb(177,22,88)"
            ],
            [
             0.5019607843137255,
             "rgb(203,26,79)"
            ],
            [
             0.5647058823529412,
             "rgb(223,47,67)"
            ],
            [
             0.6274509803921569,
             "rgb(236,76,61)"
            ],
            [
             0.6901960784313725,
             "rgb(242,107,73)"
            ],
            [
             0.7529411764705882,
             "rgb(244,135,95)"
            ],
            [
             0.8156862745098039,
             "rgb(245,162,122)"
            ],
            [
             0.8784313725490196,
             "rgb(246,188,153)"
            ],
            [
             0.9411764705882353,
             "rgb(247,212,187)"
            ],
            [
             1,
             "rgb(250,234,220)"
            ]
           ]
          },
          "colorway": [
           "rgb(76,114,176)",
           "rgb(221,132,82)",
           "rgb(85,168,104)",
           "rgb(196,78,82)",
           "rgb(129,114,179)",
           "rgb(147,120,96)",
           "rgb(218,139,195)",
           "rgb(140,140,140)",
           "rgb(204,185,116)",
           "rgb(100,181,205)"
          ],
          "font": {
           "color": "rgb(36,36,36)"
          },
          "geo": {
           "bgcolor": "white",
           "lakecolor": "white",
           "landcolor": "rgb(234,234,242)",
           "showlakes": true,
           "showland": true,
           "subunitcolor": "white"
          },
          "hoverlabel": {
           "align": "left"
          },
          "hovermode": "closest",
          "paper_bgcolor": "white",
          "plot_bgcolor": "rgb(234,234,242)",
          "polar": {
           "angularaxis": {
            "gridcolor": "white",
            "linecolor": "white",
            "showgrid": true,
            "ticks": ""
           },
           "bgcolor": "rgb(234,234,242)",
           "radialaxis": {
            "gridcolor": "white",
            "linecolor": "white",
            "showgrid": true,
            "ticks": ""
           }
          },
          "scene": {
           "xaxis": {
            "backgroundcolor": "rgb(234,234,242)",
            "gridcolor": "white",
            "gridwidth": 2,
            "linecolor": "white",
            "showbackground": true,
            "showgrid": true,
            "ticks": "",
            "zerolinecolor": "white"
           },
           "yaxis": {
            "backgroundcolor": "rgb(234,234,242)",
            "gridcolor": "white",
            "gridwidth": 2,
            "linecolor": "white",
            "showbackground": true,
            "showgrid": true,
            "ticks": "",
            "zerolinecolor": "white"
           },
           "zaxis": {
            "backgroundcolor": "rgb(234,234,242)",
            "gridcolor": "white",
            "gridwidth": 2,
            "linecolor": "white",
            "showbackground": true,
            "showgrid": true,
            "ticks": "",
            "zerolinecolor": "white"
           }
          },
          "shapedefaults": {
           "fillcolor": "rgb(67,103,167)",
           "line": {
            "width": 0
           },
           "opacity": 0.5
          },
          "ternary": {
           "aaxis": {
            "gridcolor": "white",
            "linecolor": "white",
            "showgrid": true,
            "ticks": ""
           },
           "baxis": {
            "gridcolor": "white",
            "linecolor": "white",
            "showgrid": true,
            "ticks": ""
           },
           "bgcolor": "rgb(234,234,242)",
           "caxis": {
            "gridcolor": "white",
            "linecolor": "white",
            "showgrid": true,
            "ticks": ""
           }
          },
          "xaxis": {
           "automargin": true,
           "gridcolor": "white",
           "linecolor": "white",
           "showgrid": true,
           "ticks": "",
           "title": {
            "standoff": 15
           },
           "zerolinecolor": "white"
          },
          "yaxis": {
           "automargin": true,
           "gridcolor": "white",
           "linecolor": "white",
           "showgrid": true,
           "ticks": "",
           "title": {
            "standoff": 15
           },
           "zerolinecolor": "white"
          }
         }
        },
        "title": {
         "text": "<b> Top 5 Genre in terms of Profit"
        },
        "xaxis": {
         "anchor": "y",
         "categoryarray": [
          "Adventure",
          "Action",
          "Drama",
          "Comedy",
          "Thriller/Suspense"
         ],
         "categoryorder": "array",
         "domain": [
          0,
          1
         ],
         "title": {
          "text": "Genre"
         }
        },
        "yaxis": {
         "anchor": "x",
         "domain": [
          0,
          1
         ],
         "title": {
          "text": "sum of Profit ($)"
         }
        }
       }
      },
      "text/html": [
       "<div>                            <div id=\"390a4ee9-605f-4d56-8d35-19f1de7a3c12\" class=\"plotly-graph-div\" style=\"height:525px; width:100%;\"></div>            <script type=\"text/javascript\">                require([\"plotly\"], function(Plotly) {                    window.PLOTLYENV=window.PLOTLYENV || {};                                    if (document.getElementById(\"390a4ee9-605f-4d56-8d35-19f1de7a3c12\")) {                    Plotly.newPlot(                        \"390a4ee9-605f-4d56-8d35-19f1de7a3c12\",                        [{\"alignmentgroup\":\"True\",\"bingroup\":\"x\",\"histfunc\":\"sum\",\"hovertemplate\":\"Genre=%{x}<br>sum of Profit ($)=%{y}<extra></extra>\",\"legendgroup\":\"Adventure\",\"marker\":{\"color\":\"rgb(76,114,176)\",\"pattern\":{\"shape\":\"\"}},\"name\":\"Adventure\",\"offsetgroup\":\"Adventure\",\"orientation\":\"v\",\"showlegend\":true,\"texttemplate\":\"%{value}\",\"x\":[\"Adventure\"],\"xaxis\":\"x\",\"y\":[78478296109],\"yaxis\":\"y\",\"type\":\"histogram\"},{\"alignmentgroup\":\"True\",\"bingroup\":\"x\",\"histfunc\":\"sum\",\"hovertemplate\":\"Genre=%{x}<br>sum of Profit ($)=%{y}<extra></extra>\",\"legendgroup\":\"Action\",\"marker\":{\"color\":\"rgb(221,132,82)\",\"pattern\":{\"shape\":\"\"}},\"name\":\"Action\",\"offsetgroup\":\"Action\",\"orientation\":\"v\",\"showlegend\":true,\"texttemplate\":\"%{value}\",\"x\":[\"Action\"],\"xaxis\":\"x\",\"y\":[50174516295],\"yaxis\":\"y\",\"type\":\"histogram\"},{\"alignmentgroup\":\"True\",\"bingroup\":\"x\",\"histfunc\":\"sum\",\"hovertemplate\":\"Genre=%{x}<br>sum of Profit ($)=%{y}<extra></extra>\",\"legendgroup\":\"Drama\",\"marker\":{\"color\":\"rgb(85,168,104)\",\"pattern\":{\"shape\":\"\"}},\"name\":\"Drama\",\"offsetgroup\":\"Drama\",\"orientation\":\"v\",\"showlegend\":true,\"texttemplate\":\"%{value}\",\"x\":[\"Drama\"],\"xaxis\":\"x\",\"y\":[36531899775],\"yaxis\":\"y\",\"type\":\"histogram\"},{\"alignmentgroup\":\"True\",\"bingroup\":\"x\",\"histfunc\":\"sum\",\"hovertemplate\":\"Genre=%{x}<br>sum of Profit ($)=%{y}<extra></extra>\",\"legendgroup\":\"Comedy\",\"marker\":{\"color\":\"rgb(196,78,82)\",\"pattern\":{\"shape\":\"\"}},\"name\":\"Comedy\",\"offsetgroup\":\"Comedy\",\"orientation\":\"v\",\"showlegend\":true,\"texttemplate\":\"%{value}\",\"x\":[\"Comedy\"],\"xaxis\":\"x\",\"y\":[35093379103],\"yaxis\":\"y\",\"type\":\"histogram\"},{\"alignmentgroup\":\"True\",\"bingroup\":\"x\",\"histfunc\":\"sum\",\"hovertemplate\":\"Genre=%{x}<br>sum of Profit ($)=%{y}<extra></extra>\",\"legendgroup\":\"Thriller/Suspense\",\"marker\":{\"color\":\"rgb(129,114,179)\",\"pattern\":{\"shape\":\"\"}},\"name\":\"Thriller/Suspense\",\"offsetgroup\":\"Thriller/Suspense\",\"orientation\":\"v\",\"showlegend\":true,\"texttemplate\":\"%{value}\",\"x\":[\"Thriller/Suspense\"],\"xaxis\":\"x\",\"y\":[20344836467],\"yaxis\":\"y\",\"type\":\"histogram\"}],                        {\"template\":{\"data\":{\"barpolar\":[{\"marker\":{\"line\":{\"color\":\"rgb(234,234,242)\",\"width\":0.5},\"pattern\":{\"fillmode\":\"overlay\",\"size\":10,\"solidity\":0.2}},\"type\":\"barpolar\"}],\"bar\":[{\"error_x\":{\"color\":\"rgb(36,36,36)\"},\"error_y\":{\"color\":\"rgb(36,36,36)\"},\"marker\":{\"line\":{\"color\":\"rgb(234,234,242)\",\"width\":0.5},\"pattern\":{\"fillmode\":\"overlay\",\"size\":10,\"solidity\":0.2}},\"type\":\"bar\"}],\"carpet\":[{\"aaxis\":{\"endlinecolor\":\"rgb(36,36,36)\",\"gridcolor\":\"white\",\"linecolor\":\"white\",\"minorgridcolor\":\"white\",\"startlinecolor\":\"rgb(36,36,36)\"},\"baxis\":{\"endlinecolor\":\"rgb(36,36,36)\",\"gridcolor\":\"white\",\"linecolor\":\"white\",\"minorgridcolor\":\"white\",\"startlinecolor\":\"rgb(36,36,36)\"},\"type\":\"carpet\"}],\"choropleth\":[{\"colorbar\":{\"outlinewidth\":0,\"tickcolor\":\"rgb(36,36,36)\",\"ticklen\":8,\"ticks\":\"outside\",\"tickwidth\":2},\"type\":\"choropleth\"}],\"contourcarpet\":[{\"colorbar\":{\"outlinewidth\":0,\"tickcolor\":\"rgb(36,36,36)\",\"ticklen\":8,\"ticks\":\"outside\",\"tickwidth\":2},\"type\":\"contourcarpet\"}],\"contour\":[{\"colorbar\":{\"outlinewidth\":0,\"tickcolor\":\"rgb(36,36,36)\",\"ticklen\":8,\"ticks\":\"outside\",\"tickwidth\":2},\"colorscale\":[[0.0,\"rgb(2,4,25)\"],[0.06274509803921569,\"rgb(24,15,41)\"],[0.12549019607843137,\"rgb(47,23,57)\"],[0.18823529411764706,\"rgb(71,28,72)\"],[0.25098039215686274,\"rgb(97,30,82)\"],[0.3137254901960784,\"rgb(123,30,89)\"],[0.3764705882352941,\"rgb(150,27,91)\"],[0.4392156862745098,\"rgb(177,22,88)\"],[0.5019607843137255,\"rgb(203,26,79)\"],[0.5647058823529412,\"rgb(223,47,67)\"],[0.6274509803921569,\"rgb(236,76,61)\"],[0.6901960784313725,\"rgb(242,107,73)\"],[0.7529411764705882,\"rgb(244,135,95)\"],[0.8156862745098039,\"rgb(245,162,122)\"],[0.8784313725490196,\"rgb(246,188,153)\"],[0.9411764705882353,\"rgb(247,212,187)\"],[1.0,\"rgb(250,234,220)\"]],\"type\":\"contour\"}],\"heatmapgl\":[{\"colorbar\":{\"outlinewidth\":0,\"tickcolor\":\"rgb(36,36,36)\",\"ticklen\":8,\"ticks\":\"outside\",\"tickwidth\":2},\"colorscale\":[[0.0,\"rgb(2,4,25)\"],[0.06274509803921569,\"rgb(24,15,41)\"],[0.12549019607843137,\"rgb(47,23,57)\"],[0.18823529411764706,\"rgb(71,28,72)\"],[0.25098039215686274,\"rgb(97,30,82)\"],[0.3137254901960784,\"rgb(123,30,89)\"],[0.3764705882352941,\"rgb(150,27,91)\"],[0.4392156862745098,\"rgb(177,22,88)\"],[0.5019607843137255,\"rgb(203,26,79)\"],[0.5647058823529412,\"rgb(223,47,67)\"],[0.6274509803921569,\"rgb(236,76,61)\"],[0.6901960784313725,\"rgb(242,107,73)\"],[0.7529411764705882,\"rgb(244,135,95)\"],[0.8156862745098039,\"rgb(245,162,122)\"],[0.8784313725490196,\"rgb(246,188,153)\"],[0.9411764705882353,\"rgb(247,212,187)\"],[1.0,\"rgb(250,234,220)\"]],\"type\":\"heatmapgl\"}],\"heatmap\":[{\"colorbar\":{\"outlinewidth\":0,\"tickcolor\":\"rgb(36,36,36)\",\"ticklen\":8,\"ticks\":\"outside\",\"tickwidth\":2},\"colorscale\":[[0.0,\"rgb(2,4,25)\"],[0.06274509803921569,\"rgb(24,15,41)\"],[0.12549019607843137,\"rgb(47,23,57)\"],[0.18823529411764706,\"rgb(71,28,72)\"],[0.25098039215686274,\"rgb(97,30,82)\"],[0.3137254901960784,\"rgb(123,30,89)\"],[0.3764705882352941,\"rgb(150,27,91)\"],[0.4392156862745098,\"rgb(177,22,88)\"],[0.5019607843137255,\"rgb(203,26,79)\"],[0.5647058823529412,\"rgb(223,47,67)\"],[0.6274509803921569,\"rgb(236,76,61)\"],[0.6901960784313725,\"rgb(242,107,73)\"],[0.7529411764705882,\"rgb(244,135,95)\"],[0.8156862745098039,\"rgb(245,162,122)\"],[0.8784313725490196,\"rgb(246,188,153)\"],[0.9411764705882353,\"rgb(247,212,187)\"],[1.0,\"rgb(250,234,220)\"]],\"type\":\"heatmap\"}],\"histogram2dcontour\":[{\"colorbar\":{\"outlinewidth\":0,\"tickcolor\":\"rgb(36,36,36)\",\"ticklen\":8,\"ticks\":\"outside\",\"tickwidth\":2},\"colorscale\":[[0.0,\"rgb(2,4,25)\"],[0.06274509803921569,\"rgb(24,15,41)\"],[0.12549019607843137,\"rgb(47,23,57)\"],[0.18823529411764706,\"rgb(71,28,72)\"],[0.25098039215686274,\"rgb(97,30,82)\"],[0.3137254901960784,\"rgb(123,30,89)\"],[0.3764705882352941,\"rgb(150,27,91)\"],[0.4392156862745098,\"rgb(177,22,88)\"],[0.5019607843137255,\"rgb(203,26,79)\"],[0.5647058823529412,\"rgb(223,47,67)\"],[0.6274509803921569,\"rgb(236,76,61)\"],[0.6901960784313725,\"rgb(242,107,73)\"],[0.7529411764705882,\"rgb(244,135,95)\"],[0.8156862745098039,\"rgb(245,162,122)\"],[0.8784313725490196,\"rgb(246,188,153)\"],[0.9411764705882353,\"rgb(247,212,187)\"],[1.0,\"rgb(250,234,220)\"]],\"type\":\"histogram2dcontour\"}],\"histogram2d\":[{\"colorbar\":{\"outlinewidth\":0,\"tickcolor\":\"rgb(36,36,36)\",\"ticklen\":8,\"ticks\":\"outside\",\"tickwidth\":2},\"colorscale\":[[0.0,\"rgb(2,4,25)\"],[0.06274509803921569,\"rgb(24,15,41)\"],[0.12549019607843137,\"rgb(47,23,57)\"],[0.18823529411764706,\"rgb(71,28,72)\"],[0.25098039215686274,\"rgb(97,30,82)\"],[0.3137254901960784,\"rgb(123,30,89)\"],[0.3764705882352941,\"rgb(150,27,91)\"],[0.4392156862745098,\"rgb(177,22,88)\"],[0.5019607843137255,\"rgb(203,26,79)\"],[0.5647058823529412,\"rgb(223,47,67)\"],[0.6274509803921569,\"rgb(236,76,61)\"],[0.6901960784313725,\"rgb(242,107,73)\"],[0.7529411764705882,\"rgb(244,135,95)\"],[0.8156862745098039,\"rgb(245,162,122)\"],[0.8784313725490196,\"rgb(246,188,153)\"],[0.9411764705882353,\"rgb(247,212,187)\"],[1.0,\"rgb(250,234,220)\"]],\"type\":\"histogram2d\"}],\"histogram\":[{\"marker\":{\"pattern\":{\"fillmode\":\"overlay\",\"size\":10,\"solidity\":0.2}},\"type\":\"histogram\"}],\"mesh3d\":[{\"colorbar\":{\"outlinewidth\":0,\"tickcolor\":\"rgb(36,36,36)\",\"ticklen\":8,\"ticks\":\"outside\",\"tickwidth\":2},\"type\":\"mesh3d\"}],\"parcoords\":[{\"line\":{\"colorbar\":{\"outlinewidth\":0,\"tickcolor\":\"rgb(36,36,36)\",\"ticklen\":8,\"ticks\":\"outside\",\"tickwidth\":2}},\"type\":\"parcoords\"}],\"pie\":[{\"automargin\":true,\"type\":\"pie\"}],\"scatter3d\":[{\"line\":{\"colorbar\":{\"outlinewidth\":0,\"tickcolor\":\"rgb(36,36,36)\",\"ticklen\":8,\"ticks\":\"outside\",\"tickwidth\":2}},\"marker\":{\"colorbar\":{\"outlinewidth\":0,\"tickcolor\":\"rgb(36,36,36)\",\"ticklen\":8,\"ticks\":\"outside\",\"tickwidth\":2}},\"type\":\"scatter3d\"}],\"scattercarpet\":[{\"marker\":{\"colorbar\":{\"outlinewidth\":0,\"tickcolor\":\"rgb(36,36,36)\",\"ticklen\":8,\"ticks\":\"outside\",\"tickwidth\":2}},\"type\":\"scattercarpet\"}],\"scattergeo\":[{\"marker\":{\"colorbar\":{\"outlinewidth\":0,\"tickcolor\":\"rgb(36,36,36)\",\"ticklen\":8,\"ticks\":\"outside\",\"tickwidth\":2}},\"type\":\"scattergeo\"}],\"scattergl\":[{\"marker\":{\"colorbar\":{\"outlinewidth\":0,\"tickcolor\":\"rgb(36,36,36)\",\"ticklen\":8,\"ticks\":\"outside\",\"tickwidth\":2}},\"type\":\"scattergl\"}],\"scattermapbox\":[{\"marker\":{\"colorbar\":{\"outlinewidth\":0,\"tickcolor\":\"rgb(36,36,36)\",\"ticklen\":8,\"ticks\":\"outside\",\"tickwidth\":2}},\"type\":\"scattermapbox\"}],\"scatterpolargl\":[{\"marker\":{\"colorbar\":{\"outlinewidth\":0,\"tickcolor\":\"rgb(36,36,36)\",\"ticklen\":8,\"ticks\":\"outside\",\"tickwidth\":2}},\"type\":\"scatterpolargl\"}],\"scatterpolar\":[{\"marker\":{\"colorbar\":{\"outlinewidth\":0,\"tickcolor\":\"rgb(36,36,36)\",\"ticklen\":8,\"ticks\":\"outside\",\"tickwidth\":2}},\"type\":\"scatterpolar\"}],\"scatter\":[{\"marker\":{\"colorbar\":{\"outlinewidth\":0,\"tickcolor\":\"rgb(36,36,36)\",\"ticklen\":8,\"ticks\":\"outside\",\"tickwidth\":2}},\"type\":\"scatter\"}],\"scatterternary\":[{\"marker\":{\"colorbar\":{\"outlinewidth\":0,\"tickcolor\":\"rgb(36,36,36)\",\"ticklen\":8,\"ticks\":\"outside\",\"tickwidth\":2}},\"type\":\"scatterternary\"}],\"surface\":[{\"colorbar\":{\"outlinewidth\":0,\"tickcolor\":\"rgb(36,36,36)\",\"ticklen\":8,\"ticks\":\"outside\",\"tickwidth\":2},\"colorscale\":[[0.0,\"rgb(2,4,25)\"],[0.06274509803921569,\"rgb(24,15,41)\"],[0.12549019607843137,\"rgb(47,23,57)\"],[0.18823529411764706,\"rgb(71,28,72)\"],[0.25098039215686274,\"rgb(97,30,82)\"],[0.3137254901960784,\"rgb(123,30,89)\"],[0.3764705882352941,\"rgb(150,27,91)\"],[0.4392156862745098,\"rgb(177,22,88)\"],[0.5019607843137255,\"rgb(203,26,79)\"],[0.5647058823529412,\"rgb(223,47,67)\"],[0.6274509803921569,\"rgb(236,76,61)\"],[0.6901960784313725,\"rgb(242,107,73)\"],[0.7529411764705882,\"rgb(244,135,95)\"],[0.8156862745098039,\"rgb(245,162,122)\"],[0.8784313725490196,\"rgb(246,188,153)\"],[0.9411764705882353,\"rgb(247,212,187)\"],[1.0,\"rgb(250,234,220)\"]],\"type\":\"surface\"}],\"table\":[{\"cells\":{\"fill\":{\"color\":\"rgb(231,231,240)\"},\"line\":{\"color\":\"white\"}},\"header\":{\"fill\":{\"color\":\"rgb(183,183,191)\"},\"line\":{\"color\":\"white\"}},\"type\":\"table\"}]},\"layout\":{\"annotationdefaults\":{\"arrowcolor\":\"rgb(67,103,167)\"},\"autotypenumbers\":\"strict\",\"coloraxis\":{\"colorbar\":{\"outlinewidth\":0,\"tickcolor\":\"rgb(36,36,36)\",\"ticklen\":8,\"ticks\":\"outside\",\"tickwidth\":2}},\"colorscale\":{\"sequential\":[[0.0,\"rgb(2,4,25)\"],[0.06274509803921569,\"rgb(24,15,41)\"],[0.12549019607843137,\"rgb(47,23,57)\"],[0.18823529411764706,\"rgb(71,28,72)\"],[0.25098039215686274,\"rgb(97,30,82)\"],[0.3137254901960784,\"rgb(123,30,89)\"],[0.3764705882352941,\"rgb(150,27,91)\"],[0.4392156862745098,\"rgb(177,22,88)\"],[0.5019607843137255,\"rgb(203,26,79)\"],[0.5647058823529412,\"rgb(223,47,67)\"],[0.6274509803921569,\"rgb(236,76,61)\"],[0.6901960784313725,\"rgb(242,107,73)\"],[0.7529411764705882,\"rgb(244,135,95)\"],[0.8156862745098039,\"rgb(245,162,122)\"],[0.8784313725490196,\"rgb(246,188,153)\"],[0.9411764705882353,\"rgb(247,212,187)\"],[1.0,\"rgb(250,234,220)\"]],\"sequentialminus\":[[0.0,\"rgb(2,4,25)\"],[0.06274509803921569,\"rgb(24,15,41)\"],[0.12549019607843137,\"rgb(47,23,57)\"],[0.18823529411764706,\"rgb(71,28,72)\"],[0.25098039215686274,\"rgb(97,30,82)\"],[0.3137254901960784,\"rgb(123,30,89)\"],[0.3764705882352941,\"rgb(150,27,91)\"],[0.4392156862745098,\"rgb(177,22,88)\"],[0.5019607843137255,\"rgb(203,26,79)\"],[0.5647058823529412,\"rgb(223,47,67)\"],[0.6274509803921569,\"rgb(236,76,61)\"],[0.6901960784313725,\"rgb(242,107,73)\"],[0.7529411764705882,\"rgb(244,135,95)\"],[0.8156862745098039,\"rgb(245,162,122)\"],[0.8784313725490196,\"rgb(246,188,153)\"],[0.9411764705882353,\"rgb(247,212,187)\"],[1.0,\"rgb(250,234,220)\"]]},\"colorway\":[\"rgb(76,114,176)\",\"rgb(221,132,82)\",\"rgb(85,168,104)\",\"rgb(196,78,82)\",\"rgb(129,114,179)\",\"rgb(147,120,96)\",\"rgb(218,139,195)\",\"rgb(140,140,140)\",\"rgb(204,185,116)\",\"rgb(100,181,205)\"],\"font\":{\"color\":\"rgb(36,36,36)\"},\"geo\":{\"bgcolor\":\"white\",\"lakecolor\":\"white\",\"landcolor\":\"rgb(234,234,242)\",\"showlakes\":true,\"showland\":true,\"subunitcolor\":\"white\"},\"hoverlabel\":{\"align\":\"left\"},\"hovermode\":\"closest\",\"paper_bgcolor\":\"white\",\"plot_bgcolor\":\"rgb(234,234,242)\",\"polar\":{\"angularaxis\":{\"gridcolor\":\"white\",\"linecolor\":\"white\",\"showgrid\":true,\"ticks\":\"\"},\"bgcolor\":\"rgb(234,234,242)\",\"radialaxis\":{\"gridcolor\":\"white\",\"linecolor\":\"white\",\"showgrid\":true,\"ticks\":\"\"}},\"scene\":{\"xaxis\":{\"backgroundcolor\":\"rgb(234,234,242)\",\"gridcolor\":\"white\",\"gridwidth\":2,\"linecolor\":\"white\",\"showbackground\":true,\"showgrid\":true,\"ticks\":\"\",\"zerolinecolor\":\"white\"},\"yaxis\":{\"backgroundcolor\":\"rgb(234,234,242)\",\"gridcolor\":\"white\",\"gridwidth\":2,\"linecolor\":\"white\",\"showbackground\":true,\"showgrid\":true,\"ticks\":\"\",\"zerolinecolor\":\"white\"},\"zaxis\":{\"backgroundcolor\":\"rgb(234,234,242)\",\"gridcolor\":\"white\",\"gridwidth\":2,\"linecolor\":\"white\",\"showbackground\":true,\"showgrid\":true,\"ticks\":\"\",\"zerolinecolor\":\"white\"}},\"shapedefaults\":{\"fillcolor\":\"rgb(67,103,167)\",\"line\":{\"width\":0},\"opacity\":0.5},\"ternary\":{\"aaxis\":{\"gridcolor\":\"white\",\"linecolor\":\"white\",\"showgrid\":true,\"ticks\":\"\"},\"baxis\":{\"gridcolor\":\"white\",\"linecolor\":\"white\",\"showgrid\":true,\"ticks\":\"\"},\"bgcolor\":\"rgb(234,234,242)\",\"caxis\":{\"gridcolor\":\"white\",\"linecolor\":\"white\",\"showgrid\":true,\"ticks\":\"\"}},\"xaxis\":{\"automargin\":true,\"gridcolor\":\"white\",\"linecolor\":\"white\",\"showgrid\":true,\"ticks\":\"\",\"title\":{\"standoff\":15},\"zerolinecolor\":\"white\"},\"yaxis\":{\"automargin\":true,\"gridcolor\":\"white\",\"linecolor\":\"white\",\"showgrid\":true,\"ticks\":\"\",\"title\":{\"standoff\":15},\"zerolinecolor\":\"white\"}}},\"xaxis\":{\"anchor\":\"y\",\"domain\":[0.0,1.0],\"title\":{\"text\":\"Genre\"},\"categoryorder\":\"array\",\"categoryarray\":[\"Adventure\",\"Action\",\"Drama\",\"Comedy\",\"Thriller/Suspense\"]},\"yaxis\":{\"anchor\":\"x\",\"domain\":[0.0,1.0],\"title\":{\"text\":\"sum of Profit ($)\"}},\"legend\":{\"title\":{\"text\":\"Genre\"},\"tracegroupgap\":0},\"title\":{\"text\":\"<b> Top 5 Genre in terms of Profit\"},\"barmode\":\"relative\"},                        {\"responsive\": true}                    ).then(function(){\n",
       "                            \n",
       "var gd = document.getElementById('390a4ee9-605f-4d56-8d35-19f1de7a3c12');\n",
       "var x = new MutationObserver(function (mutations, observer) {{\n",
       "        var display = window.getComputedStyle(gd).display;\n",
       "        if (!display || display === 'none') {{\n",
       "            console.log([gd, 'removed!']);\n",
       "            Plotly.purge(gd);\n",
       "            observer.disconnect();\n",
       "        }}\n",
       "}});\n",
       "\n",
       "// Listen for the removal of the full notebook cells\n",
       "var notebookContainer = gd.closest('#notebook-container');\n",
       "if (notebookContainer) {{\n",
       "    x.observe(notebookContainer, {childList: true});\n",
       "}}\n",
       "\n",
       "// Listen for the clearing of the current output cell\n",
       "var outputEl = gd.closest('.output');\n",
       "if (outputEl) {{\n",
       "    x.observe(outputEl, {childList: true});\n",
       "}}\n",
       "\n",
       "                        })                };                });            </script>        </div>"
      ]
     },
     "metadata": {},
     "output_type": "display_data"
    }
   ],
   "source": [
    "px.histogram(Top_5[:5], x=\"Genre\", y=\"Profit ($)\", template=\"seaborn\", color=\"Genre\",text_auto=True,\n",
    "            title=\"<b> Top 5 Genre in terms of Profit\")"
   ]
  },
  {
   "cell_type": "code",
   "execution_count": 53,
   "id": "b6ba959e",
   "metadata": {},
   "outputs": [
    {
     "data": {
      "application/vnd.plotly.v1+json": {
       "config": {
        "plotlyServerURL": "https://plot.ly"
       },
       "data": [
        {
         "alignmentgroup": "True",
         "bingroup": "x",
         "histfunc": "sum",
         "hovertemplate": "Genre=%{x}<br>sum of Profit ($)=%{y}<extra></extra>",
         "legendgroup": "Musical",
         "marker": {
          "color": "rgb(76,114,176)",
          "pattern": {
           "shape": ""
          }
         },
         "name": "Musical",
         "offsetgroup": "Musical",
         "orientation": "v",
         "showlegend": true,
         "texttemplate": "%{value}",
         "type": "histogram",
         "x": [
          "Musical"
         ],
         "xaxis": "x",
         "y": [
          2685547930
         ],
         "yaxis": "y"
        },
        {
         "alignmentgroup": "True",
         "bingroup": "x",
         "histfunc": "sum",
         "hovertemplate": "Genre=%{x}<br>sum of Profit ($)=%{y}<extra></extra>",
         "legendgroup": "Black Comedy",
         "marker": {
          "color": "rgb(221,132,82)",
          "pattern": {
           "shape": ""
          }
         },
         "name": "Black Comedy",
         "offsetgroup": "Black Comedy",
         "orientation": "v",
         "showlegend": true,
         "texttemplate": "%{value}",
         "type": "histogram",
         "x": [
          "Black Comedy"
         ],
         "xaxis": "x",
         "y": [
          1192156216
         ],
         "yaxis": "y"
        },
        {
         "alignmentgroup": "True",
         "bingroup": "x",
         "histfunc": "sum",
         "hovertemplate": "Genre=%{x}<br>sum of Profit ($)=%{y}<extra></extra>",
         "legendgroup": "Western",
         "marker": {
          "color": "rgb(85,168,104)",
          "pattern": {
           "shape": ""
          }
         },
         "name": "Western",
         "offsetgroup": "Western",
         "orientation": "v",
         "showlegend": true,
         "texttemplate": "%{value}",
         "type": "histogram",
         "x": [
          "Western"
         ],
         "xaxis": "x",
         "y": [
          481528611
         ],
         "yaxis": "y"
        },
        {
         "alignmentgroup": "True",
         "bingroup": "x",
         "histfunc": "sum",
         "hovertemplate": "Genre=%{x}<br>sum of Profit ($)=%{y}<extra></extra>",
         "legendgroup": "Documentary",
         "marker": {
          "color": "rgb(196,78,82)",
          "pattern": {
           "shape": ""
          }
         },
         "name": "Documentary",
         "offsetgroup": "Documentary",
         "orientation": "v",
         "showlegend": true,
         "texttemplate": "%{value}",
         "type": "histogram",
         "x": [
          "Documentary"
         ],
         "xaxis": "x",
         "y": [
          356143632
         ],
         "yaxis": "y"
        },
        {
         "alignmentgroup": "True",
         "bingroup": "x",
         "histfunc": "sum",
         "hovertemplate": "Genre=%{x}<br>sum of Profit ($)=%{y}<extra></extra>",
         "legendgroup": "Concert/Performance",
         "marker": {
          "color": "rgb(129,114,179)",
          "pattern": {
           "shape": ""
          }
         },
         "name": "Concert/Performance",
         "offsetgroup": "Concert/Performance",
         "orientation": "v",
         "showlegend": true,
         "texttemplate": "%{value}",
         "type": "histogram",
         "x": [
          "Concert/Performance"
         ],
         "xaxis": "x",
         "y": [
          119113089
         ],
         "yaxis": "y"
        }
       ],
       "layout": {
        "barmode": "relative",
        "legend": {
         "title": {
          "text": "Genre"
         },
         "tracegroupgap": 0
        },
        "template": {
         "data": {
          "bar": [
           {
            "error_x": {
             "color": "rgb(36,36,36)"
            },
            "error_y": {
             "color": "rgb(36,36,36)"
            },
            "marker": {
             "line": {
              "color": "rgb(234,234,242)",
              "width": 0.5
             },
             "pattern": {
              "fillmode": "overlay",
              "size": 10,
              "solidity": 0.2
             }
            },
            "type": "bar"
           }
          ],
          "barpolar": [
           {
            "marker": {
             "line": {
              "color": "rgb(234,234,242)",
              "width": 0.5
             },
             "pattern": {
              "fillmode": "overlay",
              "size": 10,
              "solidity": 0.2
             }
            },
            "type": "barpolar"
           }
          ],
          "carpet": [
           {
            "aaxis": {
             "endlinecolor": "rgb(36,36,36)",
             "gridcolor": "white",
             "linecolor": "white",
             "minorgridcolor": "white",
             "startlinecolor": "rgb(36,36,36)"
            },
            "baxis": {
             "endlinecolor": "rgb(36,36,36)",
             "gridcolor": "white",
             "linecolor": "white",
             "minorgridcolor": "white",
             "startlinecolor": "rgb(36,36,36)"
            },
            "type": "carpet"
           }
          ],
          "choropleth": [
           {
            "colorbar": {
             "outlinewidth": 0,
             "tickcolor": "rgb(36,36,36)",
             "ticklen": 8,
             "ticks": "outside",
             "tickwidth": 2
            },
            "type": "choropleth"
           }
          ],
          "contour": [
           {
            "colorbar": {
             "outlinewidth": 0,
             "tickcolor": "rgb(36,36,36)",
             "ticklen": 8,
             "ticks": "outside",
             "tickwidth": 2
            },
            "colorscale": [
             [
              0,
              "rgb(2,4,25)"
             ],
             [
              0.06274509803921569,
              "rgb(24,15,41)"
             ],
             [
              0.12549019607843137,
              "rgb(47,23,57)"
             ],
             [
              0.18823529411764706,
              "rgb(71,28,72)"
             ],
             [
              0.25098039215686274,
              "rgb(97,30,82)"
             ],
             [
              0.3137254901960784,
              "rgb(123,30,89)"
             ],
             [
              0.3764705882352941,
              "rgb(150,27,91)"
             ],
             [
              0.4392156862745098,
              "rgb(177,22,88)"
             ],
             [
              0.5019607843137255,
              "rgb(203,26,79)"
             ],
             [
              0.5647058823529412,
              "rgb(223,47,67)"
             ],
             [
              0.6274509803921569,
              "rgb(236,76,61)"
             ],
             [
              0.6901960784313725,
              "rgb(242,107,73)"
             ],
             [
              0.7529411764705882,
              "rgb(244,135,95)"
             ],
             [
              0.8156862745098039,
              "rgb(245,162,122)"
             ],
             [
              0.8784313725490196,
              "rgb(246,188,153)"
             ],
             [
              0.9411764705882353,
              "rgb(247,212,187)"
             ],
             [
              1,
              "rgb(250,234,220)"
             ]
            ],
            "type": "contour"
           }
          ],
          "contourcarpet": [
           {
            "colorbar": {
             "outlinewidth": 0,
             "tickcolor": "rgb(36,36,36)",
             "ticklen": 8,
             "ticks": "outside",
             "tickwidth": 2
            },
            "type": "contourcarpet"
           }
          ],
          "heatmap": [
           {
            "colorbar": {
             "outlinewidth": 0,
             "tickcolor": "rgb(36,36,36)",
             "ticklen": 8,
             "ticks": "outside",
             "tickwidth": 2
            },
            "colorscale": [
             [
              0,
              "rgb(2,4,25)"
             ],
             [
              0.06274509803921569,
              "rgb(24,15,41)"
             ],
             [
              0.12549019607843137,
              "rgb(47,23,57)"
             ],
             [
              0.18823529411764706,
              "rgb(71,28,72)"
             ],
             [
              0.25098039215686274,
              "rgb(97,30,82)"
             ],
             [
              0.3137254901960784,
              "rgb(123,30,89)"
             ],
             [
              0.3764705882352941,
              "rgb(150,27,91)"
             ],
             [
              0.4392156862745098,
              "rgb(177,22,88)"
             ],
             [
              0.5019607843137255,
              "rgb(203,26,79)"
             ],
             [
              0.5647058823529412,
              "rgb(223,47,67)"
             ],
             [
              0.6274509803921569,
              "rgb(236,76,61)"
             ],
             [
              0.6901960784313725,
              "rgb(242,107,73)"
             ],
             [
              0.7529411764705882,
              "rgb(244,135,95)"
             ],
             [
              0.8156862745098039,
              "rgb(245,162,122)"
             ],
             [
              0.8784313725490196,
              "rgb(246,188,153)"
             ],
             [
              0.9411764705882353,
              "rgb(247,212,187)"
             ],
             [
              1,
              "rgb(250,234,220)"
             ]
            ],
            "type": "heatmap"
           }
          ],
          "heatmapgl": [
           {
            "colorbar": {
             "outlinewidth": 0,
             "tickcolor": "rgb(36,36,36)",
             "ticklen": 8,
             "ticks": "outside",
             "tickwidth": 2
            },
            "colorscale": [
             [
              0,
              "rgb(2,4,25)"
             ],
             [
              0.06274509803921569,
              "rgb(24,15,41)"
             ],
             [
              0.12549019607843137,
              "rgb(47,23,57)"
             ],
             [
              0.18823529411764706,
              "rgb(71,28,72)"
             ],
             [
              0.25098039215686274,
              "rgb(97,30,82)"
             ],
             [
              0.3137254901960784,
              "rgb(123,30,89)"
             ],
             [
              0.3764705882352941,
              "rgb(150,27,91)"
             ],
             [
              0.4392156862745098,
              "rgb(177,22,88)"
             ],
             [
              0.5019607843137255,
              "rgb(203,26,79)"
             ],
             [
              0.5647058823529412,
              "rgb(223,47,67)"
             ],
             [
              0.6274509803921569,
              "rgb(236,76,61)"
             ],
             [
              0.6901960784313725,
              "rgb(242,107,73)"
             ],
             [
              0.7529411764705882,
              "rgb(244,135,95)"
             ],
             [
              0.8156862745098039,
              "rgb(245,162,122)"
             ],
             [
              0.8784313725490196,
              "rgb(246,188,153)"
             ],
             [
              0.9411764705882353,
              "rgb(247,212,187)"
             ],
             [
              1,
              "rgb(250,234,220)"
             ]
            ],
            "type": "heatmapgl"
           }
          ],
          "histogram": [
           {
            "marker": {
             "pattern": {
              "fillmode": "overlay",
              "size": 10,
              "solidity": 0.2
             }
            },
            "type": "histogram"
           }
          ],
          "histogram2d": [
           {
            "colorbar": {
             "outlinewidth": 0,
             "tickcolor": "rgb(36,36,36)",
             "ticklen": 8,
             "ticks": "outside",
             "tickwidth": 2
            },
            "colorscale": [
             [
              0,
              "rgb(2,4,25)"
             ],
             [
              0.06274509803921569,
              "rgb(24,15,41)"
             ],
             [
              0.12549019607843137,
              "rgb(47,23,57)"
             ],
             [
              0.18823529411764706,
              "rgb(71,28,72)"
             ],
             [
              0.25098039215686274,
              "rgb(97,30,82)"
             ],
             [
              0.3137254901960784,
              "rgb(123,30,89)"
             ],
             [
              0.3764705882352941,
              "rgb(150,27,91)"
             ],
             [
              0.4392156862745098,
              "rgb(177,22,88)"
             ],
             [
              0.5019607843137255,
              "rgb(203,26,79)"
             ],
             [
              0.5647058823529412,
              "rgb(223,47,67)"
             ],
             [
              0.6274509803921569,
              "rgb(236,76,61)"
             ],
             [
              0.6901960784313725,
              "rgb(242,107,73)"
             ],
             [
              0.7529411764705882,
              "rgb(244,135,95)"
             ],
             [
              0.8156862745098039,
              "rgb(245,162,122)"
             ],
             [
              0.8784313725490196,
              "rgb(246,188,153)"
             ],
             [
              0.9411764705882353,
              "rgb(247,212,187)"
             ],
             [
              1,
              "rgb(250,234,220)"
             ]
            ],
            "type": "histogram2d"
           }
          ],
          "histogram2dcontour": [
           {
            "colorbar": {
             "outlinewidth": 0,
             "tickcolor": "rgb(36,36,36)",
             "ticklen": 8,
             "ticks": "outside",
             "tickwidth": 2
            },
            "colorscale": [
             [
              0,
              "rgb(2,4,25)"
             ],
             [
              0.06274509803921569,
              "rgb(24,15,41)"
             ],
             [
              0.12549019607843137,
              "rgb(47,23,57)"
             ],
             [
              0.18823529411764706,
              "rgb(71,28,72)"
             ],
             [
              0.25098039215686274,
              "rgb(97,30,82)"
             ],
             [
              0.3137254901960784,
              "rgb(123,30,89)"
             ],
             [
              0.3764705882352941,
              "rgb(150,27,91)"
             ],
             [
              0.4392156862745098,
              "rgb(177,22,88)"
             ],
             [
              0.5019607843137255,
              "rgb(203,26,79)"
             ],
             [
              0.5647058823529412,
              "rgb(223,47,67)"
             ],
             [
              0.6274509803921569,
              "rgb(236,76,61)"
             ],
             [
              0.6901960784313725,
              "rgb(242,107,73)"
             ],
             [
              0.7529411764705882,
              "rgb(244,135,95)"
             ],
             [
              0.8156862745098039,
              "rgb(245,162,122)"
             ],
             [
              0.8784313725490196,
              "rgb(246,188,153)"
             ],
             [
              0.9411764705882353,
              "rgb(247,212,187)"
             ],
             [
              1,
              "rgb(250,234,220)"
             ]
            ],
            "type": "histogram2dcontour"
           }
          ],
          "mesh3d": [
           {
            "colorbar": {
             "outlinewidth": 0,
             "tickcolor": "rgb(36,36,36)",
             "ticklen": 8,
             "ticks": "outside",
             "tickwidth": 2
            },
            "type": "mesh3d"
           }
          ],
          "parcoords": [
           {
            "line": {
             "colorbar": {
              "outlinewidth": 0,
              "tickcolor": "rgb(36,36,36)",
              "ticklen": 8,
              "ticks": "outside",
              "tickwidth": 2
             }
            },
            "type": "parcoords"
           }
          ],
          "pie": [
           {
            "automargin": true,
            "type": "pie"
           }
          ],
          "scatter": [
           {
            "marker": {
             "colorbar": {
              "outlinewidth": 0,
              "tickcolor": "rgb(36,36,36)",
              "ticklen": 8,
              "ticks": "outside",
              "tickwidth": 2
             }
            },
            "type": "scatter"
           }
          ],
          "scatter3d": [
           {
            "line": {
             "colorbar": {
              "outlinewidth": 0,
              "tickcolor": "rgb(36,36,36)",
              "ticklen": 8,
              "ticks": "outside",
              "tickwidth": 2
             }
            },
            "marker": {
             "colorbar": {
              "outlinewidth": 0,
              "tickcolor": "rgb(36,36,36)",
              "ticklen": 8,
              "ticks": "outside",
              "tickwidth": 2
             }
            },
            "type": "scatter3d"
           }
          ],
          "scattercarpet": [
           {
            "marker": {
             "colorbar": {
              "outlinewidth": 0,
              "tickcolor": "rgb(36,36,36)",
              "ticklen": 8,
              "ticks": "outside",
              "tickwidth": 2
             }
            },
            "type": "scattercarpet"
           }
          ],
          "scattergeo": [
           {
            "marker": {
             "colorbar": {
              "outlinewidth": 0,
              "tickcolor": "rgb(36,36,36)",
              "ticklen": 8,
              "ticks": "outside",
              "tickwidth": 2
             }
            },
            "type": "scattergeo"
           }
          ],
          "scattergl": [
           {
            "marker": {
             "colorbar": {
              "outlinewidth": 0,
              "tickcolor": "rgb(36,36,36)",
              "ticklen": 8,
              "ticks": "outside",
              "tickwidth": 2
             }
            },
            "type": "scattergl"
           }
          ],
          "scattermapbox": [
           {
            "marker": {
             "colorbar": {
              "outlinewidth": 0,
              "tickcolor": "rgb(36,36,36)",
              "ticklen": 8,
              "ticks": "outside",
              "tickwidth": 2
             }
            },
            "type": "scattermapbox"
           }
          ],
          "scatterpolar": [
           {
            "marker": {
             "colorbar": {
              "outlinewidth": 0,
              "tickcolor": "rgb(36,36,36)",
              "ticklen": 8,
              "ticks": "outside",
              "tickwidth": 2
             }
            },
            "type": "scatterpolar"
           }
          ],
          "scatterpolargl": [
           {
            "marker": {
             "colorbar": {
              "outlinewidth": 0,
              "tickcolor": "rgb(36,36,36)",
              "ticklen": 8,
              "ticks": "outside",
              "tickwidth": 2
             }
            },
            "type": "scatterpolargl"
           }
          ],
          "scatterternary": [
           {
            "marker": {
             "colorbar": {
              "outlinewidth": 0,
              "tickcolor": "rgb(36,36,36)",
              "ticklen": 8,
              "ticks": "outside",
              "tickwidth": 2
             }
            },
            "type": "scatterternary"
           }
          ],
          "surface": [
           {
            "colorbar": {
             "outlinewidth": 0,
             "tickcolor": "rgb(36,36,36)",
             "ticklen": 8,
             "ticks": "outside",
             "tickwidth": 2
            },
            "colorscale": [
             [
              0,
              "rgb(2,4,25)"
             ],
             [
              0.06274509803921569,
              "rgb(24,15,41)"
             ],
             [
              0.12549019607843137,
              "rgb(47,23,57)"
             ],
             [
              0.18823529411764706,
              "rgb(71,28,72)"
             ],
             [
              0.25098039215686274,
              "rgb(97,30,82)"
             ],
             [
              0.3137254901960784,
              "rgb(123,30,89)"
             ],
             [
              0.3764705882352941,
              "rgb(150,27,91)"
             ],
             [
              0.4392156862745098,
              "rgb(177,22,88)"
             ],
             [
              0.5019607843137255,
              "rgb(203,26,79)"
             ],
             [
              0.5647058823529412,
              "rgb(223,47,67)"
             ],
             [
              0.6274509803921569,
              "rgb(236,76,61)"
             ],
             [
              0.6901960784313725,
              "rgb(242,107,73)"
             ],
             [
              0.7529411764705882,
              "rgb(244,135,95)"
             ],
             [
              0.8156862745098039,
              "rgb(245,162,122)"
             ],
             [
              0.8784313725490196,
              "rgb(246,188,153)"
             ],
             [
              0.9411764705882353,
              "rgb(247,212,187)"
             ],
             [
              1,
              "rgb(250,234,220)"
             ]
            ],
            "type": "surface"
           }
          ],
          "table": [
           {
            "cells": {
             "fill": {
              "color": "rgb(231,231,240)"
             },
             "line": {
              "color": "white"
             }
            },
            "header": {
             "fill": {
              "color": "rgb(183,183,191)"
             },
             "line": {
              "color": "white"
             }
            },
            "type": "table"
           }
          ]
         },
         "layout": {
          "annotationdefaults": {
           "arrowcolor": "rgb(67,103,167)"
          },
          "autotypenumbers": "strict",
          "coloraxis": {
           "colorbar": {
            "outlinewidth": 0,
            "tickcolor": "rgb(36,36,36)",
            "ticklen": 8,
            "ticks": "outside",
            "tickwidth": 2
           }
          },
          "colorscale": {
           "sequential": [
            [
             0,
             "rgb(2,4,25)"
            ],
            [
             0.06274509803921569,
             "rgb(24,15,41)"
            ],
            [
             0.12549019607843137,
             "rgb(47,23,57)"
            ],
            [
             0.18823529411764706,
             "rgb(71,28,72)"
            ],
            [
             0.25098039215686274,
             "rgb(97,30,82)"
            ],
            [
             0.3137254901960784,
             "rgb(123,30,89)"
            ],
            [
             0.3764705882352941,
             "rgb(150,27,91)"
            ],
            [
             0.4392156862745098,
             "rgb(177,22,88)"
            ],
            [
             0.5019607843137255,
             "rgb(203,26,79)"
            ],
            [
             0.5647058823529412,
             "rgb(223,47,67)"
            ],
            [
             0.6274509803921569,
             "rgb(236,76,61)"
            ],
            [
             0.6901960784313725,
             "rgb(242,107,73)"
            ],
            [
             0.7529411764705882,
             "rgb(244,135,95)"
            ],
            [
             0.8156862745098039,
             "rgb(245,162,122)"
            ],
            [
             0.8784313725490196,
             "rgb(246,188,153)"
            ],
            [
             0.9411764705882353,
             "rgb(247,212,187)"
            ],
            [
             1,
             "rgb(250,234,220)"
            ]
           ],
           "sequentialminus": [
            [
             0,
             "rgb(2,4,25)"
            ],
            [
             0.06274509803921569,
             "rgb(24,15,41)"
            ],
            [
             0.12549019607843137,
             "rgb(47,23,57)"
            ],
            [
             0.18823529411764706,
             "rgb(71,28,72)"
            ],
            [
             0.25098039215686274,
             "rgb(97,30,82)"
            ],
            [
             0.3137254901960784,
             "rgb(123,30,89)"
            ],
            [
             0.3764705882352941,
             "rgb(150,27,91)"
            ],
            [
             0.4392156862745098,
             "rgb(177,22,88)"
            ],
            [
             0.5019607843137255,
             "rgb(203,26,79)"
            ],
            [
             0.5647058823529412,
             "rgb(223,47,67)"
            ],
            [
             0.6274509803921569,
             "rgb(236,76,61)"
            ],
            [
             0.6901960784313725,
             "rgb(242,107,73)"
            ],
            [
             0.7529411764705882,
             "rgb(244,135,95)"
            ],
            [
             0.8156862745098039,
             "rgb(245,162,122)"
            ],
            [
             0.8784313725490196,
             "rgb(246,188,153)"
            ],
            [
             0.9411764705882353,
             "rgb(247,212,187)"
            ],
            [
             1,
             "rgb(250,234,220)"
            ]
           ]
          },
          "colorway": [
           "rgb(76,114,176)",
           "rgb(221,132,82)",
           "rgb(85,168,104)",
           "rgb(196,78,82)",
           "rgb(129,114,179)",
           "rgb(147,120,96)",
           "rgb(218,139,195)",
           "rgb(140,140,140)",
           "rgb(204,185,116)",
           "rgb(100,181,205)"
          ],
          "font": {
           "color": "rgb(36,36,36)"
          },
          "geo": {
           "bgcolor": "white",
           "lakecolor": "white",
           "landcolor": "rgb(234,234,242)",
           "showlakes": true,
           "showland": true,
           "subunitcolor": "white"
          },
          "hoverlabel": {
           "align": "left"
          },
          "hovermode": "closest",
          "paper_bgcolor": "white",
          "plot_bgcolor": "rgb(234,234,242)",
          "polar": {
           "angularaxis": {
            "gridcolor": "white",
            "linecolor": "white",
            "showgrid": true,
            "ticks": ""
           },
           "bgcolor": "rgb(234,234,242)",
           "radialaxis": {
            "gridcolor": "white",
            "linecolor": "white",
            "showgrid": true,
            "ticks": ""
           }
          },
          "scene": {
           "xaxis": {
            "backgroundcolor": "rgb(234,234,242)",
            "gridcolor": "white",
            "gridwidth": 2,
            "linecolor": "white",
            "showbackground": true,
            "showgrid": true,
            "ticks": "",
            "zerolinecolor": "white"
           },
           "yaxis": {
            "backgroundcolor": "rgb(234,234,242)",
            "gridcolor": "white",
            "gridwidth": 2,
            "linecolor": "white",
            "showbackground": true,
            "showgrid": true,
            "ticks": "",
            "zerolinecolor": "white"
           },
           "zaxis": {
            "backgroundcolor": "rgb(234,234,242)",
            "gridcolor": "white",
            "gridwidth": 2,
            "linecolor": "white",
            "showbackground": true,
            "showgrid": true,
            "ticks": "",
            "zerolinecolor": "white"
           }
          },
          "shapedefaults": {
           "fillcolor": "rgb(67,103,167)",
           "line": {
            "width": 0
           },
           "opacity": 0.5
          },
          "ternary": {
           "aaxis": {
            "gridcolor": "white",
            "linecolor": "white",
            "showgrid": true,
            "ticks": ""
           },
           "baxis": {
            "gridcolor": "white",
            "linecolor": "white",
            "showgrid": true,
            "ticks": ""
           },
           "bgcolor": "rgb(234,234,242)",
           "caxis": {
            "gridcolor": "white",
            "linecolor": "white",
            "showgrid": true,
            "ticks": ""
           }
          },
          "xaxis": {
           "automargin": true,
           "gridcolor": "white",
           "linecolor": "white",
           "showgrid": true,
           "ticks": "",
           "title": {
            "standoff": 15
           },
           "zerolinecolor": "white"
          },
          "yaxis": {
           "automargin": true,
           "gridcolor": "white",
           "linecolor": "white",
           "showgrid": true,
           "ticks": "",
           "title": {
            "standoff": 15
           },
           "zerolinecolor": "white"
          }
         }
        },
        "title": {
         "text": "<b> bottom 5 Genre"
        },
        "xaxis": {
         "anchor": "y",
         "categoryarray": [
          "Musical",
          "Black Comedy",
          "Western",
          "Documentary",
          "Concert/Performance"
         ],
         "categoryorder": "array",
         "domain": [
          0,
          1
         ],
         "title": {
          "text": "Genre"
         }
        },
        "yaxis": {
         "anchor": "x",
         "domain": [
          0,
          1
         ],
         "title": {
          "text": "sum of Profit ($)"
         }
        }
       }
      },
      "text/html": [
       "<div>                            <div id=\"cfd40a6e-d340-4444-b0d3-c40c1e21bfc6\" class=\"plotly-graph-div\" style=\"height:525px; width:100%;\"></div>            <script type=\"text/javascript\">                require([\"plotly\"], function(Plotly) {                    window.PLOTLYENV=window.PLOTLYENV || {};                                    if (document.getElementById(\"cfd40a6e-d340-4444-b0d3-c40c1e21bfc6\")) {                    Plotly.newPlot(                        \"cfd40a6e-d340-4444-b0d3-c40c1e21bfc6\",                        [{\"alignmentgroup\":\"True\",\"bingroup\":\"x\",\"histfunc\":\"sum\",\"hovertemplate\":\"Genre=%{x}<br>sum of Profit ($)=%{y}<extra></extra>\",\"legendgroup\":\"Musical\",\"marker\":{\"color\":\"rgb(76,114,176)\",\"pattern\":{\"shape\":\"\"}},\"name\":\"Musical\",\"offsetgroup\":\"Musical\",\"orientation\":\"v\",\"showlegend\":true,\"texttemplate\":\"%{value}\",\"x\":[\"Musical\"],\"xaxis\":\"x\",\"y\":[2685547930],\"yaxis\":\"y\",\"type\":\"histogram\"},{\"alignmentgroup\":\"True\",\"bingroup\":\"x\",\"histfunc\":\"sum\",\"hovertemplate\":\"Genre=%{x}<br>sum of Profit ($)=%{y}<extra></extra>\",\"legendgroup\":\"Black Comedy\",\"marker\":{\"color\":\"rgb(221,132,82)\",\"pattern\":{\"shape\":\"\"}},\"name\":\"Black Comedy\",\"offsetgroup\":\"Black Comedy\",\"orientation\":\"v\",\"showlegend\":true,\"texttemplate\":\"%{value}\",\"x\":[\"Black Comedy\"],\"xaxis\":\"x\",\"y\":[1192156216],\"yaxis\":\"y\",\"type\":\"histogram\"},{\"alignmentgroup\":\"True\",\"bingroup\":\"x\",\"histfunc\":\"sum\",\"hovertemplate\":\"Genre=%{x}<br>sum of Profit ($)=%{y}<extra></extra>\",\"legendgroup\":\"Western\",\"marker\":{\"color\":\"rgb(85,168,104)\",\"pattern\":{\"shape\":\"\"}},\"name\":\"Western\",\"offsetgroup\":\"Western\",\"orientation\":\"v\",\"showlegend\":true,\"texttemplate\":\"%{value}\",\"x\":[\"Western\"],\"xaxis\":\"x\",\"y\":[481528611],\"yaxis\":\"y\",\"type\":\"histogram\"},{\"alignmentgroup\":\"True\",\"bingroup\":\"x\",\"histfunc\":\"sum\",\"hovertemplate\":\"Genre=%{x}<br>sum of Profit ($)=%{y}<extra></extra>\",\"legendgroup\":\"Documentary\",\"marker\":{\"color\":\"rgb(196,78,82)\",\"pattern\":{\"shape\":\"\"}},\"name\":\"Documentary\",\"offsetgroup\":\"Documentary\",\"orientation\":\"v\",\"showlegend\":true,\"texttemplate\":\"%{value}\",\"x\":[\"Documentary\"],\"xaxis\":\"x\",\"y\":[356143632],\"yaxis\":\"y\",\"type\":\"histogram\"},{\"alignmentgroup\":\"True\",\"bingroup\":\"x\",\"histfunc\":\"sum\",\"hovertemplate\":\"Genre=%{x}<br>sum of Profit ($)=%{y}<extra></extra>\",\"legendgroup\":\"Concert/Performance\",\"marker\":{\"color\":\"rgb(129,114,179)\",\"pattern\":{\"shape\":\"\"}},\"name\":\"Concert/Performance\",\"offsetgroup\":\"Concert/Performance\",\"orientation\":\"v\",\"showlegend\":true,\"texttemplate\":\"%{value}\",\"x\":[\"Concert/Performance\"],\"xaxis\":\"x\",\"y\":[119113089],\"yaxis\":\"y\",\"type\":\"histogram\"}],                        {\"template\":{\"data\":{\"barpolar\":[{\"marker\":{\"line\":{\"color\":\"rgb(234,234,242)\",\"width\":0.5},\"pattern\":{\"fillmode\":\"overlay\",\"size\":10,\"solidity\":0.2}},\"type\":\"barpolar\"}],\"bar\":[{\"error_x\":{\"color\":\"rgb(36,36,36)\"},\"error_y\":{\"color\":\"rgb(36,36,36)\"},\"marker\":{\"line\":{\"color\":\"rgb(234,234,242)\",\"width\":0.5},\"pattern\":{\"fillmode\":\"overlay\",\"size\":10,\"solidity\":0.2}},\"type\":\"bar\"}],\"carpet\":[{\"aaxis\":{\"endlinecolor\":\"rgb(36,36,36)\",\"gridcolor\":\"white\",\"linecolor\":\"white\",\"minorgridcolor\":\"white\",\"startlinecolor\":\"rgb(36,36,36)\"},\"baxis\":{\"endlinecolor\":\"rgb(36,36,36)\",\"gridcolor\":\"white\",\"linecolor\":\"white\",\"minorgridcolor\":\"white\",\"startlinecolor\":\"rgb(36,36,36)\"},\"type\":\"carpet\"}],\"choropleth\":[{\"colorbar\":{\"outlinewidth\":0,\"tickcolor\":\"rgb(36,36,36)\",\"ticklen\":8,\"ticks\":\"outside\",\"tickwidth\":2},\"type\":\"choropleth\"}],\"contourcarpet\":[{\"colorbar\":{\"outlinewidth\":0,\"tickcolor\":\"rgb(36,36,36)\",\"ticklen\":8,\"ticks\":\"outside\",\"tickwidth\":2},\"type\":\"contourcarpet\"}],\"contour\":[{\"colorbar\":{\"outlinewidth\":0,\"tickcolor\":\"rgb(36,36,36)\",\"ticklen\":8,\"ticks\":\"outside\",\"tickwidth\":2},\"colorscale\":[[0.0,\"rgb(2,4,25)\"],[0.06274509803921569,\"rgb(24,15,41)\"],[0.12549019607843137,\"rgb(47,23,57)\"],[0.18823529411764706,\"rgb(71,28,72)\"],[0.25098039215686274,\"rgb(97,30,82)\"],[0.3137254901960784,\"rgb(123,30,89)\"],[0.3764705882352941,\"rgb(150,27,91)\"],[0.4392156862745098,\"rgb(177,22,88)\"],[0.5019607843137255,\"rgb(203,26,79)\"],[0.5647058823529412,\"rgb(223,47,67)\"],[0.6274509803921569,\"rgb(236,76,61)\"],[0.6901960784313725,\"rgb(242,107,73)\"],[0.7529411764705882,\"rgb(244,135,95)\"],[0.8156862745098039,\"rgb(245,162,122)\"],[0.8784313725490196,\"rgb(246,188,153)\"],[0.9411764705882353,\"rgb(247,212,187)\"],[1.0,\"rgb(250,234,220)\"]],\"type\":\"contour\"}],\"heatmapgl\":[{\"colorbar\":{\"outlinewidth\":0,\"tickcolor\":\"rgb(36,36,36)\",\"ticklen\":8,\"ticks\":\"outside\",\"tickwidth\":2},\"colorscale\":[[0.0,\"rgb(2,4,25)\"],[0.06274509803921569,\"rgb(24,15,41)\"],[0.12549019607843137,\"rgb(47,23,57)\"],[0.18823529411764706,\"rgb(71,28,72)\"],[0.25098039215686274,\"rgb(97,30,82)\"],[0.3137254901960784,\"rgb(123,30,89)\"],[0.3764705882352941,\"rgb(150,27,91)\"],[0.4392156862745098,\"rgb(177,22,88)\"],[0.5019607843137255,\"rgb(203,26,79)\"],[0.5647058823529412,\"rgb(223,47,67)\"],[0.6274509803921569,\"rgb(236,76,61)\"],[0.6901960784313725,\"rgb(242,107,73)\"],[0.7529411764705882,\"rgb(244,135,95)\"],[0.8156862745098039,\"rgb(245,162,122)\"],[0.8784313725490196,\"rgb(246,188,153)\"],[0.9411764705882353,\"rgb(247,212,187)\"],[1.0,\"rgb(250,234,220)\"]],\"type\":\"heatmapgl\"}],\"heatmap\":[{\"colorbar\":{\"outlinewidth\":0,\"tickcolor\":\"rgb(36,36,36)\",\"ticklen\":8,\"ticks\":\"outside\",\"tickwidth\":2},\"colorscale\":[[0.0,\"rgb(2,4,25)\"],[0.06274509803921569,\"rgb(24,15,41)\"],[0.12549019607843137,\"rgb(47,23,57)\"],[0.18823529411764706,\"rgb(71,28,72)\"],[0.25098039215686274,\"rgb(97,30,82)\"],[0.3137254901960784,\"rgb(123,30,89)\"],[0.3764705882352941,\"rgb(150,27,91)\"],[0.4392156862745098,\"rgb(177,22,88)\"],[0.5019607843137255,\"rgb(203,26,79)\"],[0.5647058823529412,\"rgb(223,47,67)\"],[0.6274509803921569,\"rgb(236,76,61)\"],[0.6901960784313725,\"rgb(242,107,73)\"],[0.7529411764705882,\"rgb(244,135,95)\"],[0.8156862745098039,\"rgb(245,162,122)\"],[0.8784313725490196,\"rgb(246,188,153)\"],[0.9411764705882353,\"rgb(247,212,187)\"],[1.0,\"rgb(250,234,220)\"]],\"type\":\"heatmap\"}],\"histogram2dcontour\":[{\"colorbar\":{\"outlinewidth\":0,\"tickcolor\":\"rgb(36,36,36)\",\"ticklen\":8,\"ticks\":\"outside\",\"tickwidth\":2},\"colorscale\":[[0.0,\"rgb(2,4,25)\"],[0.06274509803921569,\"rgb(24,15,41)\"],[0.12549019607843137,\"rgb(47,23,57)\"],[0.18823529411764706,\"rgb(71,28,72)\"],[0.25098039215686274,\"rgb(97,30,82)\"],[0.3137254901960784,\"rgb(123,30,89)\"],[0.3764705882352941,\"rgb(150,27,91)\"],[0.4392156862745098,\"rgb(177,22,88)\"],[0.5019607843137255,\"rgb(203,26,79)\"],[0.5647058823529412,\"rgb(223,47,67)\"],[0.6274509803921569,\"rgb(236,76,61)\"],[0.6901960784313725,\"rgb(242,107,73)\"],[0.7529411764705882,\"rgb(244,135,95)\"],[0.8156862745098039,\"rgb(245,162,122)\"],[0.8784313725490196,\"rgb(246,188,153)\"],[0.9411764705882353,\"rgb(247,212,187)\"],[1.0,\"rgb(250,234,220)\"]],\"type\":\"histogram2dcontour\"}],\"histogram2d\":[{\"colorbar\":{\"outlinewidth\":0,\"tickcolor\":\"rgb(36,36,36)\",\"ticklen\":8,\"ticks\":\"outside\",\"tickwidth\":2},\"colorscale\":[[0.0,\"rgb(2,4,25)\"],[0.06274509803921569,\"rgb(24,15,41)\"],[0.12549019607843137,\"rgb(47,23,57)\"],[0.18823529411764706,\"rgb(71,28,72)\"],[0.25098039215686274,\"rgb(97,30,82)\"],[0.3137254901960784,\"rgb(123,30,89)\"],[0.3764705882352941,\"rgb(150,27,91)\"],[0.4392156862745098,\"rgb(177,22,88)\"],[0.5019607843137255,\"rgb(203,26,79)\"],[0.5647058823529412,\"rgb(223,47,67)\"],[0.6274509803921569,\"rgb(236,76,61)\"],[0.6901960784313725,\"rgb(242,107,73)\"],[0.7529411764705882,\"rgb(244,135,95)\"],[0.8156862745098039,\"rgb(245,162,122)\"],[0.8784313725490196,\"rgb(246,188,153)\"],[0.9411764705882353,\"rgb(247,212,187)\"],[1.0,\"rgb(250,234,220)\"]],\"type\":\"histogram2d\"}],\"histogram\":[{\"marker\":{\"pattern\":{\"fillmode\":\"overlay\",\"size\":10,\"solidity\":0.2}},\"type\":\"histogram\"}],\"mesh3d\":[{\"colorbar\":{\"outlinewidth\":0,\"tickcolor\":\"rgb(36,36,36)\",\"ticklen\":8,\"ticks\":\"outside\",\"tickwidth\":2},\"type\":\"mesh3d\"}],\"parcoords\":[{\"line\":{\"colorbar\":{\"outlinewidth\":0,\"tickcolor\":\"rgb(36,36,36)\",\"ticklen\":8,\"ticks\":\"outside\",\"tickwidth\":2}},\"type\":\"parcoords\"}],\"pie\":[{\"automargin\":true,\"type\":\"pie\"}],\"scatter3d\":[{\"line\":{\"colorbar\":{\"outlinewidth\":0,\"tickcolor\":\"rgb(36,36,36)\",\"ticklen\":8,\"ticks\":\"outside\",\"tickwidth\":2}},\"marker\":{\"colorbar\":{\"outlinewidth\":0,\"tickcolor\":\"rgb(36,36,36)\",\"ticklen\":8,\"ticks\":\"outside\",\"tickwidth\":2}},\"type\":\"scatter3d\"}],\"scattercarpet\":[{\"marker\":{\"colorbar\":{\"outlinewidth\":0,\"tickcolor\":\"rgb(36,36,36)\",\"ticklen\":8,\"ticks\":\"outside\",\"tickwidth\":2}},\"type\":\"scattercarpet\"}],\"scattergeo\":[{\"marker\":{\"colorbar\":{\"outlinewidth\":0,\"tickcolor\":\"rgb(36,36,36)\",\"ticklen\":8,\"ticks\":\"outside\",\"tickwidth\":2}},\"type\":\"scattergeo\"}],\"scattergl\":[{\"marker\":{\"colorbar\":{\"outlinewidth\":0,\"tickcolor\":\"rgb(36,36,36)\",\"ticklen\":8,\"ticks\":\"outside\",\"tickwidth\":2}},\"type\":\"scattergl\"}],\"scattermapbox\":[{\"marker\":{\"colorbar\":{\"outlinewidth\":0,\"tickcolor\":\"rgb(36,36,36)\",\"ticklen\":8,\"ticks\":\"outside\",\"tickwidth\":2}},\"type\":\"scattermapbox\"}],\"scatterpolargl\":[{\"marker\":{\"colorbar\":{\"outlinewidth\":0,\"tickcolor\":\"rgb(36,36,36)\",\"ticklen\":8,\"ticks\":\"outside\",\"tickwidth\":2}},\"type\":\"scatterpolargl\"}],\"scatterpolar\":[{\"marker\":{\"colorbar\":{\"outlinewidth\":0,\"tickcolor\":\"rgb(36,36,36)\",\"ticklen\":8,\"ticks\":\"outside\",\"tickwidth\":2}},\"type\":\"scatterpolar\"}],\"scatter\":[{\"marker\":{\"colorbar\":{\"outlinewidth\":0,\"tickcolor\":\"rgb(36,36,36)\",\"ticklen\":8,\"ticks\":\"outside\",\"tickwidth\":2}},\"type\":\"scatter\"}],\"scatterternary\":[{\"marker\":{\"colorbar\":{\"outlinewidth\":0,\"tickcolor\":\"rgb(36,36,36)\",\"ticklen\":8,\"ticks\":\"outside\",\"tickwidth\":2}},\"type\":\"scatterternary\"}],\"surface\":[{\"colorbar\":{\"outlinewidth\":0,\"tickcolor\":\"rgb(36,36,36)\",\"ticklen\":8,\"ticks\":\"outside\",\"tickwidth\":2},\"colorscale\":[[0.0,\"rgb(2,4,25)\"],[0.06274509803921569,\"rgb(24,15,41)\"],[0.12549019607843137,\"rgb(47,23,57)\"],[0.18823529411764706,\"rgb(71,28,72)\"],[0.25098039215686274,\"rgb(97,30,82)\"],[0.3137254901960784,\"rgb(123,30,89)\"],[0.3764705882352941,\"rgb(150,27,91)\"],[0.4392156862745098,\"rgb(177,22,88)\"],[0.5019607843137255,\"rgb(203,26,79)\"],[0.5647058823529412,\"rgb(223,47,67)\"],[0.6274509803921569,\"rgb(236,76,61)\"],[0.6901960784313725,\"rgb(242,107,73)\"],[0.7529411764705882,\"rgb(244,135,95)\"],[0.8156862745098039,\"rgb(245,162,122)\"],[0.8784313725490196,\"rgb(246,188,153)\"],[0.9411764705882353,\"rgb(247,212,187)\"],[1.0,\"rgb(250,234,220)\"]],\"type\":\"surface\"}],\"table\":[{\"cells\":{\"fill\":{\"color\":\"rgb(231,231,240)\"},\"line\":{\"color\":\"white\"}},\"header\":{\"fill\":{\"color\":\"rgb(183,183,191)\"},\"line\":{\"color\":\"white\"}},\"type\":\"table\"}]},\"layout\":{\"annotationdefaults\":{\"arrowcolor\":\"rgb(67,103,167)\"},\"autotypenumbers\":\"strict\",\"coloraxis\":{\"colorbar\":{\"outlinewidth\":0,\"tickcolor\":\"rgb(36,36,36)\",\"ticklen\":8,\"ticks\":\"outside\",\"tickwidth\":2}},\"colorscale\":{\"sequential\":[[0.0,\"rgb(2,4,25)\"],[0.06274509803921569,\"rgb(24,15,41)\"],[0.12549019607843137,\"rgb(47,23,57)\"],[0.18823529411764706,\"rgb(71,28,72)\"],[0.25098039215686274,\"rgb(97,30,82)\"],[0.3137254901960784,\"rgb(123,30,89)\"],[0.3764705882352941,\"rgb(150,27,91)\"],[0.4392156862745098,\"rgb(177,22,88)\"],[0.5019607843137255,\"rgb(203,26,79)\"],[0.5647058823529412,\"rgb(223,47,67)\"],[0.6274509803921569,\"rgb(236,76,61)\"],[0.6901960784313725,\"rgb(242,107,73)\"],[0.7529411764705882,\"rgb(244,135,95)\"],[0.8156862745098039,\"rgb(245,162,122)\"],[0.8784313725490196,\"rgb(246,188,153)\"],[0.9411764705882353,\"rgb(247,212,187)\"],[1.0,\"rgb(250,234,220)\"]],\"sequentialminus\":[[0.0,\"rgb(2,4,25)\"],[0.06274509803921569,\"rgb(24,15,41)\"],[0.12549019607843137,\"rgb(47,23,57)\"],[0.18823529411764706,\"rgb(71,28,72)\"],[0.25098039215686274,\"rgb(97,30,82)\"],[0.3137254901960784,\"rgb(123,30,89)\"],[0.3764705882352941,\"rgb(150,27,91)\"],[0.4392156862745098,\"rgb(177,22,88)\"],[0.5019607843137255,\"rgb(203,26,79)\"],[0.5647058823529412,\"rgb(223,47,67)\"],[0.6274509803921569,\"rgb(236,76,61)\"],[0.6901960784313725,\"rgb(242,107,73)\"],[0.7529411764705882,\"rgb(244,135,95)\"],[0.8156862745098039,\"rgb(245,162,122)\"],[0.8784313725490196,\"rgb(246,188,153)\"],[0.9411764705882353,\"rgb(247,212,187)\"],[1.0,\"rgb(250,234,220)\"]]},\"colorway\":[\"rgb(76,114,176)\",\"rgb(221,132,82)\",\"rgb(85,168,104)\",\"rgb(196,78,82)\",\"rgb(129,114,179)\",\"rgb(147,120,96)\",\"rgb(218,139,195)\",\"rgb(140,140,140)\",\"rgb(204,185,116)\",\"rgb(100,181,205)\"],\"font\":{\"color\":\"rgb(36,36,36)\"},\"geo\":{\"bgcolor\":\"white\",\"lakecolor\":\"white\",\"landcolor\":\"rgb(234,234,242)\",\"showlakes\":true,\"showland\":true,\"subunitcolor\":\"white\"},\"hoverlabel\":{\"align\":\"left\"},\"hovermode\":\"closest\",\"paper_bgcolor\":\"white\",\"plot_bgcolor\":\"rgb(234,234,242)\",\"polar\":{\"angularaxis\":{\"gridcolor\":\"white\",\"linecolor\":\"white\",\"showgrid\":true,\"ticks\":\"\"},\"bgcolor\":\"rgb(234,234,242)\",\"radialaxis\":{\"gridcolor\":\"white\",\"linecolor\":\"white\",\"showgrid\":true,\"ticks\":\"\"}},\"scene\":{\"xaxis\":{\"backgroundcolor\":\"rgb(234,234,242)\",\"gridcolor\":\"white\",\"gridwidth\":2,\"linecolor\":\"white\",\"showbackground\":true,\"showgrid\":true,\"ticks\":\"\",\"zerolinecolor\":\"white\"},\"yaxis\":{\"backgroundcolor\":\"rgb(234,234,242)\",\"gridcolor\":\"white\",\"gridwidth\":2,\"linecolor\":\"white\",\"showbackground\":true,\"showgrid\":true,\"ticks\":\"\",\"zerolinecolor\":\"white\"},\"zaxis\":{\"backgroundcolor\":\"rgb(234,234,242)\",\"gridcolor\":\"white\",\"gridwidth\":2,\"linecolor\":\"white\",\"showbackground\":true,\"showgrid\":true,\"ticks\":\"\",\"zerolinecolor\":\"white\"}},\"shapedefaults\":{\"fillcolor\":\"rgb(67,103,167)\",\"line\":{\"width\":0},\"opacity\":0.5},\"ternary\":{\"aaxis\":{\"gridcolor\":\"white\",\"linecolor\":\"white\",\"showgrid\":true,\"ticks\":\"\"},\"baxis\":{\"gridcolor\":\"white\",\"linecolor\":\"white\",\"showgrid\":true,\"ticks\":\"\"},\"bgcolor\":\"rgb(234,234,242)\",\"caxis\":{\"gridcolor\":\"white\",\"linecolor\":\"white\",\"showgrid\":true,\"ticks\":\"\"}},\"xaxis\":{\"automargin\":true,\"gridcolor\":\"white\",\"linecolor\":\"white\",\"showgrid\":true,\"ticks\":\"\",\"title\":{\"standoff\":15},\"zerolinecolor\":\"white\"},\"yaxis\":{\"automargin\":true,\"gridcolor\":\"white\",\"linecolor\":\"white\",\"showgrid\":true,\"ticks\":\"\",\"title\":{\"standoff\":15},\"zerolinecolor\":\"white\"}}},\"xaxis\":{\"anchor\":\"y\",\"domain\":[0.0,1.0],\"title\":{\"text\":\"Genre\"},\"categoryorder\":\"array\",\"categoryarray\":[\"Musical\",\"Black Comedy\",\"Western\",\"Documentary\",\"Concert/Performance\"]},\"yaxis\":{\"anchor\":\"x\",\"domain\":[0.0,1.0],\"title\":{\"text\":\"sum of Profit ($)\"}},\"legend\":{\"title\":{\"text\":\"Genre\"},\"tracegroupgap\":0},\"title\":{\"text\":\"<b> bottom 5 Genre\"},\"barmode\":\"relative\"},                        {\"responsive\": true}                    ).then(function(){\n",
       "                            \n",
       "var gd = document.getElementById('cfd40a6e-d340-4444-b0d3-c40c1e21bfc6');\n",
       "var x = new MutationObserver(function (mutations, observer) {{\n",
       "        var display = window.getComputedStyle(gd).display;\n",
       "        if (!display || display === 'none') {{\n",
       "            console.log([gd, 'removed!']);\n",
       "            Plotly.purge(gd);\n",
       "            observer.disconnect();\n",
       "        }}\n",
       "}});\n",
       "\n",
       "// Listen for the removal of the full notebook cells\n",
       "var notebookContainer = gd.closest('#notebook-container');\n",
       "if (notebookContainer) {{\n",
       "    x.observe(notebookContainer, {childList: true});\n",
       "}}\n",
       "\n",
       "// Listen for the clearing of the current output cell\n",
       "var outputEl = gd.closest('.output');\n",
       "if (outputEl) {{\n",
       "    x.observe(outputEl, {childList: true});\n",
       "}}\n",
       "\n",
       "                        })                };                });            </script>        </div>"
      ]
     },
     "metadata": {},
     "output_type": "display_data"
    }
   ],
   "source": [
    "px.histogram(Top_5[-5:], x=\"Genre\", y=\"Profit ($)\", template=\"seaborn\", color=\"Genre\",text_auto=True,\n",
    "            title=\"<b> bottom 5 Genre\")"
   ]
  },
  {
   "cell_type": "code",
   "execution_count": 62,
   "id": "73e1477b",
   "metadata": {},
   "outputs": [
    {
     "data": {
      "text/html": [
       "<div>\n",
       "<style scoped>\n",
       "    .dataframe tbody tr th:only-of-type {\n",
       "        vertical-align: middle;\n",
       "    }\n",
       "\n",
       "    .dataframe tbody tr th {\n",
       "        vertical-align: top;\n",
       "    }\n",
       "\n",
       "    .dataframe thead th {\n",
       "        text-align: right;\n",
       "    }\n",
       "</style>\n",
       "<table border=\"1\" class=\"dataframe\">\n",
       "  <thead>\n",
       "    <tr style=\"text-align: right;\">\n",
       "      <th></th>\n",
       "      <th>Profit ($)</th>\n",
       "    </tr>\n",
       "    <tr>\n",
       "      <th>Movie Title</th>\n",
       "      <th></th>\n",
       "    </tr>\n",
       "  </thead>\n",
       "  <tbody>\n",
       "    <tr>\n",
       "      <th>Gone With The Wind</th>\n",
       "      <td>6580854308</td>\n",
       "    </tr>\n",
       "    <tr>\n",
       "      <th>Star Wars Ep. Iv: A New Hope</th>\n",
       "      <td>3029129982</td>\n",
       "    </tr>\n",
       "    <tr>\n",
       "      <th>Titanic</th>\n",
       "      <td>2961335132</td>\n",
       "    </tr>\n",
       "    <tr>\n",
       "      <th>Avatar</th>\n",
       "      <td>2604185537</td>\n",
       "    </tr>\n",
       "    <tr>\n",
       "      <th>Jaws</th>\n",
       "      <td>2018738894</td>\n",
       "    </tr>\n",
       "    <tr>\n",
       "      <th>Et: The Extra-terrestrial</th>\n",
       "      <td>1919059709</td>\n",
       "    </tr>\n",
       "    <tr>\n",
       "      <th>Jurassic Park</th>\n",
       "      <td>1599656485</td>\n",
       "    </tr>\n",
       "    <tr>\n",
       "      <th>Star Wars Ep. V: The Empire Strikes Back</th>\n",
       "      <td>1468532853</td>\n",
       "    </tr>\n",
       "    <tr>\n",
       "      <th>The Lion King</th>\n",
       "      <td>1451058615</td>\n",
       "    </tr>\n",
       "    <tr>\n",
       "      <th>Jurassic World</th>\n",
       "      <td>1422718166</td>\n",
       "    </tr>\n",
       "  </tbody>\n",
       "</table>\n",
       "</div>"
      ],
      "text/plain": [
       "                                          Profit ($)\n",
       "Movie Title                                         \n",
       "Gone With The Wind                        6580854308\n",
       "Star Wars Ep. Iv: A New Hope              3029129982\n",
       "Titanic                                   2961335132\n",
       "Avatar                                    2604185537\n",
       "Jaws                                      2018738894\n",
       "Et: The Extra-terrestrial                 1919059709\n",
       "Jurassic Park                             1599656485\n",
       "Star Wars Ep. V: The Empire Strikes Back  1468532853\n",
       "The Lion King                             1451058615\n",
       "Jurassic World                            1422718166"
      ]
     },
     "execution_count": 62,
     "metadata": {},
     "output_type": "execute_result"
    }
   ],
   "source": [
    "\n",
    "# Top 10 Movies\n",
    "dataset.groupby([\"Movie Title\"])[[\"Profit ($)\"]].sum().sort_values(by = \"Profit ($)\", ascending=False).head(10)\n"
   ]
  },
  {
   "cell_type": "code",
   "execution_count": 68,
   "id": "6628c2d7",
   "metadata": {},
   "outputs": [
    {
     "data": {
      "text/plain": [
       "<AxesSubplot:>"
      ]
     },
     "execution_count": 68,
     "metadata": {},
     "output_type": "execute_result"
    },
    {
     "data": {
      "image/png": "[encoded data removed]",
      "text/plain": [
       "<Figure size 1440x1440 with 2 Axes>"
      ]
     },
     "metadata": {
      "needs_background": "light"
     },
     "output_type": "display_data"
    }
   ],
   "source": [
    "## Correlation\n",
    "plt.figure(figsize=(20,20))\n",
    "sns.heatmap(dataset.corr(), annot=True ,  cmap=\"Greens\")"
   ]
  },
  {
   "cell_type": "code",
   "execution_count": 69,
   "id": "5a92fac9",
   "metadata": {},
   "outputs": [
    {
     "data": {
      "text/plain": [
       "Index(['Genre', 'Production Company', 'Director', 'Movie Title', 'Top Actor',\n",
       "       'Release year', 'MPAA Rating', 'Creative Type', 'Source',\n",
       "       'Video Release', 'Production Method', 'MovieLens Rating',\n",
       "       'Movie Length (min)', 'Opening Weekend Theaters', 'Maximum Theaters',\n",
       "       'Release Date', 'Global Box Office ($)', 'U.S. Box Office ($)',\n",
       "       'Int'l Box Office ($)', 'Budget ($)', 'Profit ($)',\n",
       "       'Opening Weekend ($)', 'U.S. DVD + BluRay Sales ($)'],\n",
       "      dtype='object')"
      ]
     },
     "execution_count": 69,
     "metadata": {},
     "output_type": "execute_result"
    }
   ],
   "source": [
    "dataset.columns"
   ]
  },
  {
   "cell_type": "code",
   "execution_count": 72,
   "id": "a8e92e74",
   "metadata": {},
   "outputs": [
    {
     "data": {
      "text/plain": [
       "Index(['Genre', 'Production Company', 'Director', 'Movie Title', 'Top Actor',\n",
       "       'MPAA Rating', 'Creative Type', 'Source', 'Production Method'],\n",
       "      dtype='object')"
      ]
     },
     "execution_count": 72,
     "metadata": {},
     "output_type": "execute_result"
    }
   ],
   "source": [
    "Cat_var = dataset.select_dtypes(include=\"O\").columns\n",
    "Cat_var"
   ]
  },
  {
   "cell_type": "code",
   "execution_count": 84,
   "id": "fef50d0d",
   "metadata": {},
   "outputs": [
    {
     "data": {
      "text/html": [
       "<div>\n",
       "<style scoped>\n",
       "    .dataframe tbody tr th:only-of-type {\n",
       "        vertical-align: middle;\n",
       "    }\n",
       "\n",
       "    .dataframe tbody tr th {\n",
       "        vertical-align: top;\n",
       "    }\n",
       "\n",
       "    .dataframe thead th {\n",
       "        text-align: right;\n",
       "    }\n",
       "</style>\n",
       "<table border=\"1\" class=\"dataframe\">\n",
       "  <thead>\n",
       "    <tr style=\"text-align: right;\">\n",
       "      <th></th>\n",
       "      <th>Top Actor</th>\n",
       "      <th>Profit ($)</th>\n",
       "    </tr>\n",
       "  </thead>\n",
       "  <tbody>\n",
       "    <tr>\n",
       "      <th>740</th>\n",
       "      <td>Tom Hanks</td>\n",
       "      <td>6653573690</td>\n",
       "    </tr>\n",
       "    <tr>\n",
       "      <th>761</th>\n",
       "      <td>Vivien Leigh</td>\n",
       "      <td>6580854308</td>\n",
       "    </tr>\n",
       "    <tr>\n",
       "      <th>162</th>\n",
       "      <td>Daniel Radcliffe</td>\n",
       "      <td>5678254772</td>\n",
       "    </tr>\n",
       "    <tr>\n",
       "      <th>374</th>\n",
       "      <td>Johnny Depp</td>\n",
       "      <td>5643019692</td>\n",
       "    </tr>\n",
       "    <tr>\n",
       "      <th>625</th>\n",
       "      <td>Robert Downey, Jr.</td>\n",
       "      <td>5500892246</td>\n",
       "    </tr>\n",
       "    <tr>\n",
       "      <th>738</th>\n",
       "      <td>Tom Cruise</td>\n",
       "      <td>5077316889</td>\n",
       "    </tr>\n",
       "    <tr>\n",
       "      <th>465</th>\n",
       "      <td>Leonardo Dicaprio</td>\n",
       "      <td>4774959367</td>\n",
       "    </tr>\n",
       "    <tr>\n",
       "      <th>486</th>\n",
       "      <td>Mark Hamill</td>\n",
       "      <td>4497662835</td>\n",
       "    </tr>\n",
       "    <tr>\n",
       "      <th>100</th>\n",
       "      <td>Bruce Willis</td>\n",
       "      <td>4386306859</td>\n",
       "    </tr>\n",
       "    <tr>\n",
       "      <th>532</th>\n",
       "      <td>Mike Myers</td>\n",
       "      <td>3847336605</td>\n",
       "    </tr>\n",
       "  </tbody>\n",
       "</table>\n",
       "</div>"
      ],
      "text/plain": [
       "              Top Actor  Profit ($)\n",
       "740           Tom Hanks  6653573690\n",
       "761        Vivien Leigh  6580854308\n",
       "162    Daniel Radcliffe  5678254772\n",
       "374         Johnny Depp  5643019692\n",
       "625  Robert Downey, Jr.  5500892246\n",
       "738          Tom Cruise  5077316889\n",
       "465   Leonardo Dicaprio  4774959367\n",
       "486         Mark Hamill  4497662835\n",
       "100        Bruce Willis  4386306859\n",
       "532          Mike Myers  3847336605"
      ]
     },
     "execution_count": 84,
     "metadata": {},
     "output_type": "execute_result"
    }
   ],
   "source": [
    "dataset.groupby(\"Top Actor\", as_index=False)[[\"Profit ($)\"]].sum().sort_values(by=\"Profit ($)\", ascending = False)[:10]"
   ]
  },
  {
   "cell_type": "code",
   "execution_count": 86,
   "id": "7b646206",
   "metadata": {},
   "outputs": [
    {
     "data": {
      "text/html": [
       "<div>\n",
       "<style scoped>\n",
       "    .dataframe tbody tr th:only-of-type {\n",
       "        vertical-align: middle;\n",
       "    }\n",
       "\n",
       "    .dataframe tbody tr th {\n",
       "        vertical-align: top;\n",
       "    }\n",
       "\n",
       "    .dataframe thead th {\n",
       "        text-align: right;\n",
       "    }\n",
       "</style>\n",
       "<table border=\"1\" class=\"dataframe\">\n",
       "  <thead>\n",
       "    <tr style=\"text-align: right;\">\n",
       "      <th></th>\n",
       "      <th>Release year</th>\n",
       "      <th>Profit ($)</th>\n",
       "    </tr>\n",
       "  </thead>\n",
       "  <tbody>\n",
       "    <tr>\n",
       "      <th>34</th>\n",
       "      <td>2012</td>\n",
       "      <td>18288618324</td>\n",
       "    </tr>\n",
       "    <tr>\n",
       "      <th>35</th>\n",
       "      <td>2013</td>\n",
       "      <td>17591453874</td>\n",
       "    </tr>\n",
       "    <tr>\n",
       "      <th>36</th>\n",
       "      <td>2014</td>\n",
       "      <td>17221927348</td>\n",
       "    </tr>\n",
       "    <tr>\n",
       "      <th>33</th>\n",
       "      <td>2011</td>\n",
       "      <td>16790026692</td>\n",
       "    </tr>\n",
       "    <tr>\n",
       "      <th>31</th>\n",
       "      <td>2009</td>\n",
       "      <td>14596195835</td>\n",
       "    </tr>\n",
       "    <tr>\n",
       "      <th>32</th>\n",
       "      <td>2010</td>\n",
       "      <td>13975072373</td>\n",
       "    </tr>\n",
       "    <tr>\n",
       "      <th>30</th>\n",
       "      <td>2008</td>\n",
       "      <td>11860472827</td>\n",
       "    </tr>\n",
       "    <tr>\n",
       "      <th>26</th>\n",
       "      <td>2004</td>\n",
       "      <td>10799777610</td>\n",
       "    </tr>\n",
       "    <tr>\n",
       "      <th>29</th>\n",
       "      <td>2007</td>\n",
       "      <td>10780243371</td>\n",
       "    </tr>\n",
       "    <tr>\n",
       "      <th>24</th>\n",
       "      <td>2002</td>\n",
       "      <td>10442184563</td>\n",
       "    </tr>\n",
       "    <tr>\n",
       "      <th>27</th>\n",
       "      <td>2005</td>\n",
       "      <td>10365503837</td>\n",
       "    </tr>\n",
       "    <tr>\n",
       "      <th>37</th>\n",
       "      <td>2015</td>\n",
       "      <td>9785509183</td>\n",
       "    </tr>\n",
       "    <tr>\n",
       "      <th>25</th>\n",
       "      <td>2003</td>\n",
       "      <td>9352778006</td>\n",
       "    </tr>\n",
       "    <tr>\n",
       "      <th>28</th>\n",
       "      <td>2006</td>\n",
       "      <td>9251684364</td>\n",
       "    </tr>\n",
       "    <tr>\n",
       "      <th>23</th>\n",
       "      <td>2001</td>\n",
       "      <td>8706493957</td>\n",
       "    </tr>\n",
       "    <tr>\n",
       "      <th>21</th>\n",
       "      <td>1999</td>\n",
       "      <td>7798456524</td>\n",
       "    </tr>\n",
       "    <tr>\n",
       "      <th>19</th>\n",
       "      <td>1997</td>\n",
       "      <td>7270537819</td>\n",
       "    </tr>\n",
       "    <tr>\n",
       "      <th>22</th>\n",
       "      <td>2000</td>\n",
       "      <td>7268997190</td>\n",
       "    </tr>\n",
       "    <tr>\n",
       "      <th>20</th>\n",
       "      <td>1998</td>\n",
       "      <td>6630860700</td>\n",
       "    </tr>\n",
       "    <tr>\n",
       "      <th>0</th>\n",
       "      <td>1939</td>\n",
       "      <td>6580854308</td>\n",
       "    </tr>\n",
       "    <tr>\n",
       "      <th>5</th>\n",
       "      <td>1977</td>\n",
       "      <td>3029129982</td>\n",
       "    </tr>\n",
       "    <tr>\n",
       "      <th>17</th>\n",
       "      <td>1994</td>\n",
       "      <td>2776793533</td>\n",
       "    </tr>\n",
       "    <tr>\n",
       "      <th>4</th>\n",
       "      <td>1975</td>\n",
       "      <td>2018738894</td>\n",
       "    </tr>\n",
       "    <tr>\n",
       "      <th>9</th>\n",
       "      <td>1982</td>\n",
       "      <td>1931667635</td>\n",
       "    </tr>\n",
       "    <tr>\n",
       "      <th>16</th>\n",
       "      <td>1993</td>\n",
       "      <td>1599656485</td>\n",
       "    </tr>\n",
       "    <tr>\n",
       "      <th>7</th>\n",
       "      <td>1980</td>\n",
       "      <td>1468532853</td>\n",
       "    </tr>\n",
       "    <tr>\n",
       "      <th>18</th>\n",
       "      <td>1995</td>\n",
       "      <td>948827944</td>\n",
       "    </tr>\n",
       "    <tr>\n",
       "      <th>8</th>\n",
       "      <td>1981</td>\n",
       "      <td>924931868</td>\n",
       "    </tr>\n",
       "    <tr>\n",
       "      <th>14</th>\n",
       "      <td>1991</td>\n",
       "      <td>750302989</td>\n",
       "    </tr>\n",
       "    <tr>\n",
       "      <th>11</th>\n",
       "      <td>1986</td>\n",
       "      <td>737883307</td>\n",
       "    </tr>\n",
       "    <tr>\n",
       "      <th>6</th>\n",
       "      <td>1979</td>\n",
       "      <td>634775107</td>\n",
       "    </tr>\n",
       "    <tr>\n",
       "      <th>15</th>\n",
       "      <td>1992</td>\n",
       "      <td>634176148</td>\n",
       "    </tr>\n",
       "    <tr>\n",
       "      <th>10</th>\n",
       "      <td>1984</td>\n",
       "      <td>604425444</td>\n",
       "    </tr>\n",
       "    <tr>\n",
       "      <th>2</th>\n",
       "      <td>1963</td>\n",
       "      <td>453136921</td>\n",
       "    </tr>\n",
       "    <tr>\n",
       "      <th>13</th>\n",
       "      <td>1990</td>\n",
       "      <td>312279355</td>\n",
       "    </tr>\n",
       "    <tr>\n",
       "      <th>12</th>\n",
       "      <td>1988</td>\n",
       "      <td>220986985</td>\n",
       "    </tr>\n",
       "    <tr>\n",
       "      <th>1</th>\n",
       "      <td>1943</td>\n",
       "      <td>128925452</td>\n",
       "    </tr>\n",
       "    <tr>\n",
       "      <th>3</th>\n",
       "      <td>1964</td>\n",
       "      <td>7468673</td>\n",
       "    </tr>\n",
       "  </tbody>\n",
       "</table>\n",
       "</div>"
      ],
      "text/plain": [
       "    Release year   Profit ($)\n",
       "34          2012  18288618324\n",
       "35          2013  17591453874\n",
       "36          2014  17221927348\n",
       "33          2011  16790026692\n",
       "31          2009  14596195835\n",
       "32          2010  13975072373\n",
       "30          2008  11860472827\n",
       "26          2004  10799777610\n",
       "29          2007  10780243371\n",
       "24          2002  10442184563\n",
       "27          2005  10365503837\n",
       "37          2015   9785509183\n",
       "25          2003   9352778006\n",
       "28          2006   9251684364\n",
       "23          2001   8706493957\n",
       "21          1999   7798456524\n",
       "19          1997   7270537819\n",
       "22          2000   7268997190\n",
       "20          1998   6630860700\n",
       "0           1939   6580854308\n",
       "5           1977   3029129982\n",
       "17          1994   2776793533\n",
       "4           1975   2018738894\n",
       "9           1982   1931667635\n",
       "16          1993   1599656485\n",
       "7           1980   1468532853\n",
       "18          1995    948827944\n",
       "8           1981    924931868\n",
       "14          1991    750302989\n",
       "11          1986    737883307\n",
       "6           1979    634775107\n",
       "15          1992    634176148\n",
       "10          1984    604425444\n",
       "2           1963    453136921\n",
       "13          1990    312279355\n",
       "12          1988    220986985\n",
       "1           1943    128925452\n",
       "3           1964      7468673"
      ]
     },
     "execution_count": 86,
     "metadata": {},
     "output_type": "execute_result"
    }
   ],
   "source": [
    "dataset.groupby(\"Release year\", as_index=False)[[\"Profit ($)\"]].sum().sort_values(by=\"Profit ($)\", ascending = False)"
   ]
  },
  {
   "cell_type": "code",
   "execution_count": 89,
   "id": "1a49253a",
   "metadata": {},
   "outputs": [
    {
     "data": {
      "text/plain": [
       "2011    207\n",
       "2012    177\n",
       "2014    161\n",
       "2013    161\n",
       "2010    133\n",
       "2015     87\n",
       "2008     86\n",
       "2009     82\n",
       "2006     79\n",
       "2005     74\n",
       "Name: Release year, dtype: int64"
      ]
     },
     "execution_count": 89,
     "metadata": {},
     "output_type": "execute_result"
    }
   ],
   "source": [
    "dataset[\"Release year\"].value_counts(ascending=False)[:10]"
   ]
  },
  {
   "cell_type": "code",
   "execution_count": null,
   "id": "e1d640d5",
   "metadata": {},
   "outputs": [],
   "source": []
  }
 ],
 "metadata": {
  "kernelspec": {
   "display_name": "Python 3 (ipykernel)",
   "language": "python",
   "name": "python3"
  },
  "language_info": {
   "codemirror_mode": {
    "name": "ipython",
    "version": 3
   },
   "file_extension": ".py",
   "mimetype": "text/x-python",
   "name": "python",
   "nbconvert_exporter": "python",
   "pygments_lexer": "ipython3",
   "version": "3.9.12"
  }
 },
 "nbformat": 4,
 "nbformat_minor": 5
}
